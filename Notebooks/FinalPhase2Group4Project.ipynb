{
 "cells": [
  {
   "cell_type": "markdown",
   "id": "615392a7",
   "metadata": {},
   "source": [
    "\n",
    "# Comprehensive Movie Data Analysis\n",
    "# 1. Business Understanding\n",
    "\n",
    "This notebook provides a structured approach to analyzing movie datasets to answer the business question:\n",
    "\n",
    "**\"What kinds of movies should a new studio produce for financial success?\"**\n",
    "\n",
    "We will proceed through the following sections:\n",
    "1. Business Understanding\n",
    "2. Data Understanding\n",
    "3. Data Preparation\n",
    "4. Data Analysis\n",
    "5. Visualization\n",
    "\n",
    "**Objectives:**\n",
    "- Analyze which genres are most profitable.\n",
    "- Examine the relationship between production budget and revenue.\n",
    "- Assess the impact of review scores on financial performance.\n",
    "\n",
    "By integrating multiple movie datasets, we aim to provide actionable insights for new studios to maximize their chances of financial success.\n",
    "\n",
    "**Import Required Libraries**\n",
    "\n",
    "Import all necessary libraries for data manipulation, visualization, and analysis."
   ]
  },
  {
   "cell_type": "code",
   "execution_count": null,
   "id": "fcc53eed",
   "metadata": {},
   "outputs": [],
   "source": [
    "import pandas as pd\n",
    "import numpy as np\n",
    "import matplotlib.pyplot as plt\n",
    "import seaborn as sns\n",
    "import sqlite3"
   ]
  },
  {
   "cell_type": "markdown",
   "id": "16035f79",
   "metadata": {},
   "source": [
    "# 2. Data Understanding\n",
    "**Load and Inspect Datasets**\n",
    "\n",
    "Loading all provided datasets (CSV, TSV, SQLite) into pandas DataFrames. Displaying the first few rows and data types for each DataFrame. Printing the shape of each DataFrame to confirm successful loading."
   ]
  },
  {
   "cell_type": "code",
   "execution_count": null,
   "id": "dbd0a0e1",
   "metadata": {},
   "outputs": [],
   "source": [
    "# File paths\n",
    "bom_path = r'C:\\Users\\DAVID\\Documents\\Moringa\\Phase2\\Assessments\\dsc-phase-2-project-PT11-Group4\\Data\\bom.movie_gross.csv'\n",
    "tn_path = r'C:\\Users\\DAVID\\Documents\\Moringa\\Phase2\\Assessments\\dsc-phase-2-project-PT11-Group4\\Data\\tn.movie_budgets.csv'\n",
    "tmdb_path = r'C:\\Users\\DAVID\\Documents\\Moringa\\Phase2\\Assessments\\dsc-phase-2-project-PT11-Group4\\Data\\tmdb.movies.csv'\n",
    "rt_info_path = r'C:\\Users\\DAVID\\Documents\\Moringa\\Phase2\\Assessments\\dsc-phase-2-project-PT11-Group4\\Data\\rt.movie_info.tsv'\n",
    "rt_reviews_path = r'C:\\Users\\DAVID\\Documents\\Moringa\\Phase2\\Assessments\\dsc-phase-2-project-PT11-Group4\\Data\\rt.reviews.tsv'\n",
    "imdb_db_path = r'C:\\Users\\DAVID\\Documents\\Moringa\\Phase2\\Assessments\\dsc-phase-2-project-PT11-Group4\\Data\\im.db'\n",
    "\n",
    "# Load CSV/TSV files\n",
    "df_bom = pd.read_csv(bom_path)\n",
    "df_tn = pd.read_csv(tn_path, encoding='latin-1')\n",
    "df_tmdb = pd.read_csv(tmdb_path)\n",
    "df_rt_info = pd.read_csv(rt_info_path, sep='\\t')\n",
    "df_rt_reviews = pd.read_csv(rt_reviews_path,encoding='latin-1',sep='\\t')\n",
    "\n",
    "# Load SQLite tables\n",
    "conn = sqlite3.connect(imdb_db_path)\n",
    "df_movie_basics = pd.read_sql_query(\"SELECT * FROM movie_basics\", conn)\n",
    "df_movie_ratings = pd.read_sql_query(\"SELECT * FROM movie_ratings\", conn)\n",
    "conn.close()\n",
    "\n",
    "# Inspect DataFrames\n",
    "for name, df in [\n",
    "    (\"df_bom\", df_bom), (\"df_tn\", df_tn), (\"df_tmdb\", df_tmdb),\n",
    "    (\"df_rt_info\", df_rt_info), (\"df_rt_reviews\", df_rt_reviews),\n",
    "    (\"df_movie_basics\", df_movie_basics), (\"df_movie_ratings\", df_movie_ratings)\n",
    "]:\n",
    "    print(f\"{name}: shape={df.shape}\")\n",
    "    display(df.head())\n",
    "    display(df.dtypes)"
   ]
  },
  {
   "cell_type": "markdown",
   "id": "ac401bca",
   "metadata": {},
   "source": [
    "# 3. Data Preparation\n",
    "**Cleaning and Preparing Data**\n",
    "\n",
    "Handling missing values, removing duplicates, standardizing column names, and ensuring consistent data types. Converting relevant columns to numeric or datetime as needed. Addressing encoding issues and outliers."
   ]
  },
  {
   "cell_type": "code",
   "execution_count": null,
   "id": "6841bf1e",
   "metadata": {},
   "outputs": [],
   "source": [
    "# Clean df_tn\n",
    "for col in ['production_budget', 'domestic_gross', 'worldwide_gross']:\n",
    "    df_tn[col] = df_tn[col].astype(str).str.replace(r'[$,]', '', regex=True)\n",
    "    df_tn[col] = pd.to_numeric(df_tn[col], errors='coerce')\n",
    "df_tn['release_date'] = pd.to_datetime(df_tn['release_date'], errors='coerce')\n",
    "df_tn = df_tn.drop_duplicates()\n",
    "df_tn.columns = df_tn.columns.str.lower().str.replace(' ', '_')\n",
    "df_tn = df_tn.fillna(0)\n",
    "\n",
    "# Remove outliers using IQR for financial columns\n",
    "for col in ['production_budget', 'domestic_gross', 'worldwide_gross']:\n",
    "    Q1 = df_tn[col].quantile(0.25)\n",
    "    Q3 = df_tn[col].quantile(0.75)\n",
    "    IQR = Q3 - Q1\n",
    "    df_tn = df_tn[(df_tn[col] >= Q1 - 1.5 * IQR) & (df_tn[col] <= Q3 + 1.5 * IQR)]\n",
    "\n",
    "# Clean df_bom\n",
    "df_bom.columns = df_bom.columns.str.lower().str.replace(' ', '_')\n",
    "df_bom = df_bom.drop_duplicates()\n",
    "\n",
    "# Clean df_tmdb\n",
    "df_tmdb.columns = df_tmdb.columns.str.lower().str.replace(' ', '_')\n",
    "df_tmdb['release_date'] = pd.to_datetime(df_tmdb['release_date'], errors='coerce')\n",
    "df_tmdb = df_tmdb.drop_duplicates()\n",
    "\n",
    "# Clean df_rt_info\n",
    "df_rt_info.columns = df_rt_info.columns.str.lower().str.replace(' ', '_')\n",
    "df_rt_info['theater_date'] = pd.to_datetime(df_rt_info['theater_date'], errors='coerce')\n",
    "df_rt_info['dvd_date'] = pd.to_datetime(df_rt_info['dvd_date'], errors='coerce')\n",
    "df_rt_info = df_rt_info.drop_duplicates()\n",
    "\n",
    "# Clean df_rt_reviews\n",
    "df_rt_reviews.columns = df_rt_reviews.columns.str.lower().str.replace(' ', '_')\n",
    "df_rt_reviews = df_rt_reviews.drop_duplicates()\n",
    "\n",
    "# Clean IMDB tables\n",
    "df_movie_basics.columns = df_movie_basics.columns.str.lower().str.replace(' ', '_')\n",
    "df_movie_ratings.columns = df_movie_ratings.columns.str.lower().str.replace(' ', '_')"
   ]
  },
  {
   "cell_type": "markdown",
   "id": "5b496c8e",
   "metadata": {},
   "source": [
    "# 4. Data Analysis\n",
    "**Merging Datasets and Feature Engineering**\n",
    "\n",
    "Merging the cleaned datasets on appropriate keys (e.g., movie title or ID). Creating new features such as total revenue, profit margin, and ROI. Preparing genre information for analysis."
   ]
  },
  {
   "cell_type": "code",
   "execution_count": null,
   "id": "17aca1eb",
   "metadata": {},
   "outputs": [],
   "source": [
    "# Merge tn and tmdb on movie/original_title\n",
    "df_merged = pd.merge(df_tn, df_tmdb, left_on='movie', right_on='original_title', how='inner')\n",
    "\n",
    "# Merge with bom on movie/title\n",
    "df_merged = pd.merge(df_merged, df_bom, left_on='movie', right_on='title', how='left')\n",
    "\n",
    "# Merge with rt_info on movie/id (ensure type match)\n",
    "df_rt_info['id'] = df_rt_info['id'].astype(str)\n",
    "df_merged = pd.merge(df_merged, df_rt_info, left_on='movie', right_on='id', how='left')\n",
    "\n",
    "# Feature engineering\n",
    "df_merged['total_revenue'] = df_merged['domestic_gross_x'] + df_merged['worldwide_gross']\n",
    "df_merged['profit_margin'] = (df_merged['total_revenue'] - df_merged['production_budget']) / df_merged['total_revenue']\n",
    "df_merged['profit_margin'] = df_merged['profit_margin'].fillna(0)\n",
    "df_merged['roi'] = (df_merged['total_revenue'] - df_merged['production_budget']) / df_merged['production_budget']\n",
    "df_merged['roi'] = df_merged['roi'].fillna(0)\n",
    "\n",
    "# Prepare genre information\n",
    "def extract_genre_ids(genre_str):\n",
    "    if isinstance(genre_str, str):\n",
    "        try:\n",
    "            return [int(x) for x in genre_str[1:-1].split(',') if x.strip() != '']\n",
    "        except:\n",
    "            return []\n",
    "    else:\n",
    "        return []\n",
    "df_merged['genre_ids_list'] = df_merged['genre_ids'].apply(extract_genre_ids)"
   ]
  },
  {
   "cell_type": "markdown",
   "id": "fd55dc4e",
   "metadata": {},
   "source": [
    "**Exploratory Data Analysis: Key Variables**\n",
    "\n",
    "Analyzing distributions and relationships between production budget, revenue, ratings, and ROI. Visualizing correlations and summary statistics to identify patterns."
   ]
  },
  {
   "cell_type": "code",
   "execution_count": null,
   "id": "7194acb9",
   "metadata": {},
   "outputs": [],
   "source": [
    "# Correlation matrix\n",
    "corr = df_merged[['production_budget', 'total_revenue', 'profit_margin', 'roi']].corr()\n",
    "display(corr)\n",
    "\n",
    "# Scatter plots\n",
    "plt.figure(figsize=(15, 10))\n",
    "plt.subplot(2, 2, 1)\n",
    "sns.scatterplot(data=df_merged, x='production_budget', y='total_revenue')\n",
    "plt.title('Production Budget vs. Total Revenue')\n",
    "plt.subplot(2, 2, 2)\n",
    "sns.scatterplot(data=df_merged, x='production_budget', y='profit_margin')\n",
    "plt.title('Production Budget vs. Profit Margin')\n",
    "plt.subplot(2, 2, 3)\n",
    "sns.scatterplot(data=df_merged, x='production_budget', y='roi')\n",
    "plt.title('Production Budget vs. ROI')\n",
    "plt.subplot(2, 2, 4)\n",
    "sns.scatterplot(data=df_merged, x='total_revenue', y='roi')\n",
    "plt.title('Total Revenue vs. ROI')\n",
    "plt.tight_layout()\n",
    "plt.show()"
   ]
  },
  {
   "cell_type": "markdown",
   "id": "ba96b50c",
   "metadata": {},
   "source": [
    "**Genre Analysis and Visualization**\n",
    "\n",
    "Analyzing the performance of different genres using ROI and revenue metrics. Creating bar charts to visualize average ROI by genre and genre popularity over time."
   ]
  },
  {
   "cell_type": "code",
   "execution_count": null,
   "id": "0a987fb8",
   "metadata": {},
   "outputs": [],
   "source": [
    "# Average ROI by genre\n",
    "genre_roi = df_merged.explode('genre_ids_list').groupby('genre_ids_list')['roi'].mean().sort_values(ascending=False)\n",
    "plt.figure(figsize=(12, 6))\n",
    "sns.barplot(x=genre_roi.index, y=genre_roi.values, palette='viridis')\n",
    "plt.title('Average ROI by Genre')\n",
    "plt.xlabel('Genre ID')\n",
    "plt.ylabel('Average ROI')\n",
    "plt.xticks(rotation=45, ha='right')\n",
    "plt.tight_layout()\n",
    "plt.show()\n",
    "\n",
    "# Genre popularity over time\n",
    "df_merged['release_year'] = pd.to_datetime(df_merged['release_date_x'], errors='coerce').dt.year\n",
    "plt.figure(figsize=(14, 8))\n",
    "for genre_id in df_merged['genre_ids_list'].explode().unique():\n",
    "    genre_movies = df_merged.explode('genre_ids_list').loc[df_merged.explode('genre_ids_list')['genre_ids_list'] == genre_id]\n",
    "    sns.lineplot(x='release_year', y='movie', data=genre_movies, label=genre_id, estimator=len)\n",
    "plt.title('Genre Popularity Over Time')\n",
    "plt.xlabel('Release Year')\n",
    "plt.ylabel('Number of Movies')\n",
    "plt.legend(title='Genre ID', bbox_to_anchor=(1.05, 1), loc='upper left')\n",
    "plt.tight_layout()\n",
    "plt.show()"
   ]
  },
  {
   "cell_type": "markdown",
   "id": "0f7088a3",
   "metadata": {},
   "source": [
    "**Budget and Revenue Analysis**\n",
    "\n",
    "Investigating the relationship between production budget and box office revenue. Using scatter plots and regression lines to visualize and interpret the results. Segment analysis by budget tiers."
   ]
  },
  {
   "cell_type": "code",
   "execution_count": null,
   "id": "e24ebadf",
   "metadata": {},
   "outputs": [],
   "source": [
    "# Scatter plot with regression\n",
    "plt.figure(figsize=(10, 6))\n",
    "sns.regplot(x='production_budget', y='total_revenue', data=df_merged, order=2, scatter_kws={'s': 20, 'alpha': 0.5}, line_kws={'color': 'red'})\n",
    "plt.title('Production Budget vs Revenue (Polynomial Regression)')\n",
    "plt.xlabel('Production Budget')\n",
    "plt.ylabel('Total Revenue')\n",
    "plt.tight_layout()\n",
    "plt.show()\n",
    "\n",
    "# ROI by budget tier\n",
    "quartiles = df_merged['production_budget'].quantile([0.25, 0.5, 0.75])\n",
    "def budget_tier(budget):\n",
    "    if budget <= quartiles[0.25]:\n",
    "        return 'Low'\n",
    "    elif budget <= quartiles[0.75]:\n",
    "        return 'Medium'\n",
    "    else:\n",
    "        return 'High'\n",
    "df_merged['budget_tier'] = df_merged['production_budget'].apply(budget_tier)\n",
    "plt.figure(figsize=(10, 6))\n",
    "sns.boxplot(x='budget_tier', y='roi', data=df_merged)\n",
    "plt.title('ROI Distribution by Budget Tier')\n",
    "plt.xlabel('Budget Tier')\n",
    "plt.ylabel('ROI')\n",
    "plt.tight_layout()\n",
    "plt.show()"
   ]
  },
  {
   "cell_type": "markdown",
   "id": "34606e1d",
   "metadata": {},
   "source": [
    "**Ratings and ROI Analysis**\n",
    "\n",
    "Examining the impact of movie ratings on ROI and revenue. Creating scatter plots and calculating correlation coefficients. Segment analysis by budget or genre if relevant."
   ]
  },
  {
   "cell_type": "code",
   "execution_count": null,
   "id": "5147b8b0",
   "metadata": {},
   "outputs": [],
   "source": [
    "# Scatter plots for ratings vs revenue/ROI\n",
    "plt.figure(figsize=(12, 6))\n",
    "plt.subplot(1, 2, 1)\n",
    "sns.scatterplot(data=df_merged, x='vote_average', y='total_revenue')\n",
    "plt.title('Vote Average vs. Total Revenue')\n",
    "plt.xlabel('Vote Average')\n",
    "plt.ylabel('Total Revenue')\n",
    "plt.subplot(1, 2, 2)\n",
    "sns.scatterplot(data=df_merged, x='vote_average', y='roi')\n",
    "plt.title('Vote Average vs. ROI')\n",
    "plt.xlabel('Vote Average')\n",
    "plt.ylabel('ROI')\n",
    "plt.tight_layout()\n",
    "plt.show()\n",
    "\n",
    "# Correlation coefficients\n",
    "correlation_rating_revenue = df_merged['vote_average'].corr(df_merged['total_revenue'])\n",
    "correlation_rating_roi = df_merged['vote_average'].corr(df_merged['roi'])\n",
    "print(f\"Correlation between Vote Average and Total Revenue: {correlation_rating_revenue:.3f}\")\n",
    "print(f\"Correlation between Vote Average and ROI: {correlation_rating_roi:.3f}\")"
   ]
  },
  {
   "cell_type": "markdown",
   "id": "7994ce17",
   "metadata": {},
   "source": [
    "**Temporal Trends in Movie Performance**\n",
    "\n",
    "Analyzing trends in ROI and genre popularity over time using line plots and rolling averages. Identifying any seasonal or long-term patterns."
   ]
  },
  {
   "cell_type": "code",
   "execution_count": null,
   "id": "f723ab60",
   "metadata": {},
   "outputs": [],
   "source": [
    "# ROI over time\n",
    "roi_by_year = df_merged.groupby('release_year')['roi'].mean()\n",
    "plt.figure(figsize=(12, 6))\n",
    "sns.lineplot(x=roi_by_year.index, y=roi_by_year.values)\n",
    "plt.title('Average ROI Over Time')\n",
    "plt.xlabel('Release Year')\n",
    "plt.ylabel('Average ROI')\n",
    "plt.tight_layout()\n",
    "plt.show()\n",
    "\n",
    "# Rolling average\n",
    "rolling_avg_window = 5\n",
    "rolling_avg = roi_by_year.rolling(window=rolling_avg_window, center=True).mean()\n",
    "plt.figure(figsize=(12, 6))\n",
    "sns.lineplot(x=roi_by_year.index, y=roi_by_year.values, label='Average ROI')\n",
    "sns.lineplot(x=rolling_avg.index, y=rolling_avg.values, label=f'{rolling_avg_window}-Year Rolling Average')\n",
    "plt.title('Average ROI Over Time with Rolling Average')\n",
    "plt.xlabel('Release Year')\n",
    "plt.ylabel('Average ROI')\n",
    "plt.legend()\n",
    "plt.tight_layout()\n",
    "plt.show()"
   ]
  },
  {
   "cell_type": "markdown",
   "id": "1fca9164",
   "metadata": {},
   "source": [
    "# 5. Visualization \n",
    "**Business Recommendations with Supporting Visualizations**\n",
    "\n",
    "Presenting three concrete business recommendations based on the analysis. Supporting each recommendation with clear, well-formatted visualizations and concise explanations."
   ]
  },
  {
   "cell_type": "markdown",
   "id": "daa5142f",
   "metadata": {},
   "source": [
    "## Recommendation 1: Focus on High-ROI Genres\n",
    "\n",
    "Certain genres consistently deliver higher average ROI. The studio should prioritize producing films in these genres to maximize profitability.\n"
   ]
  },
  {
   "cell_type": "code",
   "execution_count": null,
   "id": "faad850b",
   "metadata": {},
   "outputs": [],
   "source": [
    "# Visualize average ROI by genre\n",
    "plt.figure(figsize=(12, 6))\n",
    "sns.barplot(x=genre_roi.index, y=genre_roi.values, palette='viridis')\n",
    "plt.title('Average ROI by Genre')\n",
    "plt.xlabel('Genre ID')\n",
    "plt.ylabel('Average ROI')\n",
    "plt.xticks(rotation=45, ha='right')\n",
    "plt.tight_layout()\n",
    "plt.show()"
   ]
  },
  {
   "cell_type": "markdown",
   "id": "58e1f195",
   "metadata": {},
   "source": [
    "## Recommendation 2: Optimize Production Budgets\n",
    "\n",
    "Higher budgets do not guarantee higher ROI. The studio should carefully allocate budgets, targeting the \"medium\" tier for optimal balance between risk and reward.\n"
   ]
  },
  {
   "cell_type": "code",
   "execution_count": null,
   "id": "36e683e3",
   "metadata": {},
   "outputs": [],
   "source": [
    "# Visualize ROI by budget tier\n",
    "plt.figure(figsize=(10, 6))\n",
    "sns.boxplot(x='budget_tier', y='roi', data=df_merged)\n",
    "plt.title('ROI Distribution by Budget Tier')\n",
    "plt.xlabel('Budget Tier')\n",
    "plt.ylabel('ROI')\n",
    "plt.tight_layout()\n",
    "plt.show()"
   ]
  },
  {
   "cell_type": "markdown",
   "id": "355bbc34",
   "metadata": {},
   "source": [
    "## Recommendation 3: Leverage Ratings and Monitor Trends\n",
    "\n",
    "While ratings have a weak correlation with ROI, higher-rated movies tend to earn more revenue. The studio should aim for quality to boost revenue and monitor temporal trends to capitalize on emerging genres.\n"
   ]
  },
  {
   "cell_type": "code",
   "execution_count": null,
   "id": "ea31a260",
   "metadata": {},
   "outputs": [],
   "source": [
    "# Visualize ratings vs revenue and ROI\n",
    "plt.figure(figsize=(12, 6))\n",
    "plt.subplot(1, 2, 1)\n",
    "sns.scatterplot(data=df_merged, x='vote_average', y='total_revenue')\n",
    "plt.title('Vote Average vs. Total Revenue')\n",
    "plt.xlabel('Vote Average')\n",
    "plt.ylabel('Total Revenue')\n",
    "plt.subplot(1, 2, 2)\n",
    "sns.scatterplot(data=df_merged, x='vote_average', y='roi')\n",
    "plt.title('Vote Average vs. ROI')\n",
    "plt.xlabel('Vote Average')\n",
    "plt.ylabel('ROI')\n",
    "plt.tight_layout()\n",
    "plt.show()\n",
    "\n",
    "# Visualize ROI trend over time\n",
    "plt.figure(figsize=(12, 6))\n",
    "sns.lineplot(x=roi_by_year.index, y=roi_by_year.values)\n",
    "plt.title('Average ROI Over Time')\n",
    "plt.xlabel('Release Year')\n",
    "plt.ylabel('Average ROI')\n",
    "plt.tight_layout()\n",
    "plt.show()"
   ]
  },
  {
   "cell_type": "markdown",
   "id": "b6f7a5c9",
   "metadata": {},
   "source": [
    "---\n",
    "\n",
    "# Summary\n",
    "\n",
    "This analysis provides actionable insights for a new movie studio:\n",
    "\n",
    "- **Target high-ROI genres** for production focus.\n",
    "- **Optimize budget allocation** to maximize ROI, especially in the medium budget tier.\n",
    "- **Aim for quality and monitor trends** to boost revenue and adapt to changing audience preferences.\n",
    "\n",
    "## Detailed Explanation on Further Steps\n",
    "\n",
    "**Targeted Genre Production:** \n",
    "Prioritize genres with consistently high ROI, considering the number of movies in each genre and their potential for profitability. Investigate the reasons for success in these genres further.\n",
    "\n",
    "**Budget Allocation Strategy:** Refine the budget allocation strategy by segmenting movies by genre and performing more robust regression analysis to identify optimal budget levels for different genres. Consider other factors beyond budget, such as marketing and distribution\n"
   ]
  }
 ],
 "metadata": {
  "kernelspec": {
   "display_name": "learn-env",
   "language": "python",
   "name": "python3"
  },
  "language_info": {
   "codemirror_mode": {
    "name": "ipython",
    "version": 3
   },
   "file_extension": ".py",
   "mimetype": "text/x-python",
   "name": "python",
   "nbconvert_exporter": "python",
   "pygments_lexer": "ipython3",
   "version": "3.8.5"
  }
 },
 "nbformat": 4,
 "nbformat_minor": 5
}
