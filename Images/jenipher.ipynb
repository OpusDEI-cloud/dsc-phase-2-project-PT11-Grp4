{
 "cells": [
  {
   "cell_type": "markdown",
   "metadata": {},
   "source": [
    "## Final Project Submission\n",
    "\n",
    "Please fill out:\n",
    "* Student name: Jenipher Oduor\n",
    "* Student pace: part time  \n",
    "* Scheduled project review date/time: \n",
    "* Instructor name:George Kamundia \n",
    "* Blog post URL:\n"
   ]
  },
  {
   "cell_type": "code",
   "execution_count": 1,
   "metadata": {},
   "outputs": [],
   "source": [
    "#Import the necessary libraries\n",
    "\n",
    "import numpy as np\n",
    "import pandas as pd\n",
    "import sqlite3\n",
    "import matplotlib.pyplot as plt\n",
    "import seaborn as sns\n",
    "\n",
    "\n"
   ]
  },
  {
   "cell_type": "code",
   "execution_count": 2,
   "metadata": {},
   "outputs": [
    {
     "data": {
      "text/html": [
       "<div>\n",
       "<style scoped>\n",
       "    .dataframe tbody tr th:only-of-type {\n",
       "        vertical-align: middle;\n",
       "    }\n",
       "\n",
       "    .dataframe tbody tr th {\n",
       "        vertical-align: top;\n",
       "    }\n",
       "\n",
       "    .dataframe thead th {\n",
       "        text-align: right;\n",
       "    }\n",
       "</style>\n",
       "<table border=\"1\" class=\"dataframe\">\n",
       "  <thead>\n",
       "    <tr style=\"text-align: right;\">\n",
       "      <th></th>\n",
       "      <th>title</th>\n",
       "      <th>studio</th>\n",
       "      <th>domestic_gross</th>\n",
       "      <th>foreign_gross</th>\n",
       "      <th>year</th>\n",
       "    </tr>\n",
       "  </thead>\n",
       "  <tbody>\n",
       "    <tr>\n",
       "      <th>0</th>\n",
       "      <td>Toy Story 3</td>\n",
       "      <td>BV</td>\n",
       "      <td>415000000.0</td>\n",
       "      <td>652000000</td>\n",
       "      <td>2010</td>\n",
       "    </tr>\n",
       "    <tr>\n",
       "      <th>1</th>\n",
       "      <td>Alice in Wonderland (2010)</td>\n",
       "      <td>BV</td>\n",
       "      <td>334200000.0</td>\n",
       "      <td>691300000</td>\n",
       "      <td>2010</td>\n",
       "    </tr>\n",
       "    <tr>\n",
       "      <th>2</th>\n",
       "      <td>Harry Potter and the Deathly Hallows Part 1</td>\n",
       "      <td>WB</td>\n",
       "      <td>296000000.0</td>\n",
       "      <td>664300000</td>\n",
       "      <td>2010</td>\n",
       "    </tr>\n",
       "    <tr>\n",
       "      <th>3</th>\n",
       "      <td>Inception</td>\n",
       "      <td>WB</td>\n",
       "      <td>292600000.0</td>\n",
       "      <td>535700000</td>\n",
       "      <td>2010</td>\n",
       "    </tr>\n",
       "    <tr>\n",
       "      <th>4</th>\n",
       "      <td>Shrek Forever After</td>\n",
       "      <td>P/DW</td>\n",
       "      <td>238700000.0</td>\n",
       "      <td>513900000</td>\n",
       "      <td>2010</td>\n",
       "    </tr>\n",
       "  </tbody>\n",
       "</table>\n",
       "</div>"
      ],
      "text/plain": [
       "                                         title studio  domestic_gross  \\\n",
       "0                                  Toy Story 3     BV     415000000.0   \n",
       "1                   Alice in Wonderland (2010)     BV     334200000.0   \n",
       "2  Harry Potter and the Deathly Hallows Part 1     WB     296000000.0   \n",
       "3                                    Inception     WB     292600000.0   \n",
       "4                          Shrek Forever After   P/DW     238700000.0   \n",
       "\n",
       "  foreign_gross  year  \n",
       "0     652000000  2010  \n",
       "1     691300000  2010  \n",
       "2     664300000  2010  \n",
       "3     535700000  2010  \n",
       "4     513900000  2010  "
      ]
     },
     "execution_count": 2,
     "metadata": {},
     "output_type": "execute_result"
    }
   ],
   "source": [
    "#Load Box Office Mojo dataset\n",
    "\n",
    "bom_df = pd.read_csv(\"./zippedData/bom.movie_gross.csv.gz\")\n",
    "bom_df.head()"
   ]
  },
  {
   "cell_type": "code",
   "execution_count": 3,
   "metadata": {},
   "outputs": [],
   "source": [
    "#Load IMDB dataset\n",
    "conn = sqlite3.connect(\"./zippedData/im.db/im.db\")\n",
    "\n"
   ]
  },
  {
   "cell_type": "code",
   "execution_count": 4,
   "metadata": {},
   "outputs": [
    {
     "data": {
      "text/html": [
       "<div>\n",
       "<style scoped>\n",
       "    .dataframe tbody tr th:only-of-type {\n",
       "        vertical-align: middle;\n",
       "    }\n",
       "\n",
       "    .dataframe tbody tr th {\n",
       "        vertical-align: top;\n",
       "    }\n",
       "\n",
       "    .dataframe thead th {\n",
       "        text-align: right;\n",
       "    }\n",
       "</style>\n",
       "<table border=\"1\" class=\"dataframe\">\n",
       "  <thead>\n",
       "    <tr style=\"text-align: right;\">\n",
       "      <th></th>\n",
       "      <th>type</th>\n",
       "      <th>name</th>\n",
       "      <th>tbl_name</th>\n",
       "      <th>rootpage</th>\n",
       "      <th>sql</th>\n",
       "    </tr>\n",
       "  </thead>\n",
       "  <tbody>\n",
       "    <tr>\n",
       "      <th>0</th>\n",
       "      <td>table</td>\n",
       "      <td>movie_basics</td>\n",
       "      <td>movie_basics</td>\n",
       "      <td>2</td>\n",
       "      <td>CREATE TABLE \"movie_basics\" (\\n\"movie_id\" TEXT...</td>\n",
       "    </tr>\n",
       "    <tr>\n",
       "      <th>1</th>\n",
       "      <td>table</td>\n",
       "      <td>directors</td>\n",
       "      <td>directors</td>\n",
       "      <td>3</td>\n",
       "      <td>CREATE TABLE \"directors\" (\\n\"movie_id\" TEXT,\\n...</td>\n",
       "    </tr>\n",
       "    <tr>\n",
       "      <th>2</th>\n",
       "      <td>table</td>\n",
       "      <td>known_for</td>\n",
       "      <td>known_for</td>\n",
       "      <td>4</td>\n",
       "      <td>CREATE TABLE \"known_for\" (\\n\"person_id\" TEXT,\\...</td>\n",
       "    </tr>\n",
       "    <tr>\n",
       "      <th>3</th>\n",
       "      <td>table</td>\n",
       "      <td>movie_akas</td>\n",
       "      <td>movie_akas</td>\n",
       "      <td>5</td>\n",
       "      <td>CREATE TABLE \"movie_akas\" (\\n\"movie_id\" TEXT,\\...</td>\n",
       "    </tr>\n",
       "    <tr>\n",
       "      <th>4</th>\n",
       "      <td>table</td>\n",
       "      <td>movie_ratings</td>\n",
       "      <td>movie_ratings</td>\n",
       "      <td>6</td>\n",
       "      <td>CREATE TABLE \"movie_ratings\" (\\n\"movie_id\" TEX...</td>\n",
       "    </tr>\n",
       "    <tr>\n",
       "      <th>5</th>\n",
       "      <td>table</td>\n",
       "      <td>persons</td>\n",
       "      <td>persons</td>\n",
       "      <td>7</td>\n",
       "      <td>CREATE TABLE \"persons\" (\\n\"person_id\" TEXT,\\n ...</td>\n",
       "    </tr>\n",
       "    <tr>\n",
       "      <th>6</th>\n",
       "      <td>table</td>\n",
       "      <td>principals</td>\n",
       "      <td>principals</td>\n",
       "      <td>8</td>\n",
       "      <td>CREATE TABLE \"principals\" (\\n\"movie_id\" TEXT,\\...</td>\n",
       "    </tr>\n",
       "    <tr>\n",
       "      <th>7</th>\n",
       "      <td>table</td>\n",
       "      <td>writers</td>\n",
       "      <td>writers</td>\n",
       "      <td>9</td>\n",
       "      <td>CREATE TABLE \"writers\" (\\n\"movie_id\" TEXT,\\n  ...</td>\n",
       "    </tr>\n",
       "  </tbody>\n",
       "</table>\n",
       "</div>"
      ],
      "text/plain": [
       "    type           name       tbl_name  rootpage  \\\n",
       "0  table   movie_basics   movie_basics         2   \n",
       "1  table      directors      directors         3   \n",
       "2  table      known_for      known_for         4   \n",
       "3  table     movie_akas     movie_akas         5   \n",
       "4  table  movie_ratings  movie_ratings         6   \n",
       "5  table        persons        persons         7   \n",
       "6  table     principals     principals         8   \n",
       "7  table        writers        writers         9   \n",
       "\n",
       "                                                 sql  \n",
       "0  CREATE TABLE \"movie_basics\" (\\n\"movie_id\" TEXT...  \n",
       "1  CREATE TABLE \"directors\" (\\n\"movie_id\" TEXT,\\n...  \n",
       "2  CREATE TABLE \"known_for\" (\\n\"person_id\" TEXT,\\...  \n",
       "3  CREATE TABLE \"movie_akas\" (\\n\"movie_id\" TEXT,\\...  \n",
       "4  CREATE TABLE \"movie_ratings\" (\\n\"movie_id\" TEX...  \n",
       "5  CREATE TABLE \"persons\" (\\n\"person_id\" TEXT,\\n ...  \n",
       "6  CREATE TABLE \"principals\" (\\n\"movie_id\" TEXT,\\...  \n",
       "7  CREATE TABLE \"writers\" (\\n\"movie_id\" TEXT,\\n  ...  "
      ]
     },
     "execution_count": 4,
     "metadata": {},
     "output_type": "execute_result"
    }
   ],
   "source": [
    "pd.read_sql(\"SELECT * FROM sqlite_master WHERE type='table';\", conn)"
   ]
  },
  {
   "cell_type": "code",
   "execution_count": 5,
   "metadata": {},
   "outputs": [
    {
     "data": {
      "text/html": [
       "<div>\n",
       "<style scoped>\n",
       "    .dataframe tbody tr th:only-of-type {\n",
       "        vertical-align: middle;\n",
       "    }\n",
       "\n",
       "    .dataframe tbody tr th {\n",
       "        vertical-align: top;\n",
       "    }\n",
       "\n",
       "    .dataframe thead th {\n",
       "        text-align: right;\n",
       "    }\n",
       "</style>\n",
       "<table border=\"1\" class=\"dataframe\">\n",
       "  <thead>\n",
       "    <tr style=\"text-align: right;\">\n",
       "      <th></th>\n",
       "      <th>primary_title</th>\n",
       "      <th>start_year</th>\n",
       "      <th>genres</th>\n",
       "      <th>runtime_minutes</th>\n",
       "      <th>averagerating</th>\n",
       "      <th>numvotes</th>\n",
       "    </tr>\n",
       "  </thead>\n",
       "  <tbody>\n",
       "    <tr>\n",
       "      <th>0</th>\n",
       "      <td>Sunghursh</td>\n",
       "      <td>2013</td>\n",
       "      <td>Action,Crime,Drama</td>\n",
       "      <td>175.0</td>\n",
       "      <td>7.0</td>\n",
       "      <td>77</td>\n",
       "    </tr>\n",
       "    <tr>\n",
       "      <th>1</th>\n",
       "      <td>One Day Before the Rainy Season</td>\n",
       "      <td>2019</td>\n",
       "      <td>Biography,Drama</td>\n",
       "      <td>114.0</td>\n",
       "      <td>7.2</td>\n",
       "      <td>43</td>\n",
       "    </tr>\n",
       "    <tr>\n",
       "      <th>2</th>\n",
       "      <td>The Other Side of the Wind</td>\n",
       "      <td>2018</td>\n",
       "      <td>Drama</td>\n",
       "      <td>122.0</td>\n",
       "      <td>6.9</td>\n",
       "      <td>4517</td>\n",
       "    </tr>\n",
       "    <tr>\n",
       "      <th>3</th>\n",
       "      <td>Sabse Bada Sukh</td>\n",
       "      <td>2018</td>\n",
       "      <td>Comedy,Drama</td>\n",
       "      <td>NaN</td>\n",
       "      <td>6.1</td>\n",
       "      <td>13</td>\n",
       "    </tr>\n",
       "    <tr>\n",
       "      <th>4</th>\n",
       "      <td>The Wandering Soap Opera</td>\n",
       "      <td>2017</td>\n",
       "      <td>Comedy,Drama,Fantasy</td>\n",
       "      <td>80.0</td>\n",
       "      <td>6.5</td>\n",
       "      <td>119</td>\n",
       "    </tr>\n",
       "  </tbody>\n",
       "</table>\n",
       "</div>"
      ],
      "text/plain": [
       "                     primary_title  start_year                genres  \\\n",
       "0                        Sunghursh        2013    Action,Crime,Drama   \n",
       "1  One Day Before the Rainy Season        2019       Biography,Drama   \n",
       "2       The Other Side of the Wind        2018                 Drama   \n",
       "3                  Sabse Bada Sukh        2018          Comedy,Drama   \n",
       "4         The Wandering Soap Opera        2017  Comedy,Drama,Fantasy   \n",
       "\n",
       "   runtime_minutes  averagerating  numvotes  \n",
       "0            175.0            7.0        77  \n",
       "1            114.0            7.2        43  \n",
       "2            122.0            6.9      4517  \n",
       "3              NaN            6.1        13  \n",
       "4             80.0            6.5       119  "
      ]
     },
     "execution_count": 5,
     "metadata": {},
     "output_type": "execute_result"
    }
   ],
   "source": [
    "query = \"\"\"\n",
    "SELECT \n",
    "    mb.primary_title,\n",
    "    mb.start_year,\n",
    "    mb.genres,\n",
    "    mb.runtime_minutes,\n",
    "    mr.averagerating,\n",
    "    mr.numvotes\n",
    "FROM movie_basics mb\n",
    "JOIN movie_ratings mr\n",
    "    ON mb.movie_id = mr.movie_id;\n",
    "\"\"\"\n",
    "\n",
    "df = pd.read_sql_query(query, conn)\n",
    "\n",
    "df.head()"
   ]
  },
  {
   "cell_type": "code",
   "execution_count": 6,
   "metadata": {},
   "outputs": [
    {
     "name": "stdout",
     "output_type": "stream",
     "text": [
      "genres\n",
      "Short          8.80\n",
      "Documentary    7.33\n",
      "Game-Show      7.30\n",
      "News           7.27\n",
      "Biography      7.16\n",
      "Music          7.09\n",
      "History        7.04\n",
      "Sport          6.96\n",
      "War            6.58\n",
      "Reality-TV     6.50\n",
      "Musical        6.50\n",
      "Drama          6.40\n",
      "Family         6.39\n",
      "Animation      6.25\n",
      "Adventure      6.20\n",
      "Romance        6.15\n",
      "Crime          6.12\n",
      "Comedy         6.00\n",
      "Fantasy        5.92\n",
      "Mystery        5.92\n",
      "Western        5.87\n",
      "Action         5.81\n",
      "Thriller       5.64\n",
      "Sci-Fi         5.49\n",
      "Horror         5.00\n",
      "Adult          3.77\n",
      "Name: averagerating, dtype: float64\n"
     ]
    }
   ],
   "source": [
    "#Split genres that are in one row but separated by commas\n",
    "df['genres'] = df['genres'].str.split(',')\n",
    "df = df.explode('genres')\n",
    "\n",
    "#Analyze average rating by genre\n",
    "genre_avg = df.groupby('genres')['averagerating'].mean().round(2).sort_values(ascending=False)\n",
    "print(genre_avg)"
   ]
  },
  {
   "cell_type": "code",
   "execution_count": 7,
   "metadata": {},
   "outputs": [
    {
     "name": "stderr",
     "output_type": "stream",
     "text": [
      "C:\\Users\\jenip\\AppData\\Local\\Temp\\ipykernel_3796\\3674639544.py:5: FutureWarning: \n",
      "\n",
      "Passing `palette` without assigning `hue` is deprecated and will be removed in v0.14.0. Assign the `y` variable to `hue` and set `legend=False` for the same effect.\n",
      "\n",
      "  sns.barplot(x=genre_avg.values, y=genre_avg.index, palette='viridis')\n"
     ]
    },
    {
     "data": {
      "image/png": "[encoded data removed]",
      "text/plain": [
       "<Figure size 1000x600 with 1 Axes>"
      ]
     },
     "metadata": {},
     "output_type": "display_data"
    }
   ],
   "source": [
    "# Visualization of average rating per genre\n",
    "genre_avg = df.groupby('genres')['averagerating'].mean().round(2).sort_values()\n",
    "\n",
    "plt.figure(figsize=(10, 6))\n",
    "sns.barplot(x=genre_avg.values, y=genre_avg.index, palette='viridis')\n",
    "\n",
    "plt.title('Average IMDb Rating by Genre')\n",
    "plt.xlabel('Average Rating')\n",
    "plt.ylabel('Genre')\n",
    "plt.tight_layout()\n",
    "plt.show()"
   ]
  },
  {
   "cell_type": "markdown",
   "metadata": {},
   "source": [
    "Recommendation 1 - Short movies are recommended as they have a high rating."
   ]
  },
  {
   "cell_type": "markdown",
   "metadata": {},
   "source": [
    "What movie runtimes are more commercially viable"
   ]
  },
  {
   "cell_type": "code",
   "execution_count": 8,
   "metadata": {},
   "outputs": [
    {
     "name": "stdout",
     "output_type": "stream",
     "text": [
      "Index(['primary_title', 'start_year', 'genres', 'runtime_minutes',\n",
      "       'averagerating', 'numvotes'],\n",
      "      dtype='object')\n"
     ]
    }
   ],
   "source": [
    "print(df.columns)\n",
    "\n"
   ]
  },
  {
   "cell_type": "code",
   "execution_count": 9,
   "metadata": {},
   "outputs": [],
   "source": [
    "#Replace rows with missing runtimes with the median value\n",
    "\n",
    "median_runtime = df['runtime_minutes'].median()\n",
    "df['runtime_minutes'].fillna(median_runtime, inplace=True)\n"
   ]
  },
  {
   "cell_type": "code",
   "execution_count": 10,
   "metadata": {},
   "outputs": [],
   "source": [
    "# Bin runtimes\n",
    "bins = [0, 60, 90, 120, 150, 180, 300]\n",
    "labels = ['<60 min', '60–90 min', '90–120 min', '120–150 min', '150–180 min', '180+ min']\n",
    "df['runtime_group'] = pd.cut(df['runtime_minutes'], bins=bins, labels=labels)\n"
   ]
  },
  {
   "cell_type": "code",
   "execution_count": 11,
   "metadata": {},
   "outputs": [
    {
     "name": "stdout",
     "output_type": "stream",
     "text": [
      "  Runtime Group  Number of Movies  Avg Number of Votes\n",
      "0       <60 min              7182            69.976051\n",
      "1     60–90 min             49762          1022.715526\n",
      "2    90–120 min             59762          6325.031391\n",
      "3   120–150 min             10073         21305.206890\n",
      "4   150–180 min              2144         18474.965019\n",
      "5      180+ min               304          6538.792763\n"
     ]
    }
   ],
   "source": [
    "runtime_analysis = df.groupby('runtime_group')['numvotes'].agg(['count', 'mean']).reset_index()\n",
    "runtime_analysis.columns = ['Runtime Group', 'Number of Movies', 'Avg Number of Votes']\n",
    "print(runtime_analysis)\n"
   ]
  },
  {
   "cell_type": "code",
   "execution_count": 12,
   "metadata": {},
   "outputs": [
    {
     "name": "stderr",
     "output_type": "stream",
     "text": [
      "C:\\Users\\jenip\\AppData\\Local\\Temp\\ipykernel_3796\\3742179271.py:4: FutureWarning: \n",
      "\n",
      "Passing `palette` without assigning `hue` is deprecated and will be removed in v0.14.0. Assign the `y` variable to `hue` and set `legend=False` for the same effect.\n",
      "\n",
      "  sns.barplot(data=runtime_analysis, x='Avg Number of Votes', y='Runtime Group', palette='mako')\n"
     ]
    },
    {
     "data": {
      "image/png": "[encoded data removed]",
      "text/plain": [
       "<Figure size 800x600 with 1 Axes>"
      ]
     },
     "metadata": {},
     "output_type": "display_data"
    }
   ],
   "source": [
    "#Visualization of average number of votes per movie runtime\n",
    "\n",
    "plt.figure(figsize=(8, 6))\n",
    "sns.barplot(data=runtime_analysis, x='Avg Number of Votes', y='Runtime Group', palette='mako')\n",
    "plt.title('Average Number of Votes by Movie Runtime Group')\n",
    "plt.xlabel('Average Number of Votes')\n",
    "plt.ylabel('Runtime Group')\n",
    "plt.tight_layout()\n",
    "plt.show()"
   ]
  },
  {
   "cell_type": "markdown",
   "metadata": {},
   "source": [
    "Recommendation 2\n",
    "Movies with a runtime of 120-150 minutes are more commercially viable"
   ]
  },
  {
   "cell_type": "markdown",
   "metadata": {},
   "source": [
    "Recommendation 3\n"
   ]
  },
  {
   "cell_type": "code",
   "execution_count": 13,
   "metadata": {},
   "outputs": [],
   "source": [
    "combined_df = pd.merge(df, bom_df, left_on='primary_title', right_on='title', how='inner')"
   ]
  },
  {
   "cell_type": "code",
   "execution_count": 14,
   "metadata": {},
   "outputs": [
    {
     "data": {
      "text/html": [
       "<div>\n",
       "<style scoped>\n",
       "    .dataframe tbody tr th:only-of-type {\n",
       "        vertical-align: middle;\n",
       "    }\n",
       "\n",
       "    .dataframe tbody tr th {\n",
       "        vertical-align: top;\n",
       "    }\n",
       "\n",
       "    .dataframe thead th {\n",
       "        text-align: right;\n",
       "    }\n",
       "</style>\n",
       "<table border=\"1\" class=\"dataframe\">\n",
       "  <thead>\n",
       "    <tr style=\"text-align: right;\">\n",
       "      <th></th>\n",
       "      <th>primary_title</th>\n",
       "      <th>start_year</th>\n",
       "      <th>genres</th>\n",
       "      <th>runtime_minutes</th>\n",
       "      <th>averagerating</th>\n",
       "      <th>numvotes</th>\n",
       "      <th>runtime_group</th>\n",
       "      <th>title</th>\n",
       "      <th>studio</th>\n",
       "      <th>domestic_gross</th>\n",
       "      <th>foreign_gross</th>\n",
       "      <th>year</th>\n",
       "    </tr>\n",
       "  </thead>\n",
       "  <tbody>\n",
       "    <tr>\n",
       "      <th>0</th>\n",
       "      <td>Wazir</td>\n",
       "      <td>2016</td>\n",
       "      <td>Action</td>\n",
       "      <td>103.0</td>\n",
       "      <td>7.1</td>\n",
       "      <td>15378</td>\n",
       "      <td>90–120 min</td>\n",
       "      <td>Wazir</td>\n",
       "      <td>Relbig.</td>\n",
       "      <td>1100000.0</td>\n",
       "      <td>NaN</td>\n",
       "      <td>2016</td>\n",
       "    </tr>\n",
       "    <tr>\n",
       "      <th>1</th>\n",
       "      <td>Wazir</td>\n",
       "      <td>2016</td>\n",
       "      <td>Crime</td>\n",
       "      <td>103.0</td>\n",
       "      <td>7.1</td>\n",
       "      <td>15378</td>\n",
       "      <td>90–120 min</td>\n",
       "      <td>Wazir</td>\n",
       "      <td>Relbig.</td>\n",
       "      <td>1100000.0</td>\n",
       "      <td>NaN</td>\n",
       "      <td>2016</td>\n",
       "    </tr>\n",
       "    <tr>\n",
       "      <th>2</th>\n",
       "      <td>Wazir</td>\n",
       "      <td>2016</td>\n",
       "      <td>Drama</td>\n",
       "      <td>103.0</td>\n",
       "      <td>7.1</td>\n",
       "      <td>15378</td>\n",
       "      <td>90–120 min</td>\n",
       "      <td>Wazir</td>\n",
       "      <td>Relbig.</td>\n",
       "      <td>1100000.0</td>\n",
       "      <td>NaN</td>\n",
       "      <td>2016</td>\n",
       "    </tr>\n",
       "    <tr>\n",
       "      <th>3</th>\n",
       "      <td>On the Road</td>\n",
       "      <td>2012</td>\n",
       "      <td>Adventure</td>\n",
       "      <td>124.0</td>\n",
       "      <td>6.1</td>\n",
       "      <td>37886</td>\n",
       "      <td>120–150 min</td>\n",
       "      <td>On the Road</td>\n",
       "      <td>IFC</td>\n",
       "      <td>744000.0</td>\n",
       "      <td>8000000</td>\n",
       "      <td>2012</td>\n",
       "    </tr>\n",
       "    <tr>\n",
       "      <th>4</th>\n",
       "      <td>On the Road</td>\n",
       "      <td>2012</td>\n",
       "      <td>Drama</td>\n",
       "      <td>124.0</td>\n",
       "      <td>6.1</td>\n",
       "      <td>37886</td>\n",
       "      <td>120–150 min</td>\n",
       "      <td>On the Road</td>\n",
       "      <td>IFC</td>\n",
       "      <td>744000.0</td>\n",
       "      <td>8000000</td>\n",
       "      <td>2012</td>\n",
       "    </tr>\n",
       "  </tbody>\n",
       "</table>\n",
       "</div>"
      ],
      "text/plain": [
       "  primary_title  start_year     genres  runtime_minutes  averagerating  \\\n",
       "0         Wazir        2016     Action            103.0            7.1   \n",
       "1         Wazir        2016      Crime            103.0            7.1   \n",
       "2         Wazir        2016      Drama            103.0            7.1   \n",
       "3   On the Road        2012  Adventure            124.0            6.1   \n",
       "4   On the Road        2012      Drama            124.0            6.1   \n",
       "\n",
       "   numvotes runtime_group        title   studio  domestic_gross foreign_gross  \\\n",
       "0     15378    90–120 min        Wazir  Relbig.       1100000.0           NaN   \n",
       "1     15378    90–120 min        Wazir  Relbig.       1100000.0           NaN   \n",
       "2     15378    90–120 min        Wazir  Relbig.       1100000.0           NaN   \n",
       "3     37886   120–150 min  On the Road      IFC        744000.0       8000000   \n",
       "4     37886   120–150 min  On the Road      IFC        744000.0       8000000   \n",
       "\n",
       "   year  \n",
       "0  2016  \n",
       "1  2016  \n",
       "2  2016  \n",
       "3  2012  \n",
       "4  2012  "
      ]
     },
     "execution_count": 14,
     "metadata": {},
     "output_type": "execute_result"
    }
   ],
   "source": [
    "combined_df.head()"
   ]
  },
  {
   "cell_type": "code",
   "execution_count": 15,
   "metadata": {},
   "outputs": [],
   "source": [
    "# Clean and convert both columns to numeric\n",
    "bom_df['domestic_gross'] = pd.to_numeric(bom_df['domestic_gross'], errors='coerce')\n",
    "bom_df['foreign_gross'] = pd.to_numeric(bom_df['foreign_gross'], errors='coerce')\n",
    "\n",
    "combined_df['gross_revenue'] = bom_df['domestic_gross'] + bom_df['foreign_gross']\n"
   ]
  },
  {
   "cell_type": "code",
   "execution_count": 16,
   "metadata": {},
   "outputs": [
    {
     "data": {
      "text/html": [
       "<div>\n",
       "<style scoped>\n",
       "    .dataframe tbody tr th:only-of-type {\n",
       "        vertical-align: middle;\n",
       "    }\n",
       "\n",
       "    .dataframe tbody tr th {\n",
       "        vertical-align: top;\n",
       "    }\n",
       "\n",
       "    .dataframe thead th {\n",
       "        text-align: right;\n",
       "    }\n",
       "</style>\n",
       "<table border=\"1\" class=\"dataframe\">\n",
       "  <thead>\n",
       "    <tr style=\"text-align: right;\">\n",
       "      <th></th>\n",
       "      <th>primary_title</th>\n",
       "      <th>start_year</th>\n",
       "      <th>genres</th>\n",
       "      <th>runtime_minutes</th>\n",
       "      <th>averagerating</th>\n",
       "      <th>numvotes</th>\n",
       "      <th>runtime_group</th>\n",
       "      <th>title</th>\n",
       "      <th>studio</th>\n",
       "      <th>domestic_gross</th>\n",
       "      <th>foreign_gross</th>\n",
       "      <th>year</th>\n",
       "      <th>gross_revenue</th>\n",
       "    </tr>\n",
       "  </thead>\n",
       "  <tbody>\n",
       "    <tr>\n",
       "      <th>0</th>\n",
       "      <td>Wazir</td>\n",
       "      <td>2016</td>\n",
       "      <td>Action</td>\n",
       "      <td>103.0</td>\n",
       "      <td>7.1</td>\n",
       "      <td>15378</td>\n",
       "      <td>90–120 min</td>\n",
       "      <td>Wazir</td>\n",
       "      <td>Relbig.</td>\n",
       "      <td>1100000.0</td>\n",
       "      <td>NaN</td>\n",
       "      <td>2016</td>\n",
       "      <td>1.067000e+09</td>\n",
       "    </tr>\n",
       "    <tr>\n",
       "      <th>1</th>\n",
       "      <td>Wazir</td>\n",
       "      <td>2016</td>\n",
       "      <td>Crime</td>\n",
       "      <td>103.0</td>\n",
       "      <td>7.1</td>\n",
       "      <td>15378</td>\n",
       "      <td>90–120 min</td>\n",
       "      <td>Wazir</td>\n",
       "      <td>Relbig.</td>\n",
       "      <td>1100000.0</td>\n",
       "      <td>NaN</td>\n",
       "      <td>2016</td>\n",
       "      <td>1.025500e+09</td>\n",
       "    </tr>\n",
       "    <tr>\n",
       "      <th>2</th>\n",
       "      <td>Wazir</td>\n",
       "      <td>2016</td>\n",
       "      <td>Drama</td>\n",
       "      <td>103.0</td>\n",
       "      <td>7.1</td>\n",
       "      <td>15378</td>\n",
       "      <td>90–120 min</td>\n",
       "      <td>Wazir</td>\n",
       "      <td>Relbig.</td>\n",
       "      <td>1100000.0</td>\n",
       "      <td>NaN</td>\n",
       "      <td>2016</td>\n",
       "      <td>9.603000e+08</td>\n",
       "    </tr>\n",
       "    <tr>\n",
       "      <th>3</th>\n",
       "      <td>On the Road</td>\n",
       "      <td>2012</td>\n",
       "      <td>Adventure</td>\n",
       "      <td>124.0</td>\n",
       "      <td>6.1</td>\n",
       "      <td>37886</td>\n",
       "      <td>120–150 min</td>\n",
       "      <td>On the Road</td>\n",
       "      <td>IFC</td>\n",
       "      <td>744000.0</td>\n",
       "      <td>8000000</td>\n",
       "      <td>2012</td>\n",
       "      <td>8.283000e+08</td>\n",
       "    </tr>\n",
       "    <tr>\n",
       "      <th>4</th>\n",
       "      <td>On the Road</td>\n",
       "      <td>2012</td>\n",
       "      <td>Drama</td>\n",
       "      <td>124.0</td>\n",
       "      <td>6.1</td>\n",
       "      <td>37886</td>\n",
       "      <td>120–150 min</td>\n",
       "      <td>On the Road</td>\n",
       "      <td>IFC</td>\n",
       "      <td>744000.0</td>\n",
       "      <td>8000000</td>\n",
       "      <td>2012</td>\n",
       "      <td>7.526000e+08</td>\n",
       "    </tr>\n",
       "  </tbody>\n",
       "</table>\n",
       "</div>"
      ],
      "text/plain": [
       "  primary_title  start_year     genres  runtime_minutes  averagerating  \\\n",
       "0         Wazir        2016     Action            103.0            7.1   \n",
       "1         Wazir        2016      Crime            103.0            7.1   \n",
       "2         Wazir        2016      Drama            103.0            7.1   \n",
       "3   On the Road        2012  Adventure            124.0            6.1   \n",
       "4   On the Road        2012      Drama            124.0            6.1   \n",
       "\n",
       "   numvotes runtime_group        title   studio  domestic_gross foreign_gross  \\\n",
       "0     15378    90–120 min        Wazir  Relbig.       1100000.0           NaN   \n",
       "1     15378    90–120 min        Wazir  Relbig.       1100000.0           NaN   \n",
       "2     15378    90–120 min        Wazir  Relbig.       1100000.0           NaN   \n",
       "3     37886   120–150 min  On the Road      IFC        744000.0       8000000   \n",
       "4     37886   120–150 min  On the Road      IFC        744000.0       8000000   \n",
       "\n",
       "   year  gross_revenue  \n",
       "0  2016   1.067000e+09  \n",
       "1  2016   1.025500e+09  \n",
       "2  2016   9.603000e+08  \n",
       "3  2012   8.283000e+08  \n",
       "4  2012   7.526000e+08  "
      ]
     },
     "execution_count": 16,
     "metadata": {},
     "output_type": "execute_result"
    }
   ],
   "source": [
    "combined_df.head()"
   ]
  },
  {
   "cell_type": "code",
   "execution_count": 17,
   "metadata": {},
   "outputs": [
    {
     "name": "stdout",
     "output_type": "stream",
     "text": [
      "genre_list\n",
      "Western        2.412600e+08\n",
      "Sport          2.169228e+08\n",
      "Animation      1.880551e+08\n",
      "Crime          1.503324e+08\n",
      "Sci-Fi         1.469467e+08\n",
      "Adventure      1.449443e+08\n",
      "Documentary    1.315555e+08\n",
      "Action         1.282259e+08\n",
      "Biography      1.239520e+08\n",
      "Drama          1.198135e+08\n",
      "Name: gross_revenue, dtype: float64\n"
     ]
    }
   ],
   "source": [
    "# Explode genres\n",
    "combined_df['genre_list'] = combined_df['genres'].str.split(',')\n",
    "combined_exploded = combined_df.explode('genre_list')\n",
    "\n",
    "# Group by genre\n",
    "genre_revenue = combined_exploded.groupby('genre_list')['gross_revenue'].mean().sort_values(ascending=False)\n",
    "print(genre_revenue.head(10))\n"
   ]
  },
  {
   "cell_type": "code",
   "execution_count": 18,
   "metadata": {},
   "outputs": [
    {
     "name": "stderr",
     "output_type": "stream",
     "text": [
      "C:\\Users\\jenip\\AppData\\Local\\Temp\\ipykernel_3796\\4254308125.py:4: FutureWarning: \n",
      "\n",
      "Passing `palette` without assigning `hue` is deprecated and will be removed in v0.14.0. Assign the `y` variable to `hue` and set `legend=False` for the same effect.\n",
      "\n",
      "  sns.barplot(x=genre_revenue.values, y=genre_revenue.index, palette='viridis')\n"
     ]
    },
    {
     "data": {
      "image/png": "[encoded data removed]",
      "text/plain": [
       "<Figure size 1000x600 with 1 Axes>"
      ]
     },
     "metadata": {},
     "output_type": "display_data"
    }
   ],
   "source": [
    "#Visualization of average gross revenue by genre\n",
    "\n",
    "plt.figure(figsize=(10, 6))\n",
    "sns.barplot(x=genre_revenue.values, y=genre_revenue.index, palette='viridis')\n",
    "plt.title('Average Gross Revenue by Genre')\n",
    "plt.xlabel('Average Gross Revenue ($)')\n",
    "plt.ylabel('Genre')\n",
    "plt.tight_layout()"
   ]
  },
  {
   "cell_type": "markdown",
   "metadata": {},
   "source": [
    "Recommendation 3\n",
    "Recommend creation of movies of Western, Sport and Animation genre as they generate significantly higher revenue compared to other genres."
   ]
  }
 ],
 "metadata": {
  "kernelspec": {
   "display_name": "learn-env",
   "language": "python",
   "name": "python3"
  },
  "language_info": {
   "codemirror_mode": {
    "name": "ipython",
    "version": 3
   },
   "file_extension": ".py",
   "mimetype": "text/x-python",
   "name": "python",
   "nbconvert_exporter": "python",
   "pygments_lexer": "ipython3",
   "version": "3.8.20"
  }
 },
 "nbformat": 4,
 "nbformat_minor": 2
}
