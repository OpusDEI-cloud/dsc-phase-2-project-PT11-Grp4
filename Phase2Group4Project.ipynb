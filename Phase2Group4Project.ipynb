{
  "cells": [
    {
      "cell_type": "markdown",
      "metadata": {},
      "source": [
        "## 🎯 Business Problem\n",
        "\n",
        "The global entertainment industry is undergoing a rapid transformation. With the surge of streaming platforms and shifting consumer behavior, major tech companies and media giants are investing heavily in original film production. In response to this trend, our client, a forward-thinking technology company, is preparing to launch its own movie studio to capitalize on this growing market. While the company brings technological expertise and strategic ambition, it currently lacks experience in content creation and industry-specific insights.\n",
        "\n",
        "This is where our data science team steps in.\n",
        "\n",
        "Our objective is to analyze these datasets to identify the characteristics of successful films, those that generate high box office returns, receive positive audience reception, or both. By applying data cleaning, exploratory analysis, and visualization techniques, we aim to uncover meaningful relationships between variables such as production budgets, review scores, and revenue.\n",
        "\n",
        "Ultimately, we seek to deliver actionable, evidence-based recommendations that will empower stakeholders to make informed decisions about which types of films to produce, when to release them, and how to position them for maximum commercial success. This project lays the foundation for building a competitive, data-driven film studio poised to thrive in today’s dynamic entertainment landscape.\n",
        "\n"
      ]
    },
    {
      "cell_type": "markdown",
      "metadata": {
        "id": "MsbZWvGMSq68"
      },
      "source": [
        "# 🎬Behind the Screens: Data-Driven Insights for a New Movie Studio\n",
        "\n",
        "### 👥 Authors\n",
        "- Kelvin Shilisia\n",
        "- Mohamed Abdi\n",
        "- Raphael Ragot\n",
        "- Deborah Omondi\n",
        "- George Kariuki\n"
      ]
    },
    {
      "cell_type": "markdown",
      "metadata": {},
      "source": [
        "## 📊 The Data\n",
        "\n",
        "We are working with a rich collection of movie industry datasets sourced from several major platforms:\n",
        "\n",
        "- 🎟️ **Box Office Mojo**\n",
        "- 🎬 **IMDb**\n",
        "- 🍅 **Rotten Tomatoes**\n",
        "- 🎞️ **The Movie Database (TMDb)**\n",
        "- 💰 **The Numbers**\n",
        "\n",
        "These datasets are stored in the zippedData folder and come in multiple formats:\n",
        "\n",
        "- 🗃️ **Compressed CSV and TSV files** – Easily readable with `pandas.read_csv()` or spreadsheet tools.\n",
        "- 🗄️ **SQLite database** – Contains structured IMDb data accessible via SQL queries.\n",
        "\n",
        "### 📁 Provided Files\n",
        "\n",
        "- bom.movie_gross.csv\n",
        "- rt.movie_info.tsv\n",
        "- rt.reviews.tsv\n",
        "- tmdb.movies.csv\n",
        "- tn.movie_budgets.csv\n"
      ]
    },
    {
      "cell_type": "markdown",
      "metadata": {},
      "source": [
        "## Step 1: Data loading\n",
        "\n",
        "Load the five datasets into pandas DataFrames and display the first five rows of each.\n"
      ]
    },
    {
      "cell_type": "code",
      "execution_count": 2,
      "metadata": {
        "colab": {
          "base_uri": "https://localhost:8080/",
          "height": 1000
        },
        "id": "9OjdyA_9SsVt",
        "outputId": "e5bbb1bc-c80e-42fb-a96b-bd4b955c12d1"
      },
      "outputs": [
        {
          "name": "stdout",
          "output_type": "stream",
          "text": [
            "Error: 'bom.movie_gross.csv' not found.\n",
            "Error: 'rt.movie_info.tsv' not found.\n",
            "Error: 'rt.reviews.tsv' not found.\n",
            "Error: 'tmdb.movies.csv' not found.\n",
            "Error: 'tn.movie_budgets.csv' not found.\n"
          ]
        }
      ],
      "source": [
        "import pandas as pd\n",
        "\n",
        "try:\n",
        "    df_bom = pd.read_csv('bom.movie_gross.csv')\n",
        "    display(df_bom.head())\n",
        "except FileNotFoundError:\n",
        "    print(\"Error: 'bom.movie_gross.csv' not found.\")\n",
        "except pd.errors.ParserError:\n",
        "    print(\"Error: 'bom.movie_gross.csv' parsing error.\")\n",
        "except Exception as e:\n",
        "    print(f\"An unexpected error occurred while loading 'bom.movie_gross.csv': {e}\")\n",
        "\n",
        "try:\n",
        "    df_rt_info = pd.read_csv('rt.movie_info.tsv', sep='\\t')\n",
        "    display(df_rt_info.head())\n",
        "except FileNotFoundError:\n",
        "    print(\"Error: 'rt.movie_info.tsv' not found.\")\n",
        "except pd.errors.ParserError:\n",
        "    print(\"Error: 'rt.movie_info.tsv' parsing error.\")\n",
        "except Exception as e:\n",
        "    print(f\"An unexpected error occurred while loading 'rt.movie_info.tsv': {e}\")\n",
        "\n",
        "try:\n",
        "    df_rt_reviews = pd.read_csv('rt.reviews.tsv', sep='\\t')\n",
        "    display(df_rt_reviews.head())\n",
        "except FileNotFoundError:\n",
        "    print(\"Error: 'rt.reviews.tsv' not found.\")\n",
        "except pd.errors.ParserError:\n",
        "    print(\"Error: 'rt.reviews.tsv' parsing error.\")\n",
        "except Exception as e:\n",
        "    print(f\"An unexpected error occurred while loading 'rt.reviews.tsv': {e}\")\n",
        "\n",
        "try:\n",
        "    df_tmdb = pd.read_csv('tmdb.movies.csv')\n",
        "    display(df_tmdb.head())\n",
        "except FileNotFoundError:\n",
        "    print(\"Error: 'tmdb.movies.csv' not found.\")\n",
        "except pd.errors.ParserError:\n",
        "    print(\"Error: 'tmdb.movies.csv' parsing error.\")\n",
        "except Exception as e:\n",
        "    print(f\"An unexpected error occurred while loading 'tmdb.movies.csv': {e}\")\n",
        "\n",
        "try:\n",
        "    df_tn = pd.read_csv('tn.movie_budgets.csv')\n",
        "    display(df_tn.head())\n",
        "except FileNotFoundError:\n",
        "    print(\"Error: 'tn.movie_budgets.csv' not found.\")\n",
        "except pd.errors.ParserError:\n",
        "    print(\"Error: 'tn.movie_budgets.csv' parsing error.\")\n",
        "except Exception as e:\n",
        "    print(f\"An unexpected error occurred while loading 'tn.movie_budgets.csv': {e}\")"
      ]
    },
    {
      "cell_type": "markdown",
      "metadata": {
        "id": "U6-PLR9oSvDp"
      },
      "source": [
        "**Reasoning**:\n",
        "The previous code block failed to load `rt.reviews.tsv` due to a decoding error.  I will retry loading this file, specifying the encoding as 'latin-1', which is often used for files with non-UTF-8 characters.  I will also use the `low_memory=False` parameter as it may improve performance with large files.  The subtask is to load the five datasets. I will check for other potential errors in other data loading steps as well.\n",
        "\n"
      ]
    },
    {
      "cell_type": "code",
      "execution_count": 3,
      "metadata": {
        "colab": {
          "base_uri": "https://localhost:8080/",
          "height": 1000
        },
        "id": "icEhNaVFSvTa",
        "outputId": "6bf52445-42cb-4171-b9b3-5a7c464b7bfa"
      },
      "outputs": [
        {
          "data": {
            "application/vnd.microsoft.datawrangler.viewer.v0+json": {
              "columns": [
                {
                  "name": "index",
                  "rawType": "int64",
                  "type": "integer"
                },
                {
                  "name": "title",
                  "rawType": "object",
                  "type": "string"
                },
                {
                  "name": "studio",
                  "rawType": "object",
                  "type": "string"
                },
                {
                  "name": "domestic_gross",
                  "rawType": "float64",
                  "type": "float"
                },
                {
                  "name": "foreign_gross",
                  "rawType": "object",
                  "type": "string"
                },
                {
                  "name": "year",
                  "rawType": "int64",
                  "type": "integer"
                }
              ],
              "ref": "a5bd0ebb-d7a2-4bd9-9f1c-8e5ed382ca7f",
              "rows": [
                [
                  "0",
                  "Toy Story 3",
                  "BV",
                  "415000000.0",
                  "652000000",
                  "2010"
                ],
                [
                  "1",
                  "Alice in Wonderland (2010)",
                  "BV",
                  "334200000.0",
                  "691300000",
                  "2010"
                ],
                [
                  "2",
                  "Harry Potter and the Deathly Hallows Part 1",
                  "WB",
                  "296000000.0",
                  "664300000",
                  "2010"
                ],
                [
                  "3",
                  "Inception",
                  "WB",
                  "292600000.0",
                  "535700000",
                  "2010"
                ],
                [
                  "4",
                  "Shrek Forever After",
                  "P/DW",
                  "238700000.0",
                  "513900000",
                  "2010"
                ]
              ],
              "shape": {
                "columns": 5,
                "rows": 5
              }
            },
            "text/html": [
              "<div>\n",
              "<style scoped>\n",
              "    .dataframe tbody tr th:only-of-type {\n",
              "        vertical-align: middle;\n",
              "    }\n",
              "\n",
              "    .dataframe tbody tr th {\n",
              "        vertical-align: top;\n",
              "    }\n",
              "\n",
              "    .dataframe thead th {\n",
              "        text-align: right;\n",
              "    }\n",
              "</style>\n",
              "<table border=\"1\" class=\"dataframe\">\n",
              "  <thead>\n",
              "    <tr style=\"text-align: right;\">\n",
              "      <th></th>\n",
              "      <th>title</th>\n",
              "      <th>studio</th>\n",
              "      <th>domestic_gross</th>\n",
              "      <th>foreign_gross</th>\n",
              "      <th>year</th>\n",
              "    </tr>\n",
              "  </thead>\n",
              "  <tbody>\n",
              "    <tr>\n",
              "      <th>0</th>\n",
              "      <td>Toy Story 3</td>\n",
              "      <td>BV</td>\n",
              "      <td>415000000.0</td>\n",
              "      <td>652000000</td>\n",
              "      <td>2010</td>\n",
              "    </tr>\n",
              "    <tr>\n",
              "      <th>1</th>\n",
              "      <td>Alice in Wonderland (2010)</td>\n",
              "      <td>BV</td>\n",
              "      <td>334200000.0</td>\n",
              "      <td>691300000</td>\n",
              "      <td>2010</td>\n",
              "    </tr>\n",
              "    <tr>\n",
              "      <th>2</th>\n",
              "      <td>Harry Potter and the Deathly Hallows Part 1</td>\n",
              "      <td>WB</td>\n",
              "      <td>296000000.0</td>\n",
              "      <td>664300000</td>\n",
              "      <td>2010</td>\n",
              "    </tr>\n",
              "    <tr>\n",
              "      <th>3</th>\n",
              "      <td>Inception</td>\n",
              "      <td>WB</td>\n",
              "      <td>292600000.0</td>\n",
              "      <td>535700000</td>\n",
              "      <td>2010</td>\n",
              "    </tr>\n",
              "    <tr>\n",
              "      <th>4</th>\n",
              "      <td>Shrek Forever After</td>\n",
              "      <td>P/DW</td>\n",
              "      <td>238700000.0</td>\n",
              "      <td>513900000</td>\n",
              "      <td>2010</td>\n",
              "    </tr>\n",
              "  </tbody>\n",
              "</table>\n",
              "</div>"
            ],
            "text/plain": [
              "                                         title studio  domestic_gross  \\\n",
              "0                                  Toy Story 3     BV     415000000.0   \n",
              "1                   Alice in Wonderland (2010)     BV     334200000.0   \n",
              "2  Harry Potter and the Deathly Hallows Part 1     WB     296000000.0   \n",
              "3                                    Inception     WB     292600000.0   \n",
              "4                          Shrek Forever After   P/DW     238700000.0   \n",
              "\n",
              "  foreign_gross  year  \n",
              "0     652000000  2010  \n",
              "1     691300000  2010  \n",
              "2     664300000  2010  \n",
              "3     535700000  2010  \n",
              "4     513900000  2010  "
            ]
          },
          "metadata": {},
          "output_type": "display_data"
        },
        {
          "data": {
            "application/vnd.microsoft.datawrangler.viewer.v0+json": {
              "columns": [
                {
                  "name": "index",
                  "rawType": "int64",
                  "type": "integer"
                },
                {
                  "name": "id",
                  "rawType": "int64",
                  "type": "integer"
                },
                {
                  "name": "synopsis",
                  "rawType": "object",
                  "type": "string"
                },
                {
                  "name": "rating",
                  "rawType": "object",
                  "type": "string"
                },
                {
                  "name": "genre",
                  "rawType": "object",
                  "type": "string"
                },
                {
                  "name": "director",
                  "rawType": "object",
                  "type": "string"
                },
                {
                  "name": "writer",
                  "rawType": "object",
                  "type": "string"
                },
                {
                  "name": "theater_date",
                  "rawType": "object",
                  "type": "string"
                },
                {
                  "name": "dvd_date",
                  "rawType": "object",
                  "type": "string"
                },
                {
                  "name": "currency",
                  "rawType": "object",
                  "type": "string"
                },
                {
                  "name": "box_office",
                  "rawType": "object",
                  "type": "string"
                },
                {
                  "name": "runtime",
                  "rawType": "object",
                  "type": "string"
                },
                {
                  "name": "studio",
                  "rawType": "object",
                  "type": "string"
                }
              ],
              "ref": "a0501923-f134-4039-a6cb-8180946c01a5",
              "rows": [
                [
                  "0",
                  "1",
                  "This gritty, fast-paced, and innovative police drama earned five Academy Awards, including Best Picture, Best Adapted Screenplay (written by Ernest Tidyman), and Best Actor (Gene Hackman). Jimmy \"Popeye\" Doyle (Hackman) and his partner, Buddy Russo (Roy Scheider), are New York City police detectives on narcotics detail, trying to track down the source of heroin from Europe into the United States. Suave Alain Charnier (Fernando Rey) is the French drug kingpin who provides a large percentage of New York City's dope, and Pierre Nicoli (Marcel Bozzuffi) is a hired killer and Charnier's right-hand man. Acting on a hunch, Popeye and Buddy start tailing Sal Boca (Tony Lo Bianco) and his wife, Angie (Arlene Faber), who live pretty high for a couple whose corner store brings in about 7,000 dollars a year. It turns out Popeye's suspicions are right -- Sal and Angie are the New York agents for Charnier, who will be smuggling 32 million dollars' worth of heroin into the city in a car shipped over from France. The French Connection broke plenty of new ground for screen thrillers; Popeye Doyle was a highly unusual \"hero,\" an often violent, racist, and mean-spirited cop whose dedication to his job fell just short of dangerous obsession. The film's high point, a high-speed car chase with Popeye tailing an elevated train, was one of the most viscerally exciting screen moments of its day and set the stage for dozens of action sequences to follow. And the film's grimy realism (and downbeat ending) was a big change from the buff-and-shine gloss and good-guys-always-win heroics of most police dramas that preceded it. The French Connection was inspired by a true story, and Eddie Egan and Sonny Grosso, Popeye and Buddy's real life counterparts, both have small roles in the film. A sequel followed four years later.",
                  "R",
                  "Action and Adventure|Classics|Drama",
                  "William Friedkin",
                  "Ernest Tidyman",
                  "Oct 9, 1971",
                  "Sep 25, 2001",
                  null,
                  null,
                  "104 minutes",
                  null
                ],
                [
                  "1",
                  "3",
                  "New York City, not-too-distant-future: Eric Packer, a 28 year-old finance golden boy dreaming of living in a civilization ahead of this one, watches a dark shadow cast over the firmament of the Wall Street galaxy, of which he is the uncontested king. As he is chauffeured across midtown Manhattan to get a haircut at his father's old barber, his anxious eyes are glued to the yuan's exchange rate: it is mounting against all expectations, destroying Eric's bet against it. Eric Packer is losing his empire with every tick of the clock. Meanwhile, an eruption of wild activity unfolds in the city's streets. Petrified as the threats of the real world infringe upon his cloud of virtual convictions, his paranoia intensifies during the course of his 24-hour cross-town odyssey. Packer starts to piece together clues that lead him to a most terrifying secret: his imminent assassination. -- (C) Official Site",
                  "R",
                  "Drama|Science Fiction and Fantasy",
                  "David Cronenberg",
                  "David Cronenberg|Don DeLillo",
                  "Aug 17, 2012",
                  "Jan 1, 2013",
                  "$",
                  "600,000",
                  "108 minutes",
                  "Entertainment One"
                ],
                [
                  "2",
                  "5",
                  "Illeana Douglas delivers a superb performance as Denise Waverly, a fictional singer and songwriter whose life bears more than a passing resemblance to that of real-life pop star Carole King. Edna Buxton, the daughter of a Philadelphia steel tycoon, aspires to a career as a singer, and when against her mother's bidding she sings a sultry version of \"Hey There (You With the Stars in Your Eyes)\" (instead of Mom's choice, \"You'll Never Walk Alone\") at a talent contest, she wins a recording contact and moves to New York City. She cuts a record and gains a new stage name, Denise Waverly; however, she soon finds that girl singers are a dime a dozen in the Big Apple and her career as a vocalist goes nowhere. But she has a knack for writing songs, and eccentric producer Joel Milner (John Turturro) asks her to pen some songs for his upcoming projects. Teamed with Howard Caszatt (Eric Stoltz), a hipster songwriter who wants to express his political and social ideals through pop tunes, she finds both a successful collaborator and husband. While her work with Howard gains Denise writing credits on a string of hit records and respect within the industry, their marriage falls apart, and she becomes involved with Jay Phillips (Matt Dillon), the gifted but unstable leader of a popular West Coast surf music combo. Students of pop music history will have a ball with the various characters modeled after real-life rock legends, and the 1960s-style song score includes numbers written by Joni Mitchell and J. Mascis (of the band Dinosaur Jr.), as well as one-time King collaborator Gerry Goffin; a collaboration between Elvis Costello and Burt Bacharach, \"God Give Me Strength,\" led to a full album written by the two great tunesmiths.",
                  "R",
                  "Drama|Musical and Performing Arts",
                  "Allison Anders",
                  "Allison Anders",
                  "Sep 13, 1996",
                  "Apr 18, 2000",
                  null,
                  null,
                  "116 minutes",
                  null
                ],
                [
                  "3",
                  "6",
                  "Michael Douglas runs afoul of a treacherous supervisor in this film version of Michael Crichton's novel. Douglas plays Tom Sanders, an executive at DigiCom, a leading computer software firm. DigiCom is about to launch a new virtual reality-based data storage system that is expected to revolutionize the industry, and Bob Garvin (Donald Sutherland), the owner of the company, is in the midst of negotiating a merger that could bring",
                  "R",
                  "Drama|Mystery and Suspense",
                  "Barry Levinson",
                  "Paul Attanasio|Michael Crichton",
                  "Dec 9, 1994",
                  "Aug 27, 1997",
                  null,
                  null,
                  "128 minutes",
                  null
                ],
                [
                  "4",
                  "7",
                  null,
                  "NR",
                  "Drama|Romance",
                  "Rodney Bennett",
                  "Giles Cooper",
                  null,
                  null,
                  null,
                  null,
                  "200 minutes",
                  null
                ]
              ],
              "shape": {
                "columns": 12,
                "rows": 5
              }
            },
            "text/html": [
              "<div>\n",
              "<style scoped>\n",
              "    .dataframe tbody tr th:only-of-type {\n",
              "        vertical-align: middle;\n",
              "    }\n",
              "\n",
              "    .dataframe tbody tr th {\n",
              "        vertical-align: top;\n",
              "    }\n",
              "\n",
              "    .dataframe thead th {\n",
              "        text-align: right;\n",
              "    }\n",
              "</style>\n",
              "<table border=\"1\" class=\"dataframe\">\n",
              "  <thead>\n",
              "    <tr style=\"text-align: right;\">\n",
              "      <th></th>\n",
              "      <th>id</th>\n",
              "      <th>synopsis</th>\n",
              "      <th>rating</th>\n",
              "      <th>genre</th>\n",
              "      <th>director</th>\n",
              "      <th>writer</th>\n",
              "      <th>theater_date</th>\n",
              "      <th>dvd_date</th>\n",
              "      <th>currency</th>\n",
              "      <th>box_office</th>\n",
              "      <th>runtime</th>\n",
              "      <th>studio</th>\n",
              "    </tr>\n",
              "  </thead>\n",
              "  <tbody>\n",
              "    <tr>\n",
              "      <th>0</th>\n",
              "      <td>1</td>\n",
              "      <td>This gritty, fast-paced, and innovative police...</td>\n",
              "      <td>R</td>\n",
              "      <td>Action and Adventure|Classics|Drama</td>\n",
              "      <td>William Friedkin</td>\n",
              "      <td>Ernest Tidyman</td>\n",
              "      <td>Oct 9, 1971</td>\n",
              "      <td>Sep 25, 2001</td>\n",
              "      <td>NaN</td>\n",
              "      <td>NaN</td>\n",
              "      <td>104 minutes</td>\n",
              "      <td>NaN</td>\n",
              "    </tr>\n",
              "    <tr>\n",
              "      <th>1</th>\n",
              "      <td>3</td>\n",
              "      <td>New York City, not-too-distant-future: Eric Pa...</td>\n",
              "      <td>R</td>\n",
              "      <td>Drama|Science Fiction and Fantasy</td>\n",
              "      <td>David Cronenberg</td>\n",
              "      <td>David Cronenberg|Don DeLillo</td>\n",
              "      <td>Aug 17, 2012</td>\n",
              "      <td>Jan 1, 2013</td>\n",
              "      <td>$</td>\n",
              "      <td>600,000</td>\n",
              "      <td>108 minutes</td>\n",
              "      <td>Entertainment One</td>\n",
              "    </tr>\n",
              "    <tr>\n",
              "      <th>2</th>\n",
              "      <td>5</td>\n",
              "      <td>Illeana Douglas delivers a superb performance ...</td>\n",
              "      <td>R</td>\n",
              "      <td>Drama|Musical and Performing Arts</td>\n",
              "      <td>Allison Anders</td>\n",
              "      <td>Allison Anders</td>\n",
              "      <td>Sep 13, 1996</td>\n",
              "      <td>Apr 18, 2000</td>\n",
              "      <td>NaN</td>\n",
              "      <td>NaN</td>\n",
              "      <td>116 minutes</td>\n",
              "      <td>NaN</td>\n",
              "    </tr>\n",
              "    <tr>\n",
              "      <th>3</th>\n",
              "      <td>6</td>\n",
              "      <td>Michael Douglas runs afoul of a treacherous su...</td>\n",
              "      <td>R</td>\n",
              "      <td>Drama|Mystery and Suspense</td>\n",
              "      <td>Barry Levinson</td>\n",
              "      <td>Paul Attanasio|Michael Crichton</td>\n",
              "      <td>Dec 9, 1994</td>\n",
              "      <td>Aug 27, 1997</td>\n",
              "      <td>NaN</td>\n",
              "      <td>NaN</td>\n",
              "      <td>128 minutes</td>\n",
              "      <td>NaN</td>\n",
              "    </tr>\n",
              "    <tr>\n",
              "      <th>4</th>\n",
              "      <td>7</td>\n",
              "      <td>NaN</td>\n",
              "      <td>NR</td>\n",
              "      <td>Drama|Romance</td>\n",
              "      <td>Rodney Bennett</td>\n",
              "      <td>Giles Cooper</td>\n",
              "      <td>NaN</td>\n",
              "      <td>NaN</td>\n",
              "      <td>NaN</td>\n",
              "      <td>NaN</td>\n",
              "      <td>200 minutes</td>\n",
              "      <td>NaN</td>\n",
              "    </tr>\n",
              "  </tbody>\n",
              "</table>\n",
              "</div>"
            ],
            "text/plain": [
              "   id                                           synopsis rating  \\\n",
              "0   1  This gritty, fast-paced, and innovative police...      R   \n",
              "1   3  New York City, not-too-distant-future: Eric Pa...      R   \n",
              "2   5  Illeana Douglas delivers a superb performance ...      R   \n",
              "3   6  Michael Douglas runs afoul of a treacherous su...      R   \n",
              "4   7                                                NaN     NR   \n",
              "\n",
              "                                 genre          director  \\\n",
              "0  Action and Adventure|Classics|Drama  William Friedkin   \n",
              "1    Drama|Science Fiction and Fantasy  David Cronenberg   \n",
              "2    Drama|Musical and Performing Arts    Allison Anders   \n",
              "3           Drama|Mystery and Suspense    Barry Levinson   \n",
              "4                        Drama|Romance    Rodney Bennett   \n",
              "\n",
              "                            writer  theater_date      dvd_date currency  \\\n",
              "0                   Ernest Tidyman   Oct 9, 1971  Sep 25, 2001      NaN   \n",
              "1     David Cronenberg|Don DeLillo  Aug 17, 2012   Jan 1, 2013        $   \n",
              "2                   Allison Anders  Sep 13, 1996  Apr 18, 2000      NaN   \n",
              "3  Paul Attanasio|Michael Crichton   Dec 9, 1994  Aug 27, 1997      NaN   \n",
              "4                     Giles Cooper           NaN           NaN      NaN   \n",
              "\n",
              "  box_office      runtime             studio  \n",
              "0        NaN  104 minutes                NaN  \n",
              "1    600,000  108 minutes  Entertainment One  \n",
              "2        NaN  116 minutes                NaN  \n",
              "3        NaN  128 minutes                NaN  \n",
              "4        NaN  200 minutes                NaN  "
            ]
          },
          "metadata": {},
          "output_type": "display_data"
        },
        {
          "data": {
            "application/vnd.microsoft.datawrangler.viewer.v0+json": {
              "columns": [
                {
                  "name": "index",
                  "rawType": "int64",
                  "type": "integer"
                },
                {
                  "name": "id",
                  "rawType": "int64",
                  "type": "integer"
                },
                {
                  "name": "review",
                  "rawType": "object",
                  "type": "string"
                },
                {
                  "name": "rating",
                  "rawType": "object",
                  "type": "string"
                },
                {
                  "name": "fresh",
                  "rawType": "object",
                  "type": "string"
                },
                {
                  "name": "critic",
                  "rawType": "object",
                  "type": "string"
                },
                {
                  "name": "top_critic",
                  "rawType": "int64",
                  "type": "integer"
                },
                {
                  "name": "publisher",
                  "rawType": "object",
                  "type": "string"
                },
                {
                  "name": "date",
                  "rawType": "object",
                  "type": "string"
                }
              ],
              "ref": "7a01b04f-d544-4d5e-84a1-038fcc7946bf",
              "rows": [
                [
                  "0",
                  "3",
                  "A distinctly gallows take on contemporary financial mores, as one absurdly rich man's limo ride across town for a haircut functions as a state-of-the-nation discourse. ",
                  "3/5",
                  "fresh",
                  "PJ Nabarro",
                  "0",
                  "Patrick Nabarro",
                  "November 10, 2018"
                ],
                [
                  "1",
                  "3",
                  "It's an allegory in search of a meaning that never arrives...It's just old-fashioned bad storytelling.",
                  null,
                  "rotten",
                  "Annalee Newitz",
                  "0",
                  "io9.com",
                  "May 23, 2018"
                ],
                [
                  "2",
                  "3",
                  "... life lived in a bubble in financial dealings and digital communications and brief face-to-face conversations and sexual intermissions in a space shuttle of a limousine creeping through the gridlock of an anonymous New York City.",
                  null,
                  "fresh",
                  "Sean Axmaker",
                  "0",
                  "Stream on Demand",
                  "January 4, 2018"
                ],
                [
                  "3",
                  "3",
                  "Continuing along a line introduced in last year's \"A Dangerous Method\", David Cronenberg pushes his cinema towards a talky abstraction in his uncanny, perversely funny and frighteningly insular adaptation of Don DeLillo, \"Cosmopolis\".",
                  null,
                  "fresh",
                  "Daniel Kasman",
                  "0",
                  "MUBI",
                  "November 16, 2017"
                ],
                [
                  "4",
                  "3",
                  "... a perverse twist on neorealism... ",
                  null,
                  "fresh",
                  null,
                  "0",
                  "Cinema Scope",
                  "October 12, 2017"
                ]
              ],
              "shape": {
                "columns": 8,
                "rows": 5
              }
            },
            "text/html": [
              "<div>\n",
              "<style scoped>\n",
              "    .dataframe tbody tr th:only-of-type {\n",
              "        vertical-align: middle;\n",
              "    }\n",
              "\n",
              "    .dataframe tbody tr th {\n",
              "        vertical-align: top;\n",
              "    }\n",
              "\n",
              "    .dataframe thead th {\n",
              "        text-align: right;\n",
              "    }\n",
              "</style>\n",
              "<table border=\"1\" class=\"dataframe\">\n",
              "  <thead>\n",
              "    <tr style=\"text-align: right;\">\n",
              "      <th></th>\n",
              "      <th>id</th>\n",
              "      <th>review</th>\n",
              "      <th>rating</th>\n",
              "      <th>fresh</th>\n",
              "      <th>critic</th>\n",
              "      <th>top_critic</th>\n",
              "      <th>publisher</th>\n",
              "      <th>date</th>\n",
              "    </tr>\n",
              "  </thead>\n",
              "  <tbody>\n",
              "    <tr>\n",
              "      <th>0</th>\n",
              "      <td>3</td>\n",
              "      <td>A distinctly gallows take on contemporary fina...</td>\n",
              "      <td>3/5</td>\n",
              "      <td>fresh</td>\n",
              "      <td>PJ Nabarro</td>\n",
              "      <td>0</td>\n",
              "      <td>Patrick Nabarro</td>\n",
              "      <td>November 10, 2018</td>\n",
              "    </tr>\n",
              "    <tr>\n",
              "      <th>1</th>\n",
              "      <td>3</td>\n",
              "      <td>It's an allegory in search of a meaning that n...</td>\n",
              "      <td>NaN</td>\n",
              "      <td>rotten</td>\n",
              "      <td>Annalee Newitz</td>\n",
              "      <td>0</td>\n",
              "      <td>io9.com</td>\n",
              "      <td>May 23, 2018</td>\n",
              "    </tr>\n",
              "    <tr>\n",
              "      <th>2</th>\n",
              "      <td>3</td>\n",
              "      <td>... life lived in a bubble in financial dealin...</td>\n",
              "      <td>NaN</td>\n",
              "      <td>fresh</td>\n",
              "      <td>Sean Axmaker</td>\n",
              "      <td>0</td>\n",
              "      <td>Stream on Demand</td>\n",
              "      <td>January 4, 2018</td>\n",
              "    </tr>\n",
              "    <tr>\n",
              "      <th>3</th>\n",
              "      <td>3</td>\n",
              "      <td>Continuing along a line introduced in last yea...</td>\n",
              "      <td>NaN</td>\n",
              "      <td>fresh</td>\n",
              "      <td>Daniel Kasman</td>\n",
              "      <td>0</td>\n",
              "      <td>MUBI</td>\n",
              "      <td>November 16, 2017</td>\n",
              "    </tr>\n",
              "    <tr>\n",
              "      <th>4</th>\n",
              "      <td>3</td>\n",
              "      <td>... a perverse twist on neorealism...</td>\n",
              "      <td>NaN</td>\n",
              "      <td>fresh</td>\n",
              "      <td>NaN</td>\n",
              "      <td>0</td>\n",
              "      <td>Cinema Scope</td>\n",
              "      <td>October 12, 2017</td>\n",
              "    </tr>\n",
              "  </tbody>\n",
              "</table>\n",
              "</div>"
            ],
            "text/plain": [
              "   id                                             review rating   fresh  \\\n",
              "0   3  A distinctly gallows take on contemporary fina...    3/5   fresh   \n",
              "1   3  It's an allegory in search of a meaning that n...    NaN  rotten   \n",
              "2   3  ... life lived in a bubble in financial dealin...    NaN   fresh   \n",
              "3   3  Continuing along a line introduced in last yea...    NaN   fresh   \n",
              "4   3             ... a perverse twist on neorealism...     NaN   fresh   \n",
              "\n",
              "           critic  top_critic         publisher               date  \n",
              "0      PJ Nabarro           0   Patrick Nabarro  November 10, 2018  \n",
              "1  Annalee Newitz           0           io9.com       May 23, 2018  \n",
              "2    Sean Axmaker           0  Stream on Demand    January 4, 2018  \n",
              "3   Daniel Kasman           0              MUBI  November 16, 2017  \n",
              "4             NaN           0      Cinema Scope   October 12, 2017  "
            ]
          },
          "metadata": {},
          "output_type": "display_data"
        },
        {
          "data": {
            "application/vnd.microsoft.datawrangler.viewer.v0+json": {
              "columns": [
                {
                  "name": "index",
                  "rawType": "int64",
                  "type": "integer"
                },
                {
                  "name": "Unnamed: 0",
                  "rawType": "int64",
                  "type": "integer"
                },
                {
                  "name": "genre_ids",
                  "rawType": "object",
                  "type": "string"
                },
                {
                  "name": "id",
                  "rawType": "int64",
                  "type": "integer"
                },
                {
                  "name": "original_language",
                  "rawType": "object",
                  "type": "string"
                },
                {
                  "name": "original_title",
                  "rawType": "object",
                  "type": "string"
                },
                {
                  "name": "popularity",
                  "rawType": "float64",
                  "type": "float"
                },
                {
                  "name": "release_date",
                  "rawType": "object",
                  "type": "string"
                },
                {
                  "name": "title",
                  "rawType": "object",
                  "type": "string"
                },
                {
                  "name": "vote_average",
                  "rawType": "float64",
                  "type": "float"
                },
                {
                  "name": "vote_count",
                  "rawType": "int64",
                  "type": "integer"
                }
              ],
              "ref": "1f0929eb-a11b-4431-b3d4-f9e3a82ffb79",
              "rows": [
                [
                  "0",
                  "0",
                  "[12, 14, 10751]",
                  "12444",
                  "en",
                  "Harry Potter and the Deathly Hallows: Part 1",
                  "33.533",
                  "2010-11-19",
                  "Harry Potter and the Deathly Hallows: Part 1",
                  "7.7",
                  "10788"
                ],
                [
                  "1",
                  "1",
                  "[14, 12, 16, 10751]",
                  "10191",
                  "en",
                  "How to Train Your Dragon",
                  "28.734",
                  "2010-03-26",
                  "How to Train Your Dragon",
                  "7.7",
                  "7610"
                ],
                [
                  "2",
                  "2",
                  "[12, 28, 878]",
                  "10138",
                  "en",
                  "Iron Man 2",
                  "28.515",
                  "2010-05-07",
                  "Iron Man 2",
                  "6.8",
                  "12368"
                ],
                [
                  "3",
                  "3",
                  "[16, 35, 10751]",
                  "862",
                  "en",
                  "Toy Story",
                  "28.005",
                  "1995-11-22",
                  "Toy Story",
                  "7.9",
                  "10174"
                ],
                [
                  "4",
                  "4",
                  "[28, 878, 12]",
                  "27205",
                  "en",
                  "Inception",
                  "27.92",
                  "2010-07-16",
                  "Inception",
                  "8.3",
                  "22186"
                ]
              ],
              "shape": {
                "columns": 10,
                "rows": 5
              }
            },
            "text/html": [
              "<div>\n",
              "<style scoped>\n",
              "    .dataframe tbody tr th:only-of-type {\n",
              "        vertical-align: middle;\n",
              "    }\n",
              "\n",
              "    .dataframe tbody tr th {\n",
              "        vertical-align: top;\n",
              "    }\n",
              "\n",
              "    .dataframe thead th {\n",
              "        text-align: right;\n",
              "    }\n",
              "</style>\n",
              "<table border=\"1\" class=\"dataframe\">\n",
              "  <thead>\n",
              "    <tr style=\"text-align: right;\">\n",
              "      <th></th>\n",
              "      <th>Unnamed: 0</th>\n",
              "      <th>genre_ids</th>\n",
              "      <th>id</th>\n",
              "      <th>original_language</th>\n",
              "      <th>original_title</th>\n",
              "      <th>popularity</th>\n",
              "      <th>release_date</th>\n",
              "      <th>title</th>\n",
              "      <th>vote_average</th>\n",
              "      <th>vote_count</th>\n",
              "    </tr>\n",
              "  </thead>\n",
              "  <tbody>\n",
              "    <tr>\n",
              "      <th>0</th>\n",
              "      <td>0</td>\n",
              "      <td>[12, 14, 10751]</td>\n",
              "      <td>12444</td>\n",
              "      <td>en</td>\n",
              "      <td>Harry Potter and the Deathly Hallows: Part 1</td>\n",
              "      <td>33.533</td>\n",
              "      <td>2010-11-19</td>\n",
              "      <td>Harry Potter and the Deathly Hallows: Part 1</td>\n",
              "      <td>7.7</td>\n",
              "      <td>10788</td>\n",
              "    </tr>\n",
              "    <tr>\n",
              "      <th>1</th>\n",
              "      <td>1</td>\n",
              "      <td>[14, 12, 16, 10751]</td>\n",
              "      <td>10191</td>\n",
              "      <td>en</td>\n",
              "      <td>How to Train Your Dragon</td>\n",
              "      <td>28.734</td>\n",
              "      <td>2010-03-26</td>\n",
              "      <td>How to Train Your Dragon</td>\n",
              "      <td>7.7</td>\n",
              "      <td>7610</td>\n",
              "    </tr>\n",
              "    <tr>\n",
              "      <th>2</th>\n",
              "      <td>2</td>\n",
              "      <td>[12, 28, 878]</td>\n",
              "      <td>10138</td>\n",
              "      <td>en</td>\n",
              "      <td>Iron Man 2</td>\n",
              "      <td>28.515</td>\n",
              "      <td>2010-05-07</td>\n",
              "      <td>Iron Man 2</td>\n",
              "      <td>6.8</td>\n",
              "      <td>12368</td>\n",
              "    </tr>\n",
              "    <tr>\n",
              "      <th>3</th>\n",
              "      <td>3</td>\n",
              "      <td>[16, 35, 10751]</td>\n",
              "      <td>862</td>\n",
              "      <td>en</td>\n",
              "      <td>Toy Story</td>\n",
              "      <td>28.005</td>\n",
              "      <td>1995-11-22</td>\n",
              "      <td>Toy Story</td>\n",
              "      <td>7.9</td>\n",
              "      <td>10174</td>\n",
              "    </tr>\n",
              "    <tr>\n",
              "      <th>4</th>\n",
              "      <td>4</td>\n",
              "      <td>[28, 878, 12]</td>\n",
              "      <td>27205</td>\n",
              "      <td>en</td>\n",
              "      <td>Inception</td>\n",
              "      <td>27.920</td>\n",
              "      <td>2010-07-16</td>\n",
              "      <td>Inception</td>\n",
              "      <td>8.3</td>\n",
              "      <td>22186</td>\n",
              "    </tr>\n",
              "  </tbody>\n",
              "</table>\n",
              "</div>"
            ],
            "text/plain": [
              "   Unnamed: 0            genre_ids     id original_language  \\\n",
              "0           0      [12, 14, 10751]  12444                en   \n",
              "1           1  [14, 12, 16, 10751]  10191                en   \n",
              "2           2        [12, 28, 878]  10138                en   \n",
              "3           3      [16, 35, 10751]    862                en   \n",
              "4           4        [28, 878, 12]  27205                en   \n",
              "\n",
              "                                 original_title  popularity release_date  \\\n",
              "0  Harry Potter and the Deathly Hallows: Part 1      33.533   2010-11-19   \n",
              "1                      How to Train Your Dragon      28.734   2010-03-26   \n",
              "2                                    Iron Man 2      28.515   2010-05-07   \n",
              "3                                     Toy Story      28.005   1995-11-22   \n",
              "4                                     Inception      27.920   2010-07-16   \n",
              "\n",
              "                                          title  vote_average  vote_count  \n",
              "0  Harry Potter and the Deathly Hallows: Part 1           7.7       10788  \n",
              "1                      How to Train Your Dragon           7.7        7610  \n",
              "2                                    Iron Man 2           6.8       12368  \n",
              "3                                     Toy Story           7.9       10174  \n",
              "4                                     Inception           8.3       22186  "
            ]
          },
          "metadata": {},
          "output_type": "display_data"
        },
        {
          "data": {
            "application/vnd.microsoft.datawrangler.viewer.v0+json": {
              "columns": [
                {
                  "name": "index",
                  "rawType": "int64",
                  "type": "integer"
                },
                {
                  "name": "id",
                  "rawType": "int64",
                  "type": "integer"
                },
                {
                  "name": "release_date",
                  "rawType": "object",
                  "type": "string"
                },
                {
                  "name": "movie",
                  "rawType": "object",
                  "type": "string"
                },
                {
                  "name": "production_budget",
                  "rawType": "object",
                  "type": "string"
                },
                {
                  "name": "domestic_gross",
                  "rawType": "object",
                  "type": "string"
                },
                {
                  "name": "worldwide_gross",
                  "rawType": "object",
                  "type": "string"
                }
              ],
              "ref": "2d0148e9-563b-4108-bd3d-02cc14f5d6ea",
              "rows": [
                [
                  "0",
                  "1",
                  "Dec 18, 2009",
                  "Avatar",
                  "$425,000,000",
                  "$760,507,625",
                  "$2,776,345,279"
                ],
                [
                  "1",
                  "2",
                  "May 20, 2011",
                  "Pirates of the Caribbean: On Stranger Tides",
                  "$410,600,000",
                  "$241,063,875",
                  "$1,045,663,875"
                ],
                [
                  "2",
                  "3",
                  "Jun 7, 2019",
                  "Dark Phoenix",
                  "$350,000,000",
                  "$42,762,350",
                  "$149,762,350"
                ],
                [
                  "3",
                  "4",
                  "May 1, 2015",
                  "Avengers: Age of Ultron",
                  "$330,600,000",
                  "$459,005,868",
                  "$1,403,013,963"
                ],
                [
                  "4",
                  "5",
                  "Dec 15, 2017",
                  "Star Wars Ep. VIII: The Last Jedi",
                  "$317,000,000",
                  "$620,181,382",
                  "$1,316,721,747"
                ]
              ],
              "shape": {
                "columns": 6,
                "rows": 5
              }
            },
            "text/html": [
              "<div>\n",
              "<style scoped>\n",
              "    .dataframe tbody tr th:only-of-type {\n",
              "        vertical-align: middle;\n",
              "    }\n",
              "\n",
              "    .dataframe tbody tr th {\n",
              "        vertical-align: top;\n",
              "    }\n",
              "\n",
              "    .dataframe thead th {\n",
              "        text-align: right;\n",
              "    }\n",
              "</style>\n",
              "<table border=\"1\" class=\"dataframe\">\n",
              "  <thead>\n",
              "    <tr style=\"text-align: right;\">\n",
              "      <th></th>\n",
              "      <th>id</th>\n",
              "      <th>release_date</th>\n",
              "      <th>movie</th>\n",
              "      <th>production_budget</th>\n",
              "      <th>domestic_gross</th>\n",
              "      <th>worldwide_gross</th>\n",
              "    </tr>\n",
              "  </thead>\n",
              "  <tbody>\n",
              "    <tr>\n",
              "      <th>0</th>\n",
              "      <td>1</td>\n",
              "      <td>Dec 18, 2009</td>\n",
              "      <td>Avatar</td>\n",
              "      <td>$425,000,000</td>\n",
              "      <td>$760,507,625</td>\n",
              "      <td>$2,776,345,279</td>\n",
              "    </tr>\n",
              "    <tr>\n",
              "      <th>1</th>\n",
              "      <td>2</td>\n",
              "      <td>May 20, 2011</td>\n",
              "      <td>Pirates of the Caribbean: On Stranger Tides</td>\n",
              "      <td>$410,600,000</td>\n",
              "      <td>$241,063,875</td>\n",
              "      <td>$1,045,663,875</td>\n",
              "    </tr>\n",
              "    <tr>\n",
              "      <th>2</th>\n",
              "      <td>3</td>\n",
              "      <td>Jun 7, 2019</td>\n",
              "      <td>Dark Phoenix</td>\n",
              "      <td>$350,000,000</td>\n",
              "      <td>$42,762,350</td>\n",
              "      <td>$149,762,350</td>\n",
              "    </tr>\n",
              "    <tr>\n",
              "      <th>3</th>\n",
              "      <td>4</td>\n",
              "      <td>May 1, 2015</td>\n",
              "      <td>Avengers: Age of Ultron</td>\n",
              "      <td>$330,600,000</td>\n",
              "      <td>$459,005,868</td>\n",
              "      <td>$1,403,013,963</td>\n",
              "    </tr>\n",
              "    <tr>\n",
              "      <th>4</th>\n",
              "      <td>5</td>\n",
              "      <td>Dec 15, 2017</td>\n",
              "      <td>Star Wars Ep. VIII: The Last Jedi</td>\n",
              "      <td>$317,000,000</td>\n",
              "      <td>$620,181,382</td>\n",
              "      <td>$1,316,721,747</td>\n",
              "    </tr>\n",
              "  </tbody>\n",
              "</table>\n",
              "</div>"
            ],
            "text/plain": [
              "   id  release_date                                        movie  \\\n",
              "0   1  Dec 18, 2009                                       Avatar   \n",
              "1   2  May 20, 2011  Pirates of the Caribbean: On Stranger Tides   \n",
              "2   3   Jun 7, 2019                                 Dark Phoenix   \n",
              "3   4   May 1, 2015                      Avengers: Age of Ultron   \n",
              "4   5  Dec 15, 2017            Star Wars Ep. VIII: The Last Jedi   \n",
              "\n",
              "  production_budget domestic_gross worldwide_gross  \n",
              "0      $425,000,000   $760,507,625  $2,776,345,279  \n",
              "1      $410,600,000   $241,063,875  $1,045,663,875  \n",
              "2      $350,000,000    $42,762,350    $149,762,350  \n",
              "3      $330,600,000   $459,005,868  $1,403,013,963  \n",
              "4      $317,000,000   $620,181,382  $1,316,721,747  "
            ]
          },
          "metadata": {},
          "output_type": "display_data"
        }
      ],
      "source": [
        "import pandas as pd\n",
        "\n",
        "try:\n",
        "    df_bom = pd.read_csv('Data/bom.movie_gross.csv')\n",
        "    display(df_bom.head())\n",
        "except FileNotFoundError:\n",
        "    print(\"Error: 'bom.movie_gross.csv' not found.\")\n",
        "except pd.errors.ParserError:\n",
        "    print(\"Error: 'bom.movie_gross.csv' parsing error.\")\n",
        "except Exception as e:\n",
        "    print(f\"An unexpected error occurred while loading 'bom.movie_gross.csv': {e}\")\n",
        "\n",
        "try:\n",
        "    df_rt_info = pd.read_csv('Data/rt.movie_info.tsv', sep='\\t')\n",
        "    display(df_rt_info.head())\n",
        "except FileNotFoundError:\n",
        "    print(\"Error: 'rt.movie_info.tsv' not found.\")\n",
        "except pd.errors.ParserError:\n",
        "    print(\"Error: 'rt.movie_info.tsv' parsing error.\")\n",
        "except Exception as e:\n",
        "    print(f\"An unexpected error occurred while loading 'rt.movie_info.tsv': {e}\")\n",
        "\n",
        "try:\n",
        "    df_rt_reviews = pd.read_csv('Data/rt.reviews.tsv', sep='\\t', encoding='latin-1', low_memory=False)\n",
        "    display(df_rt_reviews.head())\n",
        "except FileNotFoundError:\n",
        "    print(\"Error: 'rt.reviews.tsv' not found.\")\n",
        "except pd.errors.ParserError:\n",
        "    print(\"Error: 'rt.reviews.tsv' parsing error.\")\n",
        "except Exception as e:\n",
        "    print(f\"An unexpected error occurred while loading 'rt.reviews.tsv': {e}\")\n",
        "\n",
        "try:\n",
        "    df_tmdb = pd.read_csv('Data/tmdb.movies.csv')\n",
        "    display(df_tmdb.head())\n",
        "except FileNotFoundError:\n",
        "    print(\"Error: 'tmdb.movies.csv' not found.\")\n",
        "except pd.errors.ParserError:\n",
        "    print(\"Error: 'tmdb.movies.csv' parsing error.\")\n",
        "except Exception as e:\n",
        "    print(f\"An unexpected error occurred while loading 'tmdb.movies.csv': {e}\")\n",
        "\n",
        "try:\n",
        "    df_tn = pd.read_csv('Data/tn.movie_budgets.csv')\n",
        "    display(df_tn.head())\n",
        "except FileNotFoundError:\n",
        "    print(\"Error: 'tn.movie_budgets.csv' not found.\")\n",
        "except pd.errors.ParserError:\n",
        "    print(\"Error: 'tn.movie_budgets.csv' parsing error.\")\n",
        "except Exception as e:\n",
        "    print(f\"An unexpected error occurred while loading 'tn.movie_budgets.csv': {e}\")"
      ]
    },
    {
      "cell_type": "markdown",
      "metadata": {
        "id": "1tgw5x5fS0N_"
      },
      "source": [
        "## Step 2: Data Exploration\n",
        "\n",
        "### Subtask:\n",
        "Explore the loaded movie datasets to understand their structure, identify key variables, and address initial data quality concerns. Focus on variables relevant to profitability, budget-revenue relationships, and the impact of reviews on box office performance.\n"
      ]
    },
    {
      "cell_type": "markdown",
      "metadata": {
        "id": "NNj7TAKDS1od"
      },
      "source": [
        "**Reasoning**:\n",
        "Explore each dataframe, calculate the number of missing values, and identify potential key columns for merging. Visualize distributions of key numerical variables where applicable.\n",
        "\n"
      ]
    },
    {
      "cell_type": "code",
      "execution_count": 4,
      "metadata": {
        "colab": {
          "base_uri": "https://localhost:8080/",
          "height": 1000
        },
        "id": "b0uxKUpfS14K",
        "outputId": "4b5dfcc2-f7cc-49ae-9860-a0c4cb793218"
      },
      "outputs": [
        {
          "name": "stdout",
          "output_type": "stream",
          "text": [
            "df_bom Exploration:\n",
            "<class 'pandas.core.frame.DataFrame'>\n",
            "RangeIndex: 3387 entries, 0 to 3386\n",
            "Data columns (total 5 columns):\n",
            " #   Column          Non-Null Count  Dtype  \n",
            "---  ------          --------------  -----  \n",
            " 0   title           3387 non-null   object \n",
            " 1   studio          3382 non-null   object \n",
            " 2   domestic_gross  3359 non-null   float64\n",
            " 3   foreign_gross   2037 non-null   object \n",
            " 4   year            3387 non-null   int64  \n",
            "dtypes: float64(1), int64(1), object(3)\n",
            "memory usage: 132.4+ KB\n"
          ]
        },
        {
          "data": {
            "text/plain": [
              "None"
            ]
          },
          "metadata": {},
          "output_type": "display_data"
        },
        {
          "data": {
            "application/vnd.microsoft.datawrangler.viewer.v0+json": {
              "columns": [
                {
                  "name": "index",
                  "rawType": "object",
                  "type": "string"
                },
                {
                  "name": "title",
                  "rawType": "object",
                  "type": "string"
                },
                {
                  "name": "studio",
                  "rawType": "object",
                  "type": "string"
                },
                {
                  "name": "domestic_gross",
                  "rawType": "float64",
                  "type": "float"
                },
                {
                  "name": "foreign_gross",
                  "rawType": "object",
                  "type": "string"
                },
                {
                  "name": "year",
                  "rawType": "float64",
                  "type": "float"
                }
              ],
              "ref": "66509638-a23e-4c16-b721-4dd5a7ab025b",
              "rows": [
                [
                  "count",
                  "3387",
                  "3382",
                  "3359.0",
                  "2037",
                  "3387.0"
                ],
                [
                  "unique",
                  "3386",
                  "257",
                  null,
                  "1204",
                  null
                ],
                [
                  "top",
                  "Bluebeard",
                  "IFC",
                  null,
                  "1200000",
                  null
                ],
                [
                  "freq",
                  "2",
                  "166",
                  null,
                  "23",
                  null
                ],
                [
                  "mean",
                  null,
                  null,
                  "28745845.06698422",
                  null,
                  "2013.9580749926188"
                ],
                [
                  "std",
                  null,
                  null,
                  "66982498.23736458",
                  null,
                  "2.4781410973889413"
                ],
                [
                  "min",
                  null,
                  null,
                  "100.0",
                  null,
                  "2010.0"
                ],
                [
                  "25%",
                  null,
                  null,
                  "120000.0",
                  null,
                  "2012.0"
                ],
                [
                  "50%",
                  null,
                  null,
                  "1400000.0",
                  null,
                  "2014.0"
                ],
                [
                  "75%",
                  null,
                  null,
                  "27900000.0",
                  null,
                  "2016.0"
                ],
                [
                  "max",
                  null,
                  null,
                  "936700000.0",
                  null,
                  "2018.0"
                ]
              ],
              "shape": {
                "columns": 5,
                "rows": 11
              }
            },
            "text/html": [
              "<div>\n",
              "<style scoped>\n",
              "    .dataframe tbody tr th:only-of-type {\n",
              "        vertical-align: middle;\n",
              "    }\n",
              "\n",
              "    .dataframe tbody tr th {\n",
              "        vertical-align: top;\n",
              "    }\n",
              "\n",
              "    .dataframe thead th {\n",
              "        text-align: right;\n",
              "    }\n",
              "</style>\n",
              "<table border=\"1\" class=\"dataframe\">\n",
              "  <thead>\n",
              "    <tr style=\"text-align: right;\">\n",
              "      <th></th>\n",
              "      <th>title</th>\n",
              "      <th>studio</th>\n",
              "      <th>domestic_gross</th>\n",
              "      <th>foreign_gross</th>\n",
              "      <th>year</th>\n",
              "    </tr>\n",
              "  </thead>\n",
              "  <tbody>\n",
              "    <tr>\n",
              "      <th>count</th>\n",
              "      <td>3387</td>\n",
              "      <td>3382</td>\n",
              "      <td>3.359000e+03</td>\n",
              "      <td>2037</td>\n",
              "      <td>3387.000000</td>\n",
              "    </tr>\n",
              "    <tr>\n",
              "      <th>unique</th>\n",
              "      <td>3386</td>\n",
              "      <td>257</td>\n",
              "      <td>NaN</td>\n",
              "      <td>1204</td>\n",
              "      <td>NaN</td>\n",
              "    </tr>\n",
              "    <tr>\n",
              "      <th>top</th>\n",
              "      <td>Bluebeard</td>\n",
              "      <td>IFC</td>\n",
              "      <td>NaN</td>\n",
              "      <td>1200000</td>\n",
              "      <td>NaN</td>\n",
              "    </tr>\n",
              "    <tr>\n",
              "      <th>freq</th>\n",
              "      <td>2</td>\n",
              "      <td>166</td>\n",
              "      <td>NaN</td>\n",
              "      <td>23</td>\n",
              "      <td>NaN</td>\n",
              "    </tr>\n",
              "    <tr>\n",
              "      <th>mean</th>\n",
              "      <td>NaN</td>\n",
              "      <td>NaN</td>\n",
              "      <td>2.874585e+07</td>\n",
              "      <td>NaN</td>\n",
              "      <td>2013.958075</td>\n",
              "    </tr>\n",
              "    <tr>\n",
              "      <th>std</th>\n",
              "      <td>NaN</td>\n",
              "      <td>NaN</td>\n",
              "      <td>6.698250e+07</td>\n",
              "      <td>NaN</td>\n",
              "      <td>2.478141</td>\n",
              "    </tr>\n",
              "    <tr>\n",
              "      <th>min</th>\n",
              "      <td>NaN</td>\n",
              "      <td>NaN</td>\n",
              "      <td>1.000000e+02</td>\n",
              "      <td>NaN</td>\n",
              "      <td>2010.000000</td>\n",
              "    </tr>\n",
              "    <tr>\n",
              "      <th>25%</th>\n",
              "      <td>NaN</td>\n",
              "      <td>NaN</td>\n",
              "      <td>1.200000e+05</td>\n",
              "      <td>NaN</td>\n",
              "      <td>2012.000000</td>\n",
              "    </tr>\n",
              "    <tr>\n",
              "      <th>50%</th>\n",
              "      <td>NaN</td>\n",
              "      <td>NaN</td>\n",
              "      <td>1.400000e+06</td>\n",
              "      <td>NaN</td>\n",
              "      <td>2014.000000</td>\n",
              "    </tr>\n",
              "    <tr>\n",
              "      <th>75%</th>\n",
              "      <td>NaN</td>\n",
              "      <td>NaN</td>\n",
              "      <td>2.790000e+07</td>\n",
              "      <td>NaN</td>\n",
              "      <td>2016.000000</td>\n",
              "    </tr>\n",
              "    <tr>\n",
              "      <th>max</th>\n",
              "      <td>NaN</td>\n",
              "      <td>NaN</td>\n",
              "      <td>9.367000e+08</td>\n",
              "      <td>NaN</td>\n",
              "      <td>2018.000000</td>\n",
              "    </tr>\n",
              "  </tbody>\n",
              "</table>\n",
              "</div>"
            ],
            "text/plain": [
              "            title studio  domestic_gross foreign_gross         year\n",
              "count        3387   3382    3.359000e+03          2037  3387.000000\n",
              "unique       3386    257             NaN          1204          NaN\n",
              "top     Bluebeard    IFC             NaN       1200000          NaN\n",
              "freq            2    166             NaN            23          NaN\n",
              "mean          NaN    NaN    2.874585e+07           NaN  2013.958075\n",
              "std           NaN    NaN    6.698250e+07           NaN     2.478141\n",
              "min           NaN    NaN    1.000000e+02           NaN  2010.000000\n",
              "25%           NaN    NaN    1.200000e+05           NaN  2012.000000\n",
              "50%           NaN    NaN    1.400000e+06           NaN  2014.000000\n",
              "75%           NaN    NaN    2.790000e+07           NaN  2016.000000\n",
              "max           NaN    NaN    9.367000e+08           NaN  2018.000000"
            ]
          },
          "metadata": {},
          "output_type": "display_data"
        },
        {
          "name": "stdout",
          "output_type": "stream",
          "text": [
            "Missing values in df_bom:\n",
            "title                0\n",
            "studio               5\n",
            "domestic_gross      28\n",
            "foreign_gross     1350\n",
            "year                 0\n",
            "dtype: int64\n"
          ]
        },
        {
          "data": {
            "image/png": "[encoded data removed]",
            "text/plain": [
              "<Figure size 576x432 with 1 Axes>"
            ]
          },
          "metadata": {
            "needs_background": "light"
          },
          "output_type": "display_data"
        },
        {
          "name": "stdout",
          "output_type": "stream",
          "text": [
            "\n",
            "df_rt_info Exploration:\n",
            "<class 'pandas.core.frame.DataFrame'>\n",
            "RangeIndex: 1560 entries, 0 to 1559\n",
            "Data columns (total 12 columns):\n",
            " #   Column        Non-Null Count  Dtype \n",
            "---  ------        --------------  ----- \n",
            " 0   id            1560 non-null   int64 \n",
            " 1   synopsis      1498 non-null   object\n",
            " 2   rating        1557 non-null   object\n",
            " 3   genre         1552 non-null   object\n",
            " 4   director      1361 non-null   object\n",
            " 5   writer        1111 non-null   object\n",
            " 6   theater_date  1201 non-null   object\n",
            " 7   dvd_date      1201 non-null   object\n",
            " 8   currency      340 non-null    object\n",
            " 9   box_office    340 non-null    object\n",
            " 10  runtime       1530 non-null   object\n",
            " 11  studio        494 non-null    object\n",
            "dtypes: int64(1), object(11)\n",
            "memory usage: 146.4+ KB\n"
          ]
        },
        {
          "data": {
            "text/plain": [
              "None"
            ]
          },
          "metadata": {},
          "output_type": "display_data"
        },
        {
          "data": {
            "application/vnd.microsoft.datawrangler.viewer.v0+json": {
              "columns": [
                {
                  "name": "index",
                  "rawType": "object",
                  "type": "string"
                },
                {
                  "name": "id",
                  "rawType": "float64",
                  "type": "float"
                },
                {
                  "name": "synopsis",
                  "rawType": "object",
                  "type": "string"
                },
                {
                  "name": "rating",
                  "rawType": "object",
                  "type": "string"
                },
                {
                  "name": "genre",
                  "rawType": "object",
                  "type": "string"
                },
                {
                  "name": "director",
                  "rawType": "object",
                  "type": "string"
                },
                {
                  "name": "writer",
                  "rawType": "object",
                  "type": "string"
                },
                {
                  "name": "theater_date",
                  "rawType": "object",
                  "type": "string"
                },
                {
                  "name": "dvd_date",
                  "rawType": "object",
                  "type": "string"
                },
                {
                  "name": "currency",
                  "rawType": "object",
                  "type": "string"
                },
                {
                  "name": "box_office",
                  "rawType": "object",
                  "type": "string"
                },
                {
                  "name": "runtime",
                  "rawType": "object",
                  "type": "string"
                },
                {
                  "name": "studio",
                  "rawType": "object",
                  "type": "string"
                }
              ],
              "ref": "3f8dee3e-dde3-4bd0-826e-6d5d9067d5b9",
              "rows": [
                [
                  "count",
                  "1560.0",
                  "1498",
                  "1557",
                  "1552",
                  "1361",
                  "1111",
                  "1201",
                  "1201",
                  "340",
                  "340",
                  "1530",
                  "494"
                ],
                [
                  "unique",
                  null,
                  "1497",
                  "6",
                  "299",
                  "1125",
                  "1069",
                  "1025",
                  "717",
                  "1",
                  "336",
                  "142",
                  "200"
                ],
                [
                  "top",
                  null,
                  "A group of air crash survivors are stranded in the Mongolian desert with no chance of rescue. Facing a brutal environment, dwindling resources, and an attack by desert smugglers, they realize their only hope is doing the \"impossible\"--building a new plane from the wreckage.",
                  "R",
                  "Drama",
                  "Steven Spielberg",
                  "Woody Allen",
                  "Jan 1, 1987",
                  "Jun 1, 2004",
                  "$",
                  "600,000",
                  "90 minutes",
                  "Universal Pictures"
                ],
                [
                  "freq",
                  null,
                  "2",
                  "521",
                  "151",
                  "10",
                  "4",
                  "8",
                  "11",
                  "340",
                  "2",
                  "72",
                  "35"
                ],
                [
                  "mean",
                  "1007.3038461538462",
                  null,
                  null,
                  null,
                  null,
                  null,
                  null,
                  null,
                  null,
                  null,
                  null,
                  null
                ],
                [
                  "std",
                  "579.164527312016",
                  null,
                  null,
                  null,
                  null,
                  null,
                  null,
                  null,
                  null,
                  null,
                  null,
                  null
                ],
                [
                  "min",
                  "1.0",
                  null,
                  null,
                  null,
                  null,
                  null,
                  null,
                  null,
                  null,
                  null,
                  null,
                  null
                ],
                [
                  "25%",
                  "504.75",
                  null,
                  null,
                  null,
                  null,
                  null,
                  null,
                  null,
                  null,
                  null,
                  null,
                  null
                ],
                [
                  "50%",
                  "1007.5",
                  null,
                  null,
                  null,
                  null,
                  null,
                  null,
                  null,
                  null,
                  null,
                  null,
                  null
                ],
                [
                  "75%",
                  "1503.25",
                  null,
                  null,
                  null,
                  null,
                  null,
                  null,
                  null,
                  null,
                  null,
                  null,
                  null
                ],
                [
                  "max",
                  "2000.0",
                  null,
                  null,
                  null,
                  null,
                  null,
                  null,
                  null,
                  null,
                  null,
                  null,
                  null
                ]
              ],
              "shape": {
                "columns": 12,
                "rows": 11
              }
            },
            "text/html": [
              "<div>\n",
              "<style scoped>\n",
              "    .dataframe tbody tr th:only-of-type {\n",
              "        vertical-align: middle;\n",
              "    }\n",
              "\n",
              "    .dataframe tbody tr th {\n",
              "        vertical-align: top;\n",
              "    }\n",
              "\n",
              "    .dataframe thead th {\n",
              "        text-align: right;\n",
              "    }\n",
              "</style>\n",
              "<table border=\"1\" class=\"dataframe\">\n",
              "  <thead>\n",
              "    <tr style=\"text-align: right;\">\n",
              "      <th></th>\n",
              "      <th>id</th>\n",
              "      <th>synopsis</th>\n",
              "      <th>rating</th>\n",
              "      <th>genre</th>\n",
              "      <th>director</th>\n",
              "      <th>writer</th>\n",
              "      <th>theater_date</th>\n",
              "      <th>dvd_date</th>\n",
              "      <th>currency</th>\n",
              "      <th>box_office</th>\n",
              "      <th>runtime</th>\n",
              "      <th>studio</th>\n",
              "    </tr>\n",
              "  </thead>\n",
              "  <tbody>\n",
              "    <tr>\n",
              "      <th>count</th>\n",
              "      <td>1560.000000</td>\n",
              "      <td>1498</td>\n",
              "      <td>1557</td>\n",
              "      <td>1552</td>\n",
              "      <td>1361</td>\n",
              "      <td>1111</td>\n",
              "      <td>1201</td>\n",
              "      <td>1201</td>\n",
              "      <td>340</td>\n",
              "      <td>340</td>\n",
              "      <td>1530</td>\n",
              "      <td>494</td>\n",
              "    </tr>\n",
              "    <tr>\n",
              "      <th>unique</th>\n",
              "      <td>NaN</td>\n",
              "      <td>1497</td>\n",
              "      <td>6</td>\n",
              "      <td>299</td>\n",
              "      <td>1125</td>\n",
              "      <td>1069</td>\n",
              "      <td>1025</td>\n",
              "      <td>717</td>\n",
              "      <td>1</td>\n",
              "      <td>336</td>\n",
              "      <td>142</td>\n",
              "      <td>200</td>\n",
              "    </tr>\n",
              "    <tr>\n",
              "      <th>top</th>\n",
              "      <td>NaN</td>\n",
              "      <td>A group of air crash survivors are stranded in...</td>\n",
              "      <td>R</td>\n",
              "      <td>Drama</td>\n",
              "      <td>Steven Spielberg</td>\n",
              "      <td>Woody Allen</td>\n",
              "      <td>Jan 1, 1987</td>\n",
              "      <td>Jun 1, 2004</td>\n",
              "      <td>$</td>\n",
              "      <td>600,000</td>\n",
              "      <td>90 minutes</td>\n",
              "      <td>Universal Pictures</td>\n",
              "    </tr>\n",
              "    <tr>\n",
              "      <th>freq</th>\n",
              "      <td>NaN</td>\n",
              "      <td>2</td>\n",
              "      <td>521</td>\n",
              "      <td>151</td>\n",
              "      <td>10</td>\n",
              "      <td>4</td>\n",
              "      <td>8</td>\n",
              "      <td>11</td>\n",
              "      <td>340</td>\n",
              "      <td>2</td>\n",
              "      <td>72</td>\n",
              "      <td>35</td>\n",
              "    </tr>\n",
              "    <tr>\n",
              "      <th>mean</th>\n",
              "      <td>1007.303846</td>\n",
              "      <td>NaN</td>\n",
              "      <td>NaN</td>\n",
              "      <td>NaN</td>\n",
              "      <td>NaN</td>\n",
              "      <td>NaN</td>\n",
              "      <td>NaN</td>\n",
              "      <td>NaN</td>\n",
              "      <td>NaN</td>\n",
              "      <td>NaN</td>\n",
              "      <td>NaN</td>\n",
              "      <td>NaN</td>\n",
              "    </tr>\n",
              "    <tr>\n",
              "      <th>std</th>\n",
              "      <td>579.164527</td>\n",
              "      <td>NaN</td>\n",
              "      <td>NaN</td>\n",
              "      <td>NaN</td>\n",
              "      <td>NaN</td>\n",
              "      <td>NaN</td>\n",
              "      <td>NaN</td>\n",
              "      <td>NaN</td>\n",
              "      <td>NaN</td>\n",
              "      <td>NaN</td>\n",
              "      <td>NaN</td>\n",
              "      <td>NaN</td>\n",
              "    </tr>\n",
              "    <tr>\n",
              "      <th>min</th>\n",
              "      <td>1.000000</td>\n",
              "      <td>NaN</td>\n",
              "      <td>NaN</td>\n",
              "      <td>NaN</td>\n",
              "      <td>NaN</td>\n",
              "      <td>NaN</td>\n",
              "      <td>NaN</td>\n",
              "      <td>NaN</td>\n",
              "      <td>NaN</td>\n",
              "      <td>NaN</td>\n",
              "      <td>NaN</td>\n",
              "      <td>NaN</td>\n",
              "    </tr>\n",
              "    <tr>\n",
              "      <th>25%</th>\n",
              "      <td>504.750000</td>\n",
              "      <td>NaN</td>\n",
              "      <td>NaN</td>\n",
              "      <td>NaN</td>\n",
              "      <td>NaN</td>\n",
              "      <td>NaN</td>\n",
              "      <td>NaN</td>\n",
              "      <td>NaN</td>\n",
              "      <td>NaN</td>\n",
              "      <td>NaN</td>\n",
              "      <td>NaN</td>\n",
              "      <td>NaN</td>\n",
              "    </tr>\n",
              "    <tr>\n",
              "      <th>50%</th>\n",
              "      <td>1007.500000</td>\n",
              "      <td>NaN</td>\n",
              "      <td>NaN</td>\n",
              "      <td>NaN</td>\n",
              "      <td>NaN</td>\n",
              "      <td>NaN</td>\n",
              "      <td>NaN</td>\n",
              "      <td>NaN</td>\n",
              "      <td>NaN</td>\n",
              "      <td>NaN</td>\n",
              "      <td>NaN</td>\n",
              "      <td>NaN</td>\n",
              "    </tr>\n",
              "    <tr>\n",
              "      <th>75%</th>\n",
              "      <td>1503.250000</td>\n",
              "      <td>NaN</td>\n",
              "      <td>NaN</td>\n",
              "      <td>NaN</td>\n",
              "      <td>NaN</td>\n",
              "      <td>NaN</td>\n",
              "      <td>NaN</td>\n",
              "      <td>NaN</td>\n",
              "      <td>NaN</td>\n",
              "      <td>NaN</td>\n",
              "      <td>NaN</td>\n",
              "      <td>NaN</td>\n",
              "    </tr>\n",
              "    <tr>\n",
              "      <th>max</th>\n",
              "      <td>2000.000000</td>\n",
              "      <td>NaN</td>\n",
              "      <td>NaN</td>\n",
              "      <td>NaN</td>\n",
              "      <td>NaN</td>\n",
              "      <td>NaN</td>\n",
              "      <td>NaN</td>\n",
              "      <td>NaN</td>\n",
              "      <td>NaN</td>\n",
              "      <td>NaN</td>\n",
              "      <td>NaN</td>\n",
              "      <td>NaN</td>\n",
              "    </tr>\n",
              "  </tbody>\n",
              "</table>\n",
              "</div>"
            ],
            "text/plain": [
              "                 id                                           synopsis rating  \\\n",
              "count   1560.000000                                               1498   1557   \n",
              "unique          NaN                                               1497      6   \n",
              "top             NaN  A group of air crash survivors are stranded in...      R   \n",
              "freq            NaN                                                  2    521   \n",
              "mean    1007.303846                                                NaN    NaN   \n",
              "std      579.164527                                                NaN    NaN   \n",
              "min        1.000000                                                NaN    NaN   \n",
              "25%      504.750000                                                NaN    NaN   \n",
              "50%     1007.500000                                                NaN    NaN   \n",
              "75%     1503.250000                                                NaN    NaN   \n",
              "max     2000.000000                                                NaN    NaN   \n",
              "\n",
              "        genre          director       writer theater_date     dvd_date  \\\n",
              "count    1552              1361         1111         1201         1201   \n",
              "unique    299              1125         1069         1025          717   \n",
              "top     Drama  Steven Spielberg  Woody Allen  Jan 1, 1987  Jun 1, 2004   \n",
              "freq      151                10            4            8           11   \n",
              "mean      NaN               NaN          NaN          NaN          NaN   \n",
              "std       NaN               NaN          NaN          NaN          NaN   \n",
              "min       NaN               NaN          NaN          NaN          NaN   \n",
              "25%       NaN               NaN          NaN          NaN          NaN   \n",
              "50%       NaN               NaN          NaN          NaN          NaN   \n",
              "75%       NaN               NaN          NaN          NaN          NaN   \n",
              "max       NaN               NaN          NaN          NaN          NaN   \n",
              "\n",
              "       currency box_office     runtime              studio  \n",
              "count       340        340        1530                 494  \n",
              "unique        1        336         142                 200  \n",
              "top           $    600,000  90 minutes  Universal Pictures  \n",
              "freq        340          2          72                  35  \n",
              "mean        NaN        NaN         NaN                 NaN  \n",
              "std         NaN        NaN         NaN                 NaN  \n",
              "min         NaN        NaN         NaN                 NaN  \n",
              "25%         NaN        NaN         NaN                 NaN  \n",
              "50%         NaN        NaN         NaN                 NaN  \n",
              "75%         NaN        NaN         NaN                 NaN  \n",
              "max         NaN        NaN         NaN                 NaN  "
            ]
          },
          "metadata": {},
          "output_type": "display_data"
        },
        {
          "name": "stdout",
          "output_type": "stream",
          "text": [
            "Missing values in df_rt_info:\n",
            "id                 0\n",
            "synopsis          62\n",
            "rating             3\n",
            "genre              8\n",
            "director         199\n",
            "writer           449\n",
            "theater_date     359\n",
            "dvd_date         359\n",
            "currency        1220\n",
            "box_office      1220\n",
            "runtime           30\n",
            "studio          1066\n",
            "dtype: int64\n",
            "\n",
            "df_rt_reviews Exploration:\n",
            "<class 'pandas.core.frame.DataFrame'>\n",
            "RangeIndex: 54432 entries, 0 to 54431\n",
            "Data columns (total 8 columns):\n",
            " #   Column      Non-Null Count  Dtype \n",
            "---  ------      --------------  ----- \n",
            " 0   id          54432 non-null  int64 \n",
            " 1   review      48869 non-null  object\n",
            " 2   rating      40915 non-null  object\n",
            " 3   fresh       54432 non-null  object\n",
            " 4   critic      51710 non-null  object\n",
            " 5   top_critic  54432 non-null  int64 \n",
            " 6   publisher   54123 non-null  object\n",
            " 7   date        54432 non-null  object\n",
            "dtypes: int64(2), object(6)\n",
            "memory usage: 3.3+ MB\n"
          ]
        },
        {
          "data": {
            "text/plain": [
              "None"
            ]
          },
          "metadata": {},
          "output_type": "display_data"
        },
        {
          "data": {
            "application/vnd.microsoft.datawrangler.viewer.v0+json": {
              "columns": [
                {
                  "name": "index",
                  "rawType": "object",
                  "type": "string"
                },
                {
                  "name": "id",
                  "rawType": "float64",
                  "type": "float"
                },
                {
                  "name": "review",
                  "rawType": "object",
                  "type": "string"
                },
                {
                  "name": "rating",
                  "rawType": "object",
                  "type": "string"
                },
                {
                  "name": "fresh",
                  "rawType": "object",
                  "type": "string"
                },
                {
                  "name": "critic",
                  "rawType": "object",
                  "type": "string"
                },
                {
                  "name": "top_critic",
                  "rawType": "float64",
                  "type": "float"
                },
                {
                  "name": "publisher",
                  "rawType": "object",
                  "type": "string"
                },
                {
                  "name": "date",
                  "rawType": "object",
                  "type": "string"
                }
              ],
              "ref": "5e6f96fd-d6b4-40e7-b03a-d14d73ce5c3b",
              "rows": [
                [
                  "count",
                  "54432.0",
                  "48869",
                  "40915",
                  "54432",
                  "51710",
                  "54432.0",
                  "54123",
                  "54432"
                ],
                [
                  "unique",
                  null,
                  "48682",
                  "186",
                  "2",
                  "3496",
                  null,
                  "1281",
                  "5963"
                ],
                [
                  "top",
                  null,
                  "Parental Content Review",
                  "3/5",
                  "fresh",
                  "Emanuel Levy",
                  null,
                  "eFilmCritic.com",
                  "January 1, 2000"
                ],
                [
                  "freq",
                  null,
                  "24",
                  "4327",
                  "33035",
                  "595",
                  null,
                  "673",
                  "4303"
                ],
                [
                  "mean",
                  "1045.7068819811875",
                  null,
                  null,
                  null,
                  null,
                  "0.24059376837154614",
                  null,
                  null
                ],
                [
                  "std",
                  "586.6570459643095",
                  null,
                  null,
                  null,
                  null,
                  "0.42744796606108276",
                  null,
                  null
                ],
                [
                  "min",
                  "3.0",
                  null,
                  null,
                  null,
                  null,
                  "0.0",
                  null,
                  null
                ],
                [
                  "25%",
                  "542.0",
                  null,
                  null,
                  null,
                  null,
                  "0.0",
                  null,
                  null
                ],
                [
                  "50%",
                  "1083.0",
                  null,
                  null,
                  null,
                  null,
                  "0.0",
                  null,
                  null
                ],
                [
                  "75%",
                  "1541.0",
                  null,
                  null,
                  null,
                  null,
                  "0.0",
                  null,
                  null
                ],
                [
                  "max",
                  "2000.0",
                  null,
                  null,
                  null,
                  null,
                  "1.0",
                  null,
                  null
                ]
              ],
              "shape": {
                "columns": 8,
                "rows": 11
              }
            },
            "text/html": [
              "<div>\n",
              "<style scoped>\n",
              "    .dataframe tbody tr th:only-of-type {\n",
              "        vertical-align: middle;\n",
              "    }\n",
              "\n",
              "    .dataframe tbody tr th {\n",
              "        vertical-align: top;\n",
              "    }\n",
              "\n",
              "    .dataframe thead th {\n",
              "        text-align: right;\n",
              "    }\n",
              "</style>\n",
              "<table border=\"1\" class=\"dataframe\">\n",
              "  <thead>\n",
              "    <tr style=\"text-align: right;\">\n",
              "      <th></th>\n",
              "      <th>id</th>\n",
              "      <th>review</th>\n",
              "      <th>rating</th>\n",
              "      <th>fresh</th>\n",
              "      <th>critic</th>\n",
              "      <th>top_critic</th>\n",
              "      <th>publisher</th>\n",
              "      <th>date</th>\n",
              "    </tr>\n",
              "  </thead>\n",
              "  <tbody>\n",
              "    <tr>\n",
              "      <th>count</th>\n",
              "      <td>54432.000000</td>\n",
              "      <td>48869</td>\n",
              "      <td>40915</td>\n",
              "      <td>54432</td>\n",
              "      <td>51710</td>\n",
              "      <td>54432.000000</td>\n",
              "      <td>54123</td>\n",
              "      <td>54432</td>\n",
              "    </tr>\n",
              "    <tr>\n",
              "      <th>unique</th>\n",
              "      <td>NaN</td>\n",
              "      <td>48682</td>\n",
              "      <td>186</td>\n",
              "      <td>2</td>\n",
              "      <td>3496</td>\n",
              "      <td>NaN</td>\n",
              "      <td>1281</td>\n",
              "      <td>5963</td>\n",
              "    </tr>\n",
              "    <tr>\n",
              "      <th>top</th>\n",
              "      <td>NaN</td>\n",
              "      <td>Parental Content Review</td>\n",
              "      <td>3/5</td>\n",
              "      <td>fresh</td>\n",
              "      <td>Emanuel Levy</td>\n",
              "      <td>NaN</td>\n",
              "      <td>eFilmCritic.com</td>\n",
              "      <td>January 1, 2000</td>\n",
              "    </tr>\n",
              "    <tr>\n",
              "      <th>freq</th>\n",
              "      <td>NaN</td>\n",
              "      <td>24</td>\n",
              "      <td>4327</td>\n",
              "      <td>33035</td>\n",
              "      <td>595</td>\n",
              "      <td>NaN</td>\n",
              "      <td>673</td>\n",
              "      <td>4303</td>\n",
              "    </tr>\n",
              "    <tr>\n",
              "      <th>mean</th>\n",
              "      <td>1045.706882</td>\n",
              "      <td>NaN</td>\n",
              "      <td>NaN</td>\n",
              "      <td>NaN</td>\n",
              "      <td>NaN</td>\n",
              "      <td>0.240594</td>\n",
              "      <td>NaN</td>\n",
              "      <td>NaN</td>\n",
              "    </tr>\n",
              "    <tr>\n",
              "      <th>std</th>\n",
              "      <td>586.657046</td>\n",
              "      <td>NaN</td>\n",
              "      <td>NaN</td>\n",
              "      <td>NaN</td>\n",
              "      <td>NaN</td>\n",
              "      <td>0.427448</td>\n",
              "      <td>NaN</td>\n",
              "      <td>NaN</td>\n",
              "    </tr>\n",
              "    <tr>\n",
              "      <th>min</th>\n",
              "      <td>3.000000</td>\n",
              "      <td>NaN</td>\n",
              "      <td>NaN</td>\n",
              "      <td>NaN</td>\n",
              "      <td>NaN</td>\n",
              "      <td>0.000000</td>\n",
              "      <td>NaN</td>\n",
              "      <td>NaN</td>\n",
              "    </tr>\n",
              "    <tr>\n",
              "      <th>25%</th>\n",
              "      <td>542.000000</td>\n",
              "      <td>NaN</td>\n",
              "      <td>NaN</td>\n",
              "      <td>NaN</td>\n",
              "      <td>NaN</td>\n",
              "      <td>0.000000</td>\n",
              "      <td>NaN</td>\n",
              "      <td>NaN</td>\n",
              "    </tr>\n",
              "    <tr>\n",
              "      <th>50%</th>\n",
              "      <td>1083.000000</td>\n",
              "      <td>NaN</td>\n",
              "      <td>NaN</td>\n",
              "      <td>NaN</td>\n",
              "      <td>NaN</td>\n",
              "      <td>0.000000</td>\n",
              "      <td>NaN</td>\n",
              "      <td>NaN</td>\n",
              "    </tr>\n",
              "    <tr>\n",
              "      <th>75%</th>\n",
              "      <td>1541.000000</td>\n",
              "      <td>NaN</td>\n",
              "      <td>NaN</td>\n",
              "      <td>NaN</td>\n",
              "      <td>NaN</td>\n",
              "      <td>0.000000</td>\n",
              "      <td>NaN</td>\n",
              "      <td>NaN</td>\n",
              "    </tr>\n",
              "    <tr>\n",
              "      <th>max</th>\n",
              "      <td>2000.000000</td>\n",
              "      <td>NaN</td>\n",
              "      <td>NaN</td>\n",
              "      <td>NaN</td>\n",
              "      <td>NaN</td>\n",
              "      <td>1.000000</td>\n",
              "      <td>NaN</td>\n",
              "      <td>NaN</td>\n",
              "    </tr>\n",
              "  </tbody>\n",
              "</table>\n",
              "</div>"
            ],
            "text/plain": [
              "                  id                   review rating  fresh        critic  \\\n",
              "count   54432.000000                    48869  40915  54432         51710   \n",
              "unique           NaN                    48682    186      2          3496   \n",
              "top              NaN  Parental Content Review    3/5  fresh  Emanuel Levy   \n",
              "freq             NaN                       24   4327  33035           595   \n",
              "mean     1045.706882                      NaN    NaN    NaN           NaN   \n",
              "std       586.657046                      NaN    NaN    NaN           NaN   \n",
              "min         3.000000                      NaN    NaN    NaN           NaN   \n",
              "25%       542.000000                      NaN    NaN    NaN           NaN   \n",
              "50%      1083.000000                      NaN    NaN    NaN           NaN   \n",
              "75%      1541.000000                      NaN    NaN    NaN           NaN   \n",
              "max      2000.000000                      NaN    NaN    NaN           NaN   \n",
              "\n",
              "          top_critic        publisher             date  \n",
              "count   54432.000000            54123            54432  \n",
              "unique           NaN             1281             5963  \n",
              "top              NaN  eFilmCritic.com  January 1, 2000  \n",
              "freq             NaN              673             4303  \n",
              "mean        0.240594              NaN              NaN  \n",
              "std         0.427448              NaN              NaN  \n",
              "min         0.000000              NaN              NaN  \n",
              "25%         0.000000              NaN              NaN  \n",
              "50%         0.000000              NaN              NaN  \n",
              "75%         0.000000              NaN              NaN  \n",
              "max         1.000000              NaN              NaN  "
            ]
          },
          "metadata": {},
          "output_type": "display_data"
        },
        {
          "name": "stdout",
          "output_type": "stream",
          "text": [
            "Missing values in df_rt_reviews:\n",
            "id                0\n",
            "review         5563\n",
            "rating        13517\n",
            "fresh             0\n",
            "critic         2722\n",
            "top_critic        0\n",
            "publisher       309\n",
            "date              0\n",
            "dtype: int64\n",
            "\n",
            "df_tmdb Exploration:\n",
            "<class 'pandas.core.frame.DataFrame'>\n",
            "RangeIndex: 26517 entries, 0 to 26516\n",
            "Data columns (total 10 columns):\n",
            " #   Column             Non-Null Count  Dtype  \n",
            "---  ------             --------------  -----  \n",
            " 0   Unnamed: 0         26517 non-null  int64  \n",
            " 1   genre_ids          26517 non-null  object \n",
            " 2   id                 26517 non-null  int64  \n",
            " 3   original_language  26517 non-null  object \n",
            " 4   original_title     26517 non-null  object \n",
            " 5   popularity         26517 non-null  float64\n",
            " 6   release_date       26517 non-null  object \n",
            " 7   title              26517 non-null  object \n",
            " 8   vote_average       26517 non-null  float64\n",
            " 9   vote_count         26517 non-null  int64  \n",
            "dtypes: float64(2), int64(3), object(5)\n",
            "memory usage: 2.0+ MB\n"
          ]
        },
        {
          "data": {
            "text/plain": [
              "None"
            ]
          },
          "metadata": {},
          "output_type": "display_data"
        },
        {
          "data": {
            "application/vnd.microsoft.datawrangler.viewer.v0+json": {
              "columns": [
                {
                  "name": "index",
                  "rawType": "object",
                  "type": "string"
                },
                {
                  "name": "Unnamed: 0",
                  "rawType": "float64",
                  "type": "float"
                },
                {
                  "name": "genre_ids",
                  "rawType": "object",
                  "type": "string"
                },
                {
                  "name": "id",
                  "rawType": "float64",
                  "type": "float"
                },
                {
                  "name": "original_language",
                  "rawType": "object",
                  "type": "string"
                },
                {
                  "name": "original_title",
                  "rawType": "object",
                  "type": "string"
                },
                {
                  "name": "popularity",
                  "rawType": "float64",
                  "type": "float"
                },
                {
                  "name": "release_date",
                  "rawType": "object",
                  "type": "string"
                },
                {
                  "name": "title",
                  "rawType": "object",
                  "type": "string"
                },
                {
                  "name": "vote_average",
                  "rawType": "float64",
                  "type": "float"
                },
                {
                  "name": "vote_count",
                  "rawType": "float64",
                  "type": "float"
                }
              ],
              "ref": "a3cdf248-9b32-4a33-a106-07fe05f83b8c",
              "rows": [
                [
                  "count",
                  "26517.0",
                  "26517",
                  "26517.0",
                  "26517",
                  "26517",
                  "26517.0",
                  "26517",
                  "26517",
                  "26517.0",
                  "26517.0"
                ],
                [
                  "unique",
                  null,
                  "2477",
                  null,
                  "76",
                  "24835",
                  null,
                  "3433",
                  "24688",
                  null,
                  null
                ],
                [
                  "top",
                  null,
                  "[99]",
                  null,
                  "en",
                  "Eden",
                  null,
                  "2010-01-01",
                  "Eden",
                  null,
                  null
                ],
                [
                  "freq",
                  null,
                  "3700",
                  null,
                  "23291",
                  "7",
                  null,
                  "269",
                  "7",
                  null,
                  null
                ],
                [
                  "mean",
                  "13258.0",
                  null,
                  "295050.1532601727",
                  null,
                  null,
                  "3.1309122449748963",
                  null,
                  null,
                  "5.9912810649772155",
                  "194.22483689708488"
                ],
                [
                  "std",
                  "7654.942880257174",
                  null,
                  "153661.6156482867",
                  null,
                  null,
                  "4.355229419064215",
                  null,
                  null,
                  "1.852945942491407",
                  "960.9610953562682"
                ],
                [
                  "min",
                  "0.0",
                  null,
                  "27.0",
                  null,
                  null,
                  "0.6",
                  null,
                  null,
                  "0.0",
                  "1.0"
                ],
                [
                  "25%",
                  "6629.0",
                  null,
                  "157851.0",
                  null,
                  null,
                  "0.6",
                  null,
                  null,
                  "5.0",
                  "2.0"
                ],
                [
                  "50%",
                  "13258.0",
                  null,
                  "309581.0",
                  null,
                  null,
                  "1.374",
                  null,
                  null,
                  "6.0",
                  "5.0"
                ],
                [
                  "75%",
                  "19887.0",
                  null,
                  "419542.0",
                  null,
                  null,
                  "3.694",
                  null,
                  null,
                  "7.0",
                  "28.0"
                ],
                [
                  "max",
                  "26516.0",
                  null,
                  "608444.0",
                  null,
                  null,
                  "80.773",
                  null,
                  null,
                  "10.0",
                  "22186.0"
                ]
              ],
              "shape": {
                "columns": 10,
                "rows": 11
              }
            },
            "text/html": [
              "<div>\n",
              "<style scoped>\n",
              "    .dataframe tbody tr th:only-of-type {\n",
              "        vertical-align: middle;\n",
              "    }\n",
              "\n",
              "    .dataframe tbody tr th {\n",
              "        vertical-align: top;\n",
              "    }\n",
              "\n",
              "    .dataframe thead th {\n",
              "        text-align: right;\n",
              "    }\n",
              "</style>\n",
              "<table border=\"1\" class=\"dataframe\">\n",
              "  <thead>\n",
              "    <tr style=\"text-align: right;\">\n",
              "      <th></th>\n",
              "      <th>Unnamed: 0</th>\n",
              "      <th>genre_ids</th>\n",
              "      <th>id</th>\n",
              "      <th>original_language</th>\n",
              "      <th>original_title</th>\n",
              "      <th>popularity</th>\n",
              "      <th>release_date</th>\n",
              "      <th>title</th>\n",
              "      <th>vote_average</th>\n",
              "      <th>vote_count</th>\n",
              "    </tr>\n",
              "  </thead>\n",
              "  <tbody>\n",
              "    <tr>\n",
              "      <th>count</th>\n",
              "      <td>26517.00000</td>\n",
              "      <td>26517</td>\n",
              "      <td>26517.000000</td>\n",
              "      <td>26517</td>\n",
              "      <td>26517</td>\n",
              "      <td>26517.000000</td>\n",
              "      <td>26517</td>\n",
              "      <td>26517</td>\n",
              "      <td>26517.000000</td>\n",
              "      <td>26517.000000</td>\n",
              "    </tr>\n",
              "    <tr>\n",
              "      <th>unique</th>\n",
              "      <td>NaN</td>\n",
              "      <td>2477</td>\n",
              "      <td>NaN</td>\n",
              "      <td>76</td>\n",
              "      <td>24835</td>\n",
              "      <td>NaN</td>\n",
              "      <td>3433</td>\n",
              "      <td>24688</td>\n",
              "      <td>NaN</td>\n",
              "      <td>NaN</td>\n",
              "    </tr>\n",
              "    <tr>\n",
              "      <th>top</th>\n",
              "      <td>NaN</td>\n",
              "      <td>[99]</td>\n",
              "      <td>NaN</td>\n",
              "      <td>en</td>\n",
              "      <td>Eden</td>\n",
              "      <td>NaN</td>\n",
              "      <td>2010-01-01</td>\n",
              "      <td>Eden</td>\n",
              "      <td>NaN</td>\n",
              "      <td>NaN</td>\n",
              "    </tr>\n",
              "    <tr>\n",
              "      <th>freq</th>\n",
              "      <td>NaN</td>\n",
              "      <td>3700</td>\n",
              "      <td>NaN</td>\n",
              "      <td>23291</td>\n",
              "      <td>7</td>\n",
              "      <td>NaN</td>\n",
              "      <td>269</td>\n",
              "      <td>7</td>\n",
              "      <td>NaN</td>\n",
              "      <td>NaN</td>\n",
              "    </tr>\n",
              "    <tr>\n",
              "      <th>mean</th>\n",
              "      <td>13258.00000</td>\n",
              "      <td>NaN</td>\n",
              "      <td>295050.153260</td>\n",
              "      <td>NaN</td>\n",
              "      <td>NaN</td>\n",
              "      <td>3.130912</td>\n",
              "      <td>NaN</td>\n",
              "      <td>NaN</td>\n",
              "      <td>5.991281</td>\n",
              "      <td>194.224837</td>\n",
              "    </tr>\n",
              "    <tr>\n",
              "      <th>std</th>\n",
              "      <td>7654.94288</td>\n",
              "      <td>NaN</td>\n",
              "      <td>153661.615648</td>\n",
              "      <td>NaN</td>\n",
              "      <td>NaN</td>\n",
              "      <td>4.355229</td>\n",
              "      <td>NaN</td>\n",
              "      <td>NaN</td>\n",
              "      <td>1.852946</td>\n",
              "      <td>960.961095</td>\n",
              "    </tr>\n",
              "    <tr>\n",
              "      <th>min</th>\n",
              "      <td>0.00000</td>\n",
              "      <td>NaN</td>\n",
              "      <td>27.000000</td>\n",
              "      <td>NaN</td>\n",
              "      <td>NaN</td>\n",
              "      <td>0.600000</td>\n",
              "      <td>NaN</td>\n",
              "      <td>NaN</td>\n",
              "      <td>0.000000</td>\n",
              "      <td>1.000000</td>\n",
              "    </tr>\n",
              "    <tr>\n",
              "      <th>25%</th>\n",
              "      <td>6629.00000</td>\n",
              "      <td>NaN</td>\n",
              "      <td>157851.000000</td>\n",
              "      <td>NaN</td>\n",
              "      <td>NaN</td>\n",
              "      <td>0.600000</td>\n",
              "      <td>NaN</td>\n",
              "      <td>NaN</td>\n",
              "      <td>5.000000</td>\n",
              "      <td>2.000000</td>\n",
              "    </tr>\n",
              "    <tr>\n",
              "      <th>50%</th>\n",
              "      <td>13258.00000</td>\n",
              "      <td>NaN</td>\n",
              "      <td>309581.000000</td>\n",
              "      <td>NaN</td>\n",
              "      <td>NaN</td>\n",
              "      <td>1.374000</td>\n",
              "      <td>NaN</td>\n",
              "      <td>NaN</td>\n",
              "      <td>6.000000</td>\n",
              "      <td>5.000000</td>\n",
              "    </tr>\n",
              "    <tr>\n",
              "      <th>75%</th>\n",
              "      <td>19887.00000</td>\n",
              "      <td>NaN</td>\n",
              "      <td>419542.000000</td>\n",
              "      <td>NaN</td>\n",
              "      <td>NaN</td>\n",
              "      <td>3.694000</td>\n",
              "      <td>NaN</td>\n",
              "      <td>NaN</td>\n",
              "      <td>7.000000</td>\n",
              "      <td>28.000000</td>\n",
              "    </tr>\n",
              "    <tr>\n",
              "      <th>max</th>\n",
              "      <td>26516.00000</td>\n",
              "      <td>NaN</td>\n",
              "      <td>608444.000000</td>\n",
              "      <td>NaN</td>\n",
              "      <td>NaN</td>\n",
              "      <td>80.773000</td>\n",
              "      <td>NaN</td>\n",
              "      <td>NaN</td>\n",
              "      <td>10.000000</td>\n",
              "      <td>22186.000000</td>\n",
              "    </tr>\n",
              "  </tbody>\n",
              "</table>\n",
              "</div>"
            ],
            "text/plain": [
              "         Unnamed: 0 genre_ids             id original_language original_title  \\\n",
              "count   26517.00000     26517   26517.000000             26517          26517   \n",
              "unique          NaN      2477            NaN                76          24835   \n",
              "top             NaN      [99]            NaN                en           Eden   \n",
              "freq            NaN      3700            NaN             23291              7   \n",
              "mean    13258.00000       NaN  295050.153260               NaN            NaN   \n",
              "std      7654.94288       NaN  153661.615648               NaN            NaN   \n",
              "min         0.00000       NaN      27.000000               NaN            NaN   \n",
              "25%      6629.00000       NaN  157851.000000               NaN            NaN   \n",
              "50%     13258.00000       NaN  309581.000000               NaN            NaN   \n",
              "75%     19887.00000       NaN  419542.000000               NaN            NaN   \n",
              "max     26516.00000       NaN  608444.000000               NaN            NaN   \n",
              "\n",
              "          popularity release_date  title  vote_average    vote_count  \n",
              "count   26517.000000        26517  26517  26517.000000  26517.000000  \n",
              "unique           NaN         3433  24688           NaN           NaN  \n",
              "top              NaN   2010-01-01   Eden           NaN           NaN  \n",
              "freq             NaN          269      7           NaN           NaN  \n",
              "mean        3.130912          NaN    NaN      5.991281    194.224837  \n",
              "std         4.355229          NaN    NaN      1.852946    960.961095  \n",
              "min         0.600000          NaN    NaN      0.000000      1.000000  \n",
              "25%         0.600000          NaN    NaN      5.000000      2.000000  \n",
              "50%         1.374000          NaN    NaN      6.000000      5.000000  \n",
              "75%         3.694000          NaN    NaN      7.000000     28.000000  \n",
              "max        80.773000          NaN    NaN     10.000000  22186.000000  "
            ]
          },
          "metadata": {},
          "output_type": "display_data"
        },
        {
          "name": "stdout",
          "output_type": "stream",
          "text": [
            "Missing values in df_tmdb:\n",
            "Unnamed: 0           0\n",
            "genre_ids            0\n",
            "id                   0\n",
            "original_language    0\n",
            "original_title       0\n",
            "popularity           0\n",
            "release_date         0\n",
            "title                0\n",
            "vote_average         0\n",
            "vote_count           0\n",
            "dtype: int64\n"
          ]
        },
        {
          "data": {
            "image/png": "[encoded data removed]",
            "text/plain": [
              "<Figure size 576x432 with 1 Axes>"
            ]
          },
          "metadata": {
            "needs_background": "light"
          },
          "output_type": "display_data"
        },
        {
          "data": {
            "image/png": "[encoded data removed]",
            "text/plain": [
              "<Figure size 576x432 with 1 Axes>"
            ]
          },
          "metadata": {
            "needs_background": "light"
          },
          "output_type": "display_data"
        },
        {
          "name": "stdout",
          "output_type": "stream",
          "text": [
            "\n",
            "df_tn Exploration:\n",
            "<class 'pandas.core.frame.DataFrame'>\n",
            "RangeIndex: 5782 entries, 0 to 5781\n",
            "Data columns (total 6 columns):\n",
            " #   Column             Non-Null Count  Dtype \n",
            "---  ------             --------------  ----- \n",
            " 0   id                 5782 non-null   int64 \n",
            " 1   release_date       5782 non-null   object\n",
            " 2   movie              5782 non-null   object\n",
            " 3   production_budget  5782 non-null   object\n",
            " 4   domestic_gross     5782 non-null   object\n",
            " 5   worldwide_gross    5782 non-null   object\n",
            "dtypes: int64(1), object(5)\n",
            "memory usage: 271.2+ KB\n"
          ]
        },
        {
          "data": {
            "text/plain": [
              "None"
            ]
          },
          "metadata": {},
          "output_type": "display_data"
        },
        {
          "data": {
            "application/vnd.microsoft.datawrangler.viewer.v0+json": {
              "columns": [
                {
                  "name": "index",
                  "rawType": "object",
                  "type": "string"
                },
                {
                  "name": "id",
                  "rawType": "float64",
                  "type": "float"
                },
                {
                  "name": "release_date",
                  "rawType": "object",
                  "type": "string"
                },
                {
                  "name": "movie",
                  "rawType": "object",
                  "type": "string"
                },
                {
                  "name": "production_budget",
                  "rawType": "object",
                  "type": "string"
                },
                {
                  "name": "domestic_gross",
                  "rawType": "object",
                  "type": "string"
                },
                {
                  "name": "worldwide_gross",
                  "rawType": "object",
                  "type": "string"
                }
              ],
              "ref": "b0e8fe66-bbeb-4ac2-bcf2-44c1f17096da",
              "rows": [
                [
                  "count",
                  "5782.0",
                  "5782",
                  "5782",
                  "5782",
                  "5782",
                  "5782"
                ],
                [
                  "unique",
                  null,
                  "2418",
                  "5698",
                  "509",
                  "5164",
                  "5356"
                ],
                [
                  "top",
                  null,
                  "Dec 31, 2014",
                  "Halloween",
                  "$20,000,000",
                  "$0",
                  "$0"
                ],
                [
                  "freq",
                  null,
                  "24",
                  "3",
                  "231",
                  "548",
                  "367"
                ],
                [
                  "mean",
                  "50.37236250432376",
                  null,
                  null,
                  null,
                  null,
                  null
                ],
                [
                  "std",
                  "28.821076273431085",
                  null,
                  null,
                  null,
                  null,
                  null
                ],
                [
                  "min",
                  "1.0",
                  null,
                  null,
                  null,
                  null,
                  null
                ],
                [
                  "25%",
                  "25.0",
                  null,
                  null,
                  null,
                  null,
                  null
                ],
                [
                  "50%",
                  "50.0",
                  null,
                  null,
                  null,
                  null,
                  null
                ],
                [
                  "75%",
                  "75.0",
                  null,
                  null,
                  null,
                  null,
                  null
                ],
                [
                  "max",
                  "100.0",
                  null,
                  null,
                  null,
                  null,
                  null
                ]
              ],
              "shape": {
                "columns": 6,
                "rows": 11
              }
            },
            "text/html": [
              "<div>\n",
              "<style scoped>\n",
              "    .dataframe tbody tr th:only-of-type {\n",
              "        vertical-align: middle;\n",
              "    }\n",
              "\n",
              "    .dataframe tbody tr th {\n",
              "        vertical-align: top;\n",
              "    }\n",
              "\n",
              "    .dataframe thead th {\n",
              "        text-align: right;\n",
              "    }\n",
              "</style>\n",
              "<table border=\"1\" class=\"dataframe\">\n",
              "  <thead>\n",
              "    <tr style=\"text-align: right;\">\n",
              "      <th></th>\n",
              "      <th>id</th>\n",
              "      <th>release_date</th>\n",
              "      <th>movie</th>\n",
              "      <th>production_budget</th>\n",
              "      <th>domestic_gross</th>\n",
              "      <th>worldwide_gross</th>\n",
              "    </tr>\n",
              "  </thead>\n",
              "  <tbody>\n",
              "    <tr>\n",
              "      <th>count</th>\n",
              "      <td>5782.000000</td>\n",
              "      <td>5782</td>\n",
              "      <td>5782</td>\n",
              "      <td>5782</td>\n",
              "      <td>5782</td>\n",
              "      <td>5782</td>\n",
              "    </tr>\n",
              "    <tr>\n",
              "      <th>unique</th>\n",
              "      <td>NaN</td>\n",
              "      <td>2418</td>\n",
              "      <td>5698</td>\n",
              "      <td>509</td>\n",
              "      <td>5164</td>\n",
              "      <td>5356</td>\n",
              "    </tr>\n",
              "    <tr>\n",
              "      <th>top</th>\n",
              "      <td>NaN</td>\n",
              "      <td>Dec 31, 2014</td>\n",
              "      <td>Halloween</td>\n",
              "      <td>$20,000,000</td>\n",
              "      <td>$0</td>\n",
              "      <td>$0</td>\n",
              "    </tr>\n",
              "    <tr>\n",
              "      <th>freq</th>\n",
              "      <td>NaN</td>\n",
              "      <td>24</td>\n",
              "      <td>3</td>\n",
              "      <td>231</td>\n",
              "      <td>548</td>\n",
              "      <td>367</td>\n",
              "    </tr>\n",
              "    <tr>\n",
              "      <th>mean</th>\n",
              "      <td>50.372363</td>\n",
              "      <td>NaN</td>\n",
              "      <td>NaN</td>\n",
              "      <td>NaN</td>\n",
              "      <td>NaN</td>\n",
              "      <td>NaN</td>\n",
              "    </tr>\n",
              "    <tr>\n",
              "      <th>std</th>\n",
              "      <td>28.821076</td>\n",
              "      <td>NaN</td>\n",
              "      <td>NaN</td>\n",
              "      <td>NaN</td>\n",
              "      <td>NaN</td>\n",
              "      <td>NaN</td>\n",
              "    </tr>\n",
              "    <tr>\n",
              "      <th>min</th>\n",
              "      <td>1.000000</td>\n",
              "      <td>NaN</td>\n",
              "      <td>NaN</td>\n",
              "      <td>NaN</td>\n",
              "      <td>NaN</td>\n",
              "      <td>NaN</td>\n",
              "    </tr>\n",
              "    <tr>\n",
              "      <th>25%</th>\n",
              "      <td>25.000000</td>\n",
              "      <td>NaN</td>\n",
              "      <td>NaN</td>\n",
              "      <td>NaN</td>\n",
              "      <td>NaN</td>\n",
              "      <td>NaN</td>\n",
              "    </tr>\n",
              "    <tr>\n",
              "      <th>50%</th>\n",
              "      <td>50.000000</td>\n",
              "      <td>NaN</td>\n",
              "      <td>NaN</td>\n",
              "      <td>NaN</td>\n",
              "      <td>NaN</td>\n",
              "      <td>NaN</td>\n",
              "    </tr>\n",
              "    <tr>\n",
              "      <th>75%</th>\n",
              "      <td>75.000000</td>\n",
              "      <td>NaN</td>\n",
              "      <td>NaN</td>\n",
              "      <td>NaN</td>\n",
              "      <td>NaN</td>\n",
              "      <td>NaN</td>\n",
              "    </tr>\n",
              "    <tr>\n",
              "      <th>max</th>\n",
              "      <td>100.000000</td>\n",
              "      <td>NaN</td>\n",
              "      <td>NaN</td>\n",
              "      <td>NaN</td>\n",
              "      <td>NaN</td>\n",
              "      <td>NaN</td>\n",
              "    </tr>\n",
              "  </tbody>\n",
              "</table>\n",
              "</div>"
            ],
            "text/plain": [
              "                 id  release_date      movie production_budget domestic_gross  \\\n",
              "count   5782.000000          5782       5782              5782           5782   \n",
              "unique          NaN          2418       5698               509           5164   \n",
              "top             NaN  Dec 31, 2014  Halloween       $20,000,000             $0   \n",
              "freq            NaN            24          3               231            548   \n",
              "mean      50.372363           NaN        NaN               NaN            NaN   \n",
              "std       28.821076           NaN        NaN               NaN            NaN   \n",
              "min        1.000000           NaN        NaN               NaN            NaN   \n",
              "25%       25.000000           NaN        NaN               NaN            NaN   \n",
              "50%       50.000000           NaN        NaN               NaN            NaN   \n",
              "75%       75.000000           NaN        NaN               NaN            NaN   \n",
              "max      100.000000           NaN        NaN               NaN            NaN   \n",
              "\n",
              "       worldwide_gross  \n",
              "count             5782  \n",
              "unique            5356  \n",
              "top                 $0  \n",
              "freq               367  \n",
              "mean               NaN  \n",
              "std                NaN  \n",
              "min                NaN  \n",
              "25%                NaN  \n",
              "50%                NaN  \n",
              "75%                NaN  \n",
              "max                NaN  "
            ]
          },
          "metadata": {},
          "output_type": "display_data"
        },
        {
          "name": "stdout",
          "output_type": "stream",
          "text": [
            "Missing values in df_tn:\n",
            "id                   0\n",
            "release_date         0\n",
            "movie                0\n",
            "production_budget    0\n",
            "domestic_gross       0\n",
            "worldwide_gross      0\n",
            "dtype: int64\n"
          ]
        },
        {
          "data": {
            "image/png": "[encoded data removed]",
            "text/plain": [
              "<Figure size 576x432 with 1 Axes>"
            ]
          },
          "metadata": {
            "needs_background": "light"
          },
          "output_type": "display_data"
        }
      ],
      "source": [
        "import matplotlib.pyplot as plt\n",
        "\n",
        "# --- df_bom ---\n",
        "print(\"df_bom Exploration:\")\n",
        "display(df_bom.info())\n",
        "display(df_bom.describe(include='all'))\n",
        "print(f\"Missing values in df_bom:\\n{df_bom.isnull().sum()}\")\n",
        "# Potential key columns for merging: 'title'\n",
        "# Visualization\n",
        "plt.figure(figsize=(8, 6))\n",
        "plt.hist(df_bom['domestic_gross'], bins=30, color='skyblue', edgecolor='black')\n",
        "plt.xlabel('Domestic Gross')\n",
        "plt.ylabel('Frequency')\n",
        "plt.title('Distribution of Domestic Gross Revenue')\n",
        "plt.show()\n",
        "\n",
        "\n",
        "# --- df_rt_info ---\n",
        "print(\"\\ndf_rt_info Exploration:\")\n",
        "display(df_rt_info.info())\n",
        "display(df_rt_info.describe(include='all'))\n",
        "print(f\"Missing values in df_rt_info:\\n{df_rt_info.isnull().sum()}\")\n",
        "# Potential key columns for merging: 'id', 'movie title'\n",
        "# Visualization - No relevant numerical columns for meaningful visualization\n",
        "\n",
        "# --- df_rt_reviews ---\n",
        "print(\"\\ndf_rt_reviews Exploration:\")\n",
        "display(df_rt_reviews.info())\n",
        "display(df_rt_reviews.describe(include='all'))\n",
        "print(f\"Missing values in df_rt_reviews:\\n{df_rt_reviews.isnull().sum()}\")\n",
        "# Potential key columns for merging: 'id', 'movie title'\n",
        "# Visualization - No relevant numerical columns for meaningful visualization\n",
        "\n",
        "# --- df_tmdb ---\n",
        "print(\"\\ndf_tmdb Exploration:\")\n",
        "display(df_tmdb.info())\n",
        "display(df_tmdb.describe(include='all'))\n",
        "print(f\"Missing values in df_tmdb:\\n{df_tmdb.isnull().sum()}\")\n",
        "# Potential key columns for merging: 'id', 'original_title', 'title'\n",
        "# Visualization\n",
        "plt.figure(figsize=(8, 6))\n",
        "plt.hist(df_tmdb['popularity'], bins=30, color='lightgreen', edgecolor='black')\n",
        "plt.xlabel('Popularity')\n",
        "plt.ylabel('Frequency')\n",
        "plt.title('Distribution of Movie Popularity')\n",
        "plt.show()\n",
        "\n",
        "plt.figure(figsize=(8,6))\n",
        "plt.hist(df_tmdb['vote_average'], bins = 20, color = 'orange', edgecolor = 'black')\n",
        "plt.xlabel('Vote Average')\n",
        "plt.ylabel('Frequency')\n",
        "plt.title('Distribution of Vote Average')\n",
        "plt.show()\n",
        "\n",
        "\n",
        "# --- df_tn ---\n",
        "print(\"\\ndf_tn Exploration:\")\n",
        "display(df_tn.info())\n",
        "display(df_tn.describe(include='all'))\n",
        "print(f\"Missing values in df_tn:\\n{df_tn.isnull().sum()}\")\n",
        "# Potential key columns for merging: 'movie', 'id'\n",
        "# Visualization\n",
        "plt.figure(figsize=(8, 6))\n",
        "# Convert budget strings to numerical values (removing '$' and ',')\n",
        "df_tn['production_budget_num'] = df_tn['production_budget'].str.replace(r'[$,]', '', regex=True).astype(float)\n",
        "plt.hist(df_tn['production_budget_num'], bins=30, color='salmon', edgecolor='black')\n",
        "plt.xlabel('Production Budget')\n",
        "plt.ylabel('Frequency')\n",
        "plt.title('Distribution of Production Budget')\n",
        "plt.show()"
      ]
    },
    {
      "cell_type": "markdown",
      "metadata": {
        "id": "Bi-IeISNS73c"
      },
      "source": [
        "## Step 3: Data Preparation\n",
        "\n",
        "### Subtask:\n",
        "Data Cleaning and Preparation for Merging\n"
      ]
    },
    {
      "cell_type": "markdown",
      "metadata": {
        "id": "0VF_z8UsS9oq"
      },
      "source": [
        "**Reasoning**:\n",
        "Start data cleaning by handling missing values, standardizing data types and column names, and removing duplicates for each dataframe.\n",
        "\n"
      ]
    },
    {
      "cell_type": "code",
      "execution_count": 5,
      "metadata": {
        "id": "rda7mmGQS94b"
      },
      "outputs": [],
      "source": [
        "# --- df_bom ---\n",
        "# Missing Values: Fill 'studio' with 'Unknown', drop rows with missing financial data.\n",
        "df_bom['studio'] = df_bom['studio'].fillna('Unknown')\n",
        "df_bom.dropna(subset=['domestic_gross', 'foreign_gross'], inplace=True)\n",
        "# Data Type Standardization: Convert financial columns to numeric, handle potential non-numeric characters\n",
        "df_bom['domestic_gross'] = pd.to_numeric(df_bom['domestic_gross'], errors='coerce')\n",
        "df_bom['foreign_gross'] = pd.to_numeric(df_bom['foreign_gross'], errors='coerce')\n",
        "# Column Name Standardization\n",
        "df_bom = df_bom.rename(columns={'title': 'bom_title'})\n",
        "\n",
        "# Deduplication\n",
        "df_bom.drop_duplicates(inplace=True)\n",
        "\n",
        "# --- df_rt_info ---\n",
        "# Missing Values: Impute with mode for categorical, mean/median for numerical (where appropriate).\n",
        "for col in ['rating', 'genre', 'director', 'writer', 'studio']:\n",
        "    df_rt_info[col] = df_rt_info[col].fillna(df_rt_info[col].mode()[0])\n",
        "# Data Type Standardization: Handle dates, box office.\n",
        "df_rt_info['theater_date'] = pd.to_datetime(df_rt_info['theater_date'], errors='coerce')\n",
        "df_rt_info['dvd_date'] = pd.to_datetime(df_rt_info['dvd_date'], errors='coerce')\n",
        "df_rt_info['box_office'] = df_rt_info['box_office'].str.replace(r'[$,]', '', regex=True).astype(float)\n",
        "# Column Name Standardization\n",
        "df_rt_info = df_rt_info.rename(columns={'movie title': 'rt_movie_title'})\n",
        "\n",
        "# Deduplication\n",
        "df_rt_info.drop_duplicates(inplace=True)\n",
        "\n",
        "\n",
        "# --- df_rt_reviews ---\n",
        "# Missing Values: Remove rows with missing 'review' text\n",
        "df_rt_reviews.dropna(subset=['review'], inplace=True)\n",
        "\n",
        "# Data Type Standardization: Convert 'date' to datetime.\n",
        "df_rt_reviews['date'] = pd.to_datetime(df_rt_reviews['date'], errors='coerce')\n",
        "\n",
        "# Column Name Standardization: No changes needed.\n",
        "\n",
        "# Deduplication\n",
        "df_rt_reviews.drop_duplicates(inplace=True)\n",
        "\n",
        "# --- df_tmdb ---\n",
        "# Missing Values:  No missing values reported, but will check for nulls\n",
        "df_tmdb.dropna(inplace=True)\n",
        "\n",
        "# Data Type Standardization: 'release_date' to datetime.\n",
        "df_tmdb['release_date'] = pd.to_datetime(df_tmdb['release_date'], errors='coerce')\n",
        "# Column Name Standardization\n",
        "df_tmdb = df_tmdb.rename(columns={'title': 'tmdb_title', 'original_title': 'tmdb_original_title'})\n",
        "df_tmdb = df_tmdb.drop(columns=['Unnamed: 0'])\n",
        "\n",
        "# Deduplication\n",
        "df_tmdb.drop_duplicates(inplace=True)\n",
        "\n",
        "\n",
        "# --- df_tn ---\n",
        "# Missing Values: No action needed as per previous steps.\n",
        "# Data Type Standardization: Convert financial to numeric, 'release_date' to datetime.\n",
        "for col in ['production_budget', 'domestic_gross', 'worldwide_gross']:\n",
        "    df_tn[col] = df_tn[col].str.replace(r'[$,]', '', regex=True).astype(float)\n",
        "df_tn['release_date'] = pd.to_datetime(df_tn['release_date'], errors='coerce')\n",
        "# Column Name Standardization: Rename 'movie' to avoid conflict.\n",
        "df_tn = df_tn.rename(columns={'movie': 'tn_movie'})\n",
        "\n",
        "# Deduplication\n",
        "df_tn.drop_duplicates(inplace=True)"
      ]
    },
    {
      "cell_type": "markdown",
      "metadata": {
        "id": "eNSsYYab0uiT"
      },
      "source": [
        "## Step 4: Data Wrangling \n",
        "\n"
      ]
    },
    {
      "cell_type": "markdown",
      "metadata": {},
      "source": [
        "### Subtask:\n",
        "Merge the multiple movie related datasets (df_tn, df_bom, df_tmdb, etc.) to build a unified dataframe for analysis. Begin with fuzzy merging techniques and adjust to a simplified strategy if errors or inconsistencies arise.\n",
        "\n",
        "### Reasoning:\n",
        "Initial merging via fuzzy logic helps align records with minor discrepancies in movie titles across datasets. However, inconsistencies and matching failures can introduce significant noise or errors. We start with a full fuzzy merge approach, then simplify it to a more direct strategy when merging fails"
      ]
    },
    {
      "cell_type": "code",
      "execution_count": 6,
      "metadata": {
        "colab": {
          "base_uri": "https://localhost:8080/",
          "height": 633
        },
        "id": "rQ5gNtUnGyFl",
        "outputId": "b2b9c1b0-76d2-4630-b4b6-a619ce7d1ab0"
      },
      "outputs": [
        {
          "name": "stdout",
          "output_type": "stream",
          "text": [
            "Columns in df_tn: ['id', 'release_date', 'tn_movie', 'production_budget', 'domestic_gross', 'worldwide_gross', 'production_budget_num']\n",
            "Columns in df_bom: ['bom_title', 'studio', 'domestic_gross', 'foreign_gross', 'year']\n",
            "An unexpected error occurred during fuzzy_merge: name 'process' is not defined\n",
            "Columns in df_merged: ['id', 'release_date', 'tn_movie', 'production_budget', 'domestic_gross', 'worldwide_gross', 'production_budget_num']\n",
            "Columns in df_tmdb: ['genre_ids', 'id', 'original_language', 'tmdb_original_title', 'popularity', 'release_date', 'tmdb_title', 'vote_average', 'vote_count']\n",
            "An unexpected error occurred during fuzzy_merge: name 'process' is not defined\n",
            "Columns in df_merged: ['id', 'release_date', 'tn_movie', 'production_budget', 'domestic_gross', 'worldwide_gross', 'production_budget_num']\n",
            "Columns in df_rt_info: ['id', 'synopsis', 'rating', 'genre', 'director', 'writer', 'theater_date', 'dvd_date', 'currency', 'box_office', 'runtime', 'studio']\n",
            "An unexpected error occurred during fuzzy_merge: name 'process' is not defined\n",
            "Columns in df_merged: ['id', 'release_date', 'tn_movie', 'production_budget', 'domestic_gross', 'worldwide_gross', 'production_budget_num']\n",
            "Columns in df_rt_reviews: ['id', 'review', 'rating', 'fresh', 'critic', 'top_critic', 'publisher', 'date']\n",
            "An unexpected error occurred during fuzzy_merge: name 'process' is not defined\n"
          ]
        },
        {
          "data": {
            "application/vnd.microsoft.datawrangler.viewer.v0+json": {
              "columns": [
                {
                  "name": "index",
                  "rawType": "int64",
                  "type": "integer"
                },
                {
                  "name": "id",
                  "rawType": "int64",
                  "type": "integer"
                },
                {
                  "name": "release_date",
                  "rawType": "datetime64[ns]",
                  "type": "datetime"
                },
                {
                  "name": "tn_movie",
                  "rawType": "object",
                  "type": "string"
                },
                {
                  "name": "production_budget",
                  "rawType": "float64",
                  "type": "float"
                },
                {
                  "name": "domestic_gross",
                  "rawType": "float64",
                  "type": "float"
                },
                {
                  "name": "worldwide_gross",
                  "rawType": "float64",
                  "type": "float"
                },
                {
                  "name": "production_budget_num",
                  "rawType": "float64",
                  "type": "float"
                }
              ],
              "ref": "f1fde559-9a5d-4feb-8bb5-189c5b53c137",
              "rows": [
                [
                  "0",
                  "1",
                  "2009-12-18 00:00:00",
                  "Avatar",
                  "425000000.0",
                  "760507625.0",
                  "2776345279.0",
                  "425000000.0"
                ],
                [
                  "1",
                  "2",
                  "2011-05-20 00:00:00",
                  "Pirates of the Caribbean: On Stranger Tides",
                  "410600000.0",
                  "241063875.0",
                  "1045663875.0",
                  "410600000.0"
                ],
                [
                  "2",
                  "3",
                  "2019-06-07 00:00:00",
                  "Dark Phoenix",
                  "350000000.0",
                  "42762350.0",
                  "149762350.0",
                  "350000000.0"
                ],
                [
                  "3",
                  "4",
                  "2015-05-01 00:00:00",
                  "Avengers: Age of Ultron",
                  "330600000.0",
                  "459005868.0",
                  "1403013963.0",
                  "330600000.0"
                ],
                [
                  "4",
                  "5",
                  "2017-12-15 00:00:00",
                  "Star Wars Ep. VIII: The Last Jedi",
                  "317000000.0",
                  "620181382.0",
                  "1316721747.0",
                  "317000000.0"
                ]
              ],
              "shape": {
                "columns": 7,
                "rows": 5
              }
            },
            "text/html": [
              "<div>\n",
              "<style scoped>\n",
              "    .dataframe tbody tr th:only-of-type {\n",
              "        vertical-align: middle;\n",
              "    }\n",
              "\n",
              "    .dataframe tbody tr th {\n",
              "        vertical-align: top;\n",
              "    }\n",
              "\n",
              "    .dataframe thead th {\n",
              "        text-align: right;\n",
              "    }\n",
              "</style>\n",
              "<table border=\"1\" class=\"dataframe\">\n",
              "  <thead>\n",
              "    <tr style=\"text-align: right;\">\n",
              "      <th></th>\n",
              "      <th>id</th>\n",
              "      <th>release_date</th>\n",
              "      <th>tn_movie</th>\n",
              "      <th>production_budget</th>\n",
              "      <th>domestic_gross</th>\n",
              "      <th>worldwide_gross</th>\n",
              "      <th>production_budget_num</th>\n",
              "    </tr>\n",
              "  </thead>\n",
              "  <tbody>\n",
              "    <tr>\n",
              "      <th>0</th>\n",
              "      <td>1</td>\n",
              "      <td>2009-12-18</td>\n",
              "      <td>Avatar</td>\n",
              "      <td>425000000.0</td>\n",
              "      <td>760507625.0</td>\n",
              "      <td>2.776345e+09</td>\n",
              "      <td>425000000.0</td>\n",
              "    </tr>\n",
              "    <tr>\n",
              "      <th>1</th>\n",
              "      <td>2</td>\n",
              "      <td>2011-05-20</td>\n",
              "      <td>Pirates of the Caribbean: On Stranger Tides</td>\n",
              "      <td>410600000.0</td>\n",
              "      <td>241063875.0</td>\n",
              "      <td>1.045664e+09</td>\n",
              "      <td>410600000.0</td>\n",
              "    </tr>\n",
              "    <tr>\n",
              "      <th>2</th>\n",
              "      <td>3</td>\n",
              "      <td>2019-06-07</td>\n",
              "      <td>Dark Phoenix</td>\n",
              "      <td>350000000.0</td>\n",
              "      <td>42762350.0</td>\n",
              "      <td>1.497624e+08</td>\n",
              "      <td>350000000.0</td>\n",
              "    </tr>\n",
              "    <tr>\n",
              "      <th>3</th>\n",
              "      <td>4</td>\n",
              "      <td>2015-05-01</td>\n",
              "      <td>Avengers: Age of Ultron</td>\n",
              "      <td>330600000.0</td>\n",
              "      <td>459005868.0</td>\n",
              "      <td>1.403014e+09</td>\n",
              "      <td>330600000.0</td>\n",
              "    </tr>\n",
              "    <tr>\n",
              "      <th>4</th>\n",
              "      <td>5</td>\n",
              "      <td>2017-12-15</td>\n",
              "      <td>Star Wars Ep. VIII: The Last Jedi</td>\n",
              "      <td>317000000.0</td>\n",
              "      <td>620181382.0</td>\n",
              "      <td>1.316722e+09</td>\n",
              "      <td>317000000.0</td>\n",
              "    </tr>\n",
              "  </tbody>\n",
              "</table>\n",
              "</div>"
            ],
            "text/plain": [
              "   id release_date                                     tn_movie  \\\n",
              "0   1   2009-12-18                                       Avatar   \n",
              "1   2   2011-05-20  Pirates of the Caribbean: On Stranger Tides   \n",
              "2   3   2019-06-07                                 Dark Phoenix   \n",
              "3   4   2015-05-01                      Avengers: Age of Ultron   \n",
              "4   5   2017-12-15            Star Wars Ep. VIII: The Last Jedi   \n",
              "\n",
              "   production_budget  domestic_gross  worldwide_gross  production_budget_num  \n",
              "0        425000000.0     760507625.0     2.776345e+09            425000000.0  \n",
              "1        410600000.0     241063875.0     1.045664e+09            410600000.0  \n",
              "2        350000000.0      42762350.0     1.497624e+08            350000000.0  \n",
              "3        330600000.0     459005868.0     1.403014e+09            330600000.0  \n",
              "4        317000000.0     620181382.0     1.316722e+09            317000000.0  "
            ]
          },
          "metadata": {},
          "output_type": "display_data"
        }
      ],
      "source": [
        "def fuzzy_merge(df_left, df_right, left_on, right_on, threshold=80):\n",
        "    \"\"\"\n",
        "    Performs a fuzzy merge of two dataframes based on specified columns.\n",
        "\n",
        "    Args:\n",
        "        df_left: The left dataframe.\n",
        "        df_right: The right dataframe.\n",
        "        left_on: The column name in the left dataframe to merge on.\n",
        "        right_on: The column name in the right dataframe to merge on.\n",
        "        threshold: The fuzzy matching score threshold.\n",
        "\n",
        "    Returns:\n",
        "        A merged dataframe.\n",
        "    \"\"\"\n",
        "    try:\n",
        "      matches = []\n",
        "      for left_value in df_left[left_on]:\n",
        "          best_match = process.extractOne(left_value, df_right[right_on], scorer=fuzz.token_sort_ratio, score_cutoff=threshold)\n",
        "          matches.append(best_match)\n",
        "\n",
        "      df_matches = pd.DataFrame(matches, columns=['right', 'score', 'idx'])\n",
        "      df_matches = df_matches.dropna(subset=['right'])\n",
        "      df_merged = pd.merge(df_left, df_matches, left_index=True, right_index=True, how='left')\n",
        "      df_merged = pd.merge(df_merged, df_right, left_on='right', right_on=right_on, how='left')\n",
        "      return df_merged\n",
        "    except KeyError as e:\n",
        "        print(f\"KeyError in fuzzy_merge: {e}\")\n",
        "        return df_left  # Return the original dataframe if a KeyError occurs\n",
        "    except Exception as e:\n",
        "        print(f\"An unexpected error occurred during fuzzy_merge: {e}\")\n",
        "        return df_left\n",
        "\n",
        "\n",
        "print(\"Columns in df_tn:\", df_tn.columns.tolist())\n",
        "print(\"Columns in df_bom:\", df_bom.columns.tolist())\n",
        "df_merged = fuzzy_merge(df_tn, df_bom, 'tn_movie', 'bom_title')\n",
        "\n",
        "print(\"Columns in df_merged:\", df_merged.columns.tolist())\n",
        "print(\"Columns in df_tmdb:\", df_tmdb.columns.tolist())\n",
        "df_merged = fuzzy_merge(df_merged, df_tmdb, 'tn_movie', 'tmdb_title')\n",
        "\n",
        "\n",
        "print(\"Columns in df_merged:\", df_merged.columns.tolist())\n",
        "print(\"Columns in df_rt_info:\", df_rt_info.columns.tolist())\n",
        "df_merged = fuzzy_merge(df_merged, df_rt_info, 'tn_movie', 'movie title')\n",
        "\n",
        "print(\"Columns in df_merged:\", df_merged.columns.tolist())\n",
        "print(\"Columns in df_rt_reviews:\", df_rt_reviews.columns.tolist())\n",
        "df_merged = fuzzy_merge(df_merged, df_rt_reviews, 'tn_movie', 'id')\n",
        "\n",
        "display(df_merged.head())"
      ]
    },
    {
      "cell_type": "code",
      "execution_count": 7,
      "metadata": {
        "colab": {
          "base_uri": "https://localhost:8080/",
          "height": 525
        },
        "id": "4CFYRojoVUBd",
        "outputId": "ec3bf354-56fc-404f-9b50-7b7c9df1f03b"
      },
      "outputs": [
        {
          "name": "stdout",
          "output_type": "stream",
          "text": [
            "An unexpected error occurred during fuzzy_merge: name 'process' is not defined\n",
            "An unexpected error occurred during fuzzy_merge: name 'process' is not defined\n",
            "An unexpected error occurred during fuzzy_merge: name 'process' is not defined\n",
            "An unexpected error occurred during fuzzy_merge: name 'process' is not defined\n"
          ]
        },
        {
          "data": {
            "application/vnd.microsoft.datawrangler.viewer.v0+json": {
              "columns": [
                {
                  "name": "index",
                  "rawType": "int64",
                  "type": "integer"
                },
                {
                  "name": "id",
                  "rawType": "int64",
                  "type": "integer"
                },
                {
                  "name": "release_date",
                  "rawType": "datetime64[ns]",
                  "type": "datetime"
                },
                {
                  "name": "tn_movie",
                  "rawType": "object",
                  "type": "string"
                },
                {
                  "name": "production_budget",
                  "rawType": "float64",
                  "type": "float"
                },
                {
                  "name": "domestic_gross",
                  "rawType": "float64",
                  "type": "float"
                },
                {
                  "name": "worldwide_gross",
                  "rawType": "float64",
                  "type": "float"
                },
                {
                  "name": "production_budget_num",
                  "rawType": "float64",
                  "type": "float"
                }
              ],
              "ref": "5a08dd2b-67f5-4cbe-9454-f18dcc1a0432",
              "rows": [
                [
                  "0",
                  "1",
                  "2009-12-18 00:00:00",
                  "Avatar",
                  "425000000.0",
                  "760507625.0",
                  "2776345279.0",
                  "425000000.0"
                ],
                [
                  "1",
                  "2",
                  "2011-05-20 00:00:00",
                  "Pirates of the Caribbean: On Stranger Tides",
                  "410600000.0",
                  "241063875.0",
                  "1045663875.0",
                  "410600000.0"
                ],
                [
                  "2",
                  "3",
                  "2019-06-07 00:00:00",
                  "Dark Phoenix",
                  "350000000.0",
                  "42762350.0",
                  "149762350.0",
                  "350000000.0"
                ],
                [
                  "3",
                  "4",
                  "2015-05-01 00:00:00",
                  "Avengers: Age of Ultron",
                  "330600000.0",
                  "459005868.0",
                  "1403013963.0",
                  "330600000.0"
                ],
                [
                  "4",
                  "5",
                  "2017-12-15 00:00:00",
                  "Star Wars Ep. VIII: The Last Jedi",
                  "317000000.0",
                  "620181382.0",
                  "1316721747.0",
                  "317000000.0"
                ]
              ],
              "shape": {
                "columns": 7,
                "rows": 5
              }
            },
            "text/html": [
              "<div>\n",
              "<style scoped>\n",
              "    .dataframe tbody tr th:only-of-type {\n",
              "        vertical-align: middle;\n",
              "    }\n",
              "\n",
              "    .dataframe tbody tr th {\n",
              "        vertical-align: top;\n",
              "    }\n",
              "\n",
              "    .dataframe thead th {\n",
              "        text-align: right;\n",
              "    }\n",
              "</style>\n",
              "<table border=\"1\" class=\"dataframe\">\n",
              "  <thead>\n",
              "    <tr style=\"text-align: right;\">\n",
              "      <th></th>\n",
              "      <th>id</th>\n",
              "      <th>release_date</th>\n",
              "      <th>tn_movie</th>\n",
              "      <th>production_budget</th>\n",
              "      <th>domestic_gross</th>\n",
              "      <th>worldwide_gross</th>\n",
              "      <th>production_budget_num</th>\n",
              "    </tr>\n",
              "  </thead>\n",
              "  <tbody>\n",
              "    <tr>\n",
              "      <th>0</th>\n",
              "      <td>1</td>\n",
              "      <td>2009-12-18</td>\n",
              "      <td>Avatar</td>\n",
              "      <td>425000000.0</td>\n",
              "      <td>760507625.0</td>\n",
              "      <td>2.776345e+09</td>\n",
              "      <td>425000000.0</td>\n",
              "    </tr>\n",
              "    <tr>\n",
              "      <th>1</th>\n",
              "      <td>2</td>\n",
              "      <td>2011-05-20</td>\n",
              "      <td>Pirates of the Caribbean: On Stranger Tides</td>\n",
              "      <td>410600000.0</td>\n",
              "      <td>241063875.0</td>\n",
              "      <td>1.045664e+09</td>\n",
              "      <td>410600000.0</td>\n",
              "    </tr>\n",
              "    <tr>\n",
              "      <th>2</th>\n",
              "      <td>3</td>\n",
              "      <td>2019-06-07</td>\n",
              "      <td>Dark Phoenix</td>\n",
              "      <td>350000000.0</td>\n",
              "      <td>42762350.0</td>\n",
              "      <td>1.497624e+08</td>\n",
              "      <td>350000000.0</td>\n",
              "    </tr>\n",
              "    <tr>\n",
              "      <th>3</th>\n",
              "      <td>4</td>\n",
              "      <td>2015-05-01</td>\n",
              "      <td>Avengers: Age of Ultron</td>\n",
              "      <td>330600000.0</td>\n",
              "      <td>459005868.0</td>\n",
              "      <td>1.403014e+09</td>\n",
              "      <td>330600000.0</td>\n",
              "    </tr>\n",
              "    <tr>\n",
              "      <th>4</th>\n",
              "      <td>5</td>\n",
              "      <td>2017-12-15</td>\n",
              "      <td>Star Wars Ep. VIII: The Last Jedi</td>\n",
              "      <td>317000000.0</td>\n",
              "      <td>620181382.0</td>\n",
              "      <td>1.316722e+09</td>\n",
              "      <td>317000000.0</td>\n",
              "    </tr>\n",
              "  </tbody>\n",
              "</table>\n",
              "</div>"
            ],
            "text/plain": [
              "   id release_date                                     tn_movie  \\\n",
              "0   1   2009-12-18                                       Avatar   \n",
              "1   2   2011-05-20  Pirates of the Caribbean: On Stranger Tides   \n",
              "2   3   2019-06-07                                 Dark Phoenix   \n",
              "3   4   2015-05-01                      Avengers: Age of Ultron   \n",
              "4   5   2017-12-15            Star Wars Ep. VIII: The Last Jedi   \n",
              "\n",
              "   production_budget  domestic_gross  worldwide_gross  production_budget_num  \n",
              "0        425000000.0     760507625.0     2.776345e+09            425000000.0  \n",
              "1        410600000.0     241063875.0     1.045664e+09            410600000.0  \n",
              "2        350000000.0      42762350.0     1.497624e+08            350000000.0  \n",
              "3        330600000.0     459005868.0     1.403014e+09            330600000.0  \n",
              "4        317000000.0     620181382.0     1.316722e+09            317000000.0  "
            ]
          },
          "metadata": {},
          "output_type": "display_data"
        }
      ],
      "source": [
        "def fuzzy_merge(df_left, df_right, left_on, right_on, threshold=80):\n",
        "    \"\"\"\n",
        "    Performs a fuzzy merge of two dataframes based on specified columns.\n",
        "    Includes more robust error handling.\n",
        "    \"\"\"\n",
        "    try:\n",
        "        matches = []\n",
        "        for left_value in df_left[left_on]:\n",
        "            best_match = process.extractOne(left_value, df_right[right_on], scorer=fuzz.token_sort_ratio, score_cutoff=threshold)\n",
        "            matches.append(best_match)\n",
        "\n",
        "        df_matches = pd.DataFrame(matches, columns=['right', 'score', 'idx'])\n",
        "\n",
        "        #More robust handling of missing matches\n",
        "        df_matches.fillna({'right': 'Unknown', 'score': 0, 'idx': -1}, inplace=True)\n",
        "\n",
        "        df_merged = pd.merge(df_left, df_matches, left_index=True, right_index=True, how='left')\n",
        "\n",
        "        # Explicitly convert 'right' to string to avoid type errors\n",
        "        df_merged['right'] = df_merged['right'].astype(str)\n",
        "\n",
        "        df_merged = pd.merge(df_merged, df_right, left_on='right', right_on=right_on, how='left')\n",
        "        return df_merged\n",
        "\n",
        "    except KeyError as e:\n",
        "        print(f\"KeyError in fuzzy_merge: {e}\")\n",
        "        print(f\"Available columns in df_left: {df_left.columns.tolist()}\")\n",
        "        print(f\"Available columns in df_right: {df_right.columns.tolist()}\")\n",
        "        return df_left\n",
        "    except Exception as e:\n",
        "        print(f\"An unexpected error occurred during fuzzy_merge: {e}\")\n",
        "        return df_left\n",
        "\n",
        "df_merged = fuzzy_merge(df_tn, df_bom, 'tn_movie', 'bom_title')\n",
        "df_merged = fuzzy_merge(df_merged, df_tmdb, 'tn_movie', 'tmdb_title')\n",
        "df_merged = fuzzy_merge(df_merged, df_rt_info, 'tn_movie', 'movie title')\n",
        "df_merged = fuzzy_merge(df_merged, df_rt_reviews, 'tn_movie', 'id')\n",
        "\n",
        "display(df_merged.head())"
      ]
    },
    {
      "cell_type": "markdown",
      "metadata": {
        "id": "26xpp12kiDlP"
      },
      "source": [
        "**Reasoning**:\n",
        "The merging process encountered persistent issues due to inconsistent title formatting or fuzzy matching inaccuracies. A simpler strategy based on exact title matches after converting to lowercase is less error-prone and easier to debug. We'll focus only on merging df_tn, df_bom, and df_tmdb first.\n",
        "\n"
      ]
    },
    {
      "cell_type": "code",
      "execution_count": 8,
      "metadata": {
        "colab": {
          "base_uri": "https://localhost:8080/",
          "height": 463
        },
        "id": "UCr_CyRSiD8B",
        "outputId": "6164f5a3-f285-4797-b3c9-c37ce4bb6f88"
      },
      "outputs": [
        {
          "data": {
            "application/vnd.microsoft.datawrangler.viewer.v0+json": {
              "columns": [
                {
                  "name": "index",
                  "rawType": "int64",
                  "type": "integer"
                },
                {
                  "name": "id_x",
                  "rawType": "int64",
                  "type": "integer"
                },
                {
                  "name": "release_date_x",
                  "rawType": "datetime64[ns]",
                  "type": "datetime"
                },
                {
                  "name": "tn_movie",
                  "rawType": "object",
                  "type": "string"
                },
                {
                  "name": "production_budget",
                  "rawType": "float64",
                  "type": "float"
                },
                {
                  "name": "domestic_gross_x",
                  "rawType": "float64",
                  "type": "float"
                },
                {
                  "name": "worldwide_gross",
                  "rawType": "float64",
                  "type": "float"
                },
                {
                  "name": "production_budget_num",
                  "rawType": "float64",
                  "type": "float"
                },
                {
                  "name": "bom_title",
                  "rawType": "object",
                  "type": "string"
                },
                {
                  "name": "studio",
                  "rawType": "object",
                  "type": "string"
                },
                {
                  "name": "domestic_gross_y",
                  "rawType": "float64",
                  "type": "float"
                },
                {
                  "name": "foreign_gross",
                  "rawType": "float64",
                  "type": "float"
                },
                {
                  "name": "year",
                  "rawType": "float64",
                  "type": "float"
                },
                {
                  "name": "genre_ids",
                  "rawType": "object",
                  "type": "string"
                },
                {
                  "name": "id_y",
                  "rawType": "float64",
                  "type": "float"
                },
                {
                  "name": "original_language",
                  "rawType": "object",
                  "type": "string"
                },
                {
                  "name": "tmdb_original_title",
                  "rawType": "object",
                  "type": "string"
                },
                {
                  "name": "popularity",
                  "rawType": "float64",
                  "type": "float"
                },
                {
                  "name": "release_date_y",
                  "rawType": "datetime64[ns]",
                  "type": "datetime"
                },
                {
                  "name": "tmdb_title",
                  "rawType": "object",
                  "type": "string"
                },
                {
                  "name": "vote_average",
                  "rawType": "float64",
                  "type": "float"
                },
                {
                  "name": "vote_count",
                  "rawType": "float64",
                  "type": "float"
                }
              ],
              "ref": "02085621-9000-497f-9cc0-9b3c958c917c",
              "rows": [
                [
                  "0",
                  "1",
                  "2009-12-18 00:00:00",
                  "avatar",
                  "425000000.0",
                  "760507625.0",
                  "2776345279.0",
                  "425000000.0",
                  null,
                  null,
                  null,
                  null,
                  null,
                  "[28, 12, 14, 878]",
                  "19995.0",
                  "en",
                  "Avatar",
                  "26.526",
                  "2009-12-18 00:00:00",
                  "avatar",
                  "7.4",
                  "18676.0"
                ],
                [
                  "1",
                  "2",
                  "2011-05-20 00:00:00",
                  "pirates of the caribbean: on stranger tides",
                  "410600000.0",
                  "241063875.0",
                  "1045663875.0",
                  "410600000.0",
                  "pirates of the caribbean: on stranger tides",
                  "BV",
                  "241100000.0",
                  "804600000.0",
                  "2011.0",
                  "[12, 28, 14]",
                  "1865.0",
                  "en",
                  "Pirates of the Caribbean: On Stranger Tides",
                  "30.579",
                  "2011-05-20 00:00:00",
                  "pirates of the caribbean: on stranger tides",
                  "6.4",
                  "8571.0"
                ],
                [
                  "2",
                  "3",
                  "2019-06-07 00:00:00",
                  "dark phoenix",
                  "350000000.0",
                  "42762350.0",
                  "149762350.0",
                  "350000000.0",
                  null,
                  null,
                  null,
                  null,
                  null,
                  null,
                  null,
                  null,
                  null,
                  null,
                  null,
                  null,
                  null,
                  null
                ],
                [
                  "3",
                  "4",
                  "2015-05-01 00:00:00",
                  "avengers: age of ultron",
                  "330600000.0",
                  "459005868.0",
                  "1403013963.0",
                  "330600000.0",
                  "avengers: age of ultron",
                  "BV",
                  "459000000.0",
                  "946400000.0",
                  "2015.0",
                  "[28, 12, 878]",
                  "99861.0",
                  "en",
                  "Avengers: Age of Ultron",
                  "44.383",
                  "2015-05-01 00:00:00",
                  "avengers: age of ultron",
                  "7.3",
                  "13457.0"
                ],
                [
                  "4",
                  "5",
                  "2017-12-15 00:00:00",
                  "star wars ep. viii: the last jedi",
                  "317000000.0",
                  "620181382.0",
                  "1316721747.0",
                  "317000000.0",
                  null,
                  null,
                  null,
                  null,
                  null,
                  null,
                  null,
                  null,
                  null,
                  null,
                  null,
                  null,
                  null,
                  null
                ]
              ],
              "shape": {
                "columns": 21,
                "rows": 5
              }
            },
            "text/html": [
              "<div>\n",
              "<style scoped>\n",
              "    .dataframe tbody tr th:only-of-type {\n",
              "        vertical-align: middle;\n",
              "    }\n",
              "\n",
              "    .dataframe tbody tr th {\n",
              "        vertical-align: top;\n",
              "    }\n",
              "\n",
              "    .dataframe thead th {\n",
              "        text-align: right;\n",
              "    }\n",
              "</style>\n",
              "<table border=\"1\" class=\"dataframe\">\n",
              "  <thead>\n",
              "    <tr style=\"text-align: right;\">\n",
              "      <th></th>\n",
              "      <th>id_x</th>\n",
              "      <th>release_date_x</th>\n",
              "      <th>tn_movie</th>\n",
              "      <th>production_budget</th>\n",
              "      <th>domestic_gross_x</th>\n",
              "      <th>worldwide_gross</th>\n",
              "      <th>production_budget_num</th>\n",
              "      <th>bom_title</th>\n",
              "      <th>studio</th>\n",
              "      <th>domestic_gross_y</th>\n",
              "      <th>...</th>\n",
              "      <th>year</th>\n",
              "      <th>genre_ids</th>\n",
              "      <th>id_y</th>\n",
              "      <th>original_language</th>\n",
              "      <th>tmdb_original_title</th>\n",
              "      <th>popularity</th>\n",
              "      <th>release_date_y</th>\n",
              "      <th>tmdb_title</th>\n",
              "      <th>vote_average</th>\n",
              "      <th>vote_count</th>\n",
              "    </tr>\n",
              "  </thead>\n",
              "  <tbody>\n",
              "    <tr>\n",
              "      <th>0</th>\n",
              "      <td>1</td>\n",
              "      <td>2009-12-18</td>\n",
              "      <td>avatar</td>\n",
              "      <td>425000000.0</td>\n",
              "      <td>760507625.0</td>\n",
              "      <td>2.776345e+09</td>\n",
              "      <td>425000000.0</td>\n",
              "      <td>NaN</td>\n",
              "      <td>NaN</td>\n",
              "      <td>NaN</td>\n",
              "      <td>...</td>\n",
              "      <td>NaN</td>\n",
              "      <td>[28, 12, 14, 878]</td>\n",
              "      <td>19995.0</td>\n",
              "      <td>en</td>\n",
              "      <td>Avatar</td>\n",
              "      <td>26.526</td>\n",
              "      <td>2009-12-18</td>\n",
              "      <td>avatar</td>\n",
              "      <td>7.4</td>\n",
              "      <td>18676.0</td>\n",
              "    </tr>\n",
              "    <tr>\n",
              "      <th>1</th>\n",
              "      <td>2</td>\n",
              "      <td>2011-05-20</td>\n",
              "      <td>pirates of the caribbean: on stranger tides</td>\n",
              "      <td>410600000.0</td>\n",
              "      <td>241063875.0</td>\n",
              "      <td>1.045664e+09</td>\n",
              "      <td>410600000.0</td>\n",
              "      <td>pirates of the caribbean: on stranger tides</td>\n",
              "      <td>BV</td>\n",
              "      <td>241100000.0</td>\n",
              "      <td>...</td>\n",
              "      <td>2011.0</td>\n",
              "      <td>[12, 28, 14]</td>\n",
              "      <td>1865.0</td>\n",
              "      <td>en</td>\n",
              "      <td>Pirates of the Caribbean: On Stranger Tides</td>\n",
              "      <td>30.579</td>\n",
              "      <td>2011-05-20</td>\n",
              "      <td>pirates of the caribbean: on stranger tides</td>\n",
              "      <td>6.4</td>\n",
              "      <td>8571.0</td>\n",
              "    </tr>\n",
              "    <tr>\n",
              "      <th>2</th>\n",
              "      <td>3</td>\n",
              "      <td>2019-06-07</td>\n",
              "      <td>dark phoenix</td>\n",
              "      <td>350000000.0</td>\n",
              "      <td>42762350.0</td>\n",
              "      <td>1.497624e+08</td>\n",
              "      <td>350000000.0</td>\n",
              "      <td>NaN</td>\n",
              "      <td>NaN</td>\n",
              "      <td>NaN</td>\n",
              "      <td>...</td>\n",
              "      <td>NaN</td>\n",
              "      <td>NaN</td>\n",
              "      <td>NaN</td>\n",
              "      <td>NaN</td>\n",
              "      <td>NaN</td>\n",
              "      <td>NaN</td>\n",
              "      <td>NaT</td>\n",
              "      <td>NaN</td>\n",
              "      <td>NaN</td>\n",
              "      <td>NaN</td>\n",
              "    </tr>\n",
              "    <tr>\n",
              "      <th>3</th>\n",
              "      <td>4</td>\n",
              "      <td>2015-05-01</td>\n",
              "      <td>avengers: age of ultron</td>\n",
              "      <td>330600000.0</td>\n",
              "      <td>459005868.0</td>\n",
              "      <td>1.403014e+09</td>\n",
              "      <td>330600000.0</td>\n",
              "      <td>avengers: age of ultron</td>\n",
              "      <td>BV</td>\n",
              "      <td>459000000.0</td>\n",
              "      <td>...</td>\n",
              "      <td>2015.0</td>\n",
              "      <td>[28, 12, 878]</td>\n",
              "      <td>99861.0</td>\n",
              "      <td>en</td>\n",
              "      <td>Avengers: Age of Ultron</td>\n",
              "      <td>44.383</td>\n",
              "      <td>2015-05-01</td>\n",
              "      <td>avengers: age of ultron</td>\n",
              "      <td>7.3</td>\n",
              "      <td>13457.0</td>\n",
              "    </tr>\n",
              "    <tr>\n",
              "      <th>4</th>\n",
              "      <td>5</td>\n",
              "      <td>2017-12-15</td>\n",
              "      <td>star wars ep. viii: the last jedi</td>\n",
              "      <td>317000000.0</td>\n",
              "      <td>620181382.0</td>\n",
              "      <td>1.316722e+09</td>\n",
              "      <td>317000000.0</td>\n",
              "      <td>NaN</td>\n",
              "      <td>NaN</td>\n",
              "      <td>NaN</td>\n",
              "      <td>...</td>\n",
              "      <td>NaN</td>\n",
              "      <td>NaN</td>\n",
              "      <td>NaN</td>\n",
              "      <td>NaN</td>\n",
              "      <td>NaN</td>\n",
              "      <td>NaN</td>\n",
              "      <td>NaT</td>\n",
              "      <td>NaN</td>\n",
              "      <td>NaN</td>\n",
              "      <td>NaN</td>\n",
              "    </tr>\n",
              "  </tbody>\n",
              "</table>\n",
              "<p>5 rows × 21 columns</p>\n",
              "</div>"
            ],
            "text/plain": [
              "   id_x release_date_x                                     tn_movie  \\\n",
              "0     1     2009-12-18                                       avatar   \n",
              "1     2     2011-05-20  pirates of the caribbean: on stranger tides   \n",
              "2     3     2019-06-07                                 dark phoenix   \n",
              "3     4     2015-05-01                      avengers: age of ultron   \n",
              "4     5     2017-12-15            star wars ep. viii: the last jedi   \n",
              "\n",
              "   production_budget  domestic_gross_x  worldwide_gross  \\\n",
              "0        425000000.0       760507625.0     2.776345e+09   \n",
              "1        410600000.0       241063875.0     1.045664e+09   \n",
              "2        350000000.0        42762350.0     1.497624e+08   \n",
              "3        330600000.0       459005868.0     1.403014e+09   \n",
              "4        317000000.0       620181382.0     1.316722e+09   \n",
              "\n",
              "   production_budget_num                                    bom_title studio  \\\n",
              "0            425000000.0                                          NaN    NaN   \n",
              "1            410600000.0  pirates of the caribbean: on stranger tides     BV   \n",
              "2            350000000.0                                          NaN    NaN   \n",
              "3            330600000.0                      avengers: age of ultron     BV   \n",
              "4            317000000.0                                          NaN    NaN   \n",
              "\n",
              "   domestic_gross_y  ...    year          genre_ids     id_y  \\\n",
              "0               NaN  ...     NaN  [28, 12, 14, 878]  19995.0   \n",
              "1       241100000.0  ...  2011.0       [12, 28, 14]   1865.0   \n",
              "2               NaN  ...     NaN                NaN      NaN   \n",
              "3       459000000.0  ...  2015.0      [28, 12, 878]  99861.0   \n",
              "4               NaN  ...     NaN                NaN      NaN   \n",
              "\n",
              "   original_language                          tmdb_original_title popularity  \\\n",
              "0                 en                                       Avatar     26.526   \n",
              "1                 en  Pirates of the Caribbean: On Stranger Tides     30.579   \n",
              "2                NaN                                          NaN        NaN   \n",
              "3                 en                      Avengers: Age of Ultron     44.383   \n",
              "4                NaN                                          NaN        NaN   \n",
              "\n",
              "   release_date_y                                   tmdb_title vote_average  \\\n",
              "0      2009-12-18                                       avatar          7.4   \n",
              "1      2011-05-20  pirates of the caribbean: on stranger tides          6.4   \n",
              "2             NaT                                          NaN          NaN   \n",
              "3      2015-05-01                      avengers: age of ultron          7.3   \n",
              "4             NaT                                          NaN          NaN   \n",
              "\n",
              "   vote_count  \n",
              "0     18676.0  \n",
              "1      8571.0  \n",
              "2         NaN  \n",
              "3     13457.0  \n",
              "4         NaN  \n",
              "\n",
              "[5 rows x 21 columns]"
            ]
          },
          "metadata": {},
          "output_type": "display_data"
        }
      ],
      "source": [
        "# Simplify merging strategy, focusing on df_tn, df_bom, and df_tmdb\n",
        "\n",
        "# Convert 'tn_movie' and relevant title columns to lowercase for consistent matching\n",
        "df_tn['tn_movie'] = df_tn['tn_movie'].str.lower()\n",
        "df_bom['bom_title'] = df_bom['bom_title'].str.lower()\n",
        "df_tmdb['tmdb_title'] = df_tmdb['tmdb_title'].str.lower()\n",
        "\n",
        "\n",
        "# Merge df_tn and df_bom\n",
        "df_merged = pd.merge(df_tn, df_bom, left_on='tn_movie', right_on='bom_title', how='left')\n",
        "\n",
        "# Merge with df_tmdb\n",
        "df_merged = pd.merge(df_merged, df_tmdb, left_on='tn_movie', right_on='tmdb_title', how='left')\n",
        "\n",
        "display(df_merged.head())"
      ]
    },
    {
      "cell_type": "markdown",
      "metadata": {
        "id": "BjcDeSOZiHkP"
      },
      "source": [
        "## Step 5: Feature engineering\n",
        "\n",
        "### Subtask:\n",
        "Feature Engineering for Movie Data Analysis\n"
      ]
    },
    {
      "cell_type": "markdown",
      "metadata": {
        "id": "ABbC6g8ViITZ"
      },
      "source": [
        "**Reasoning**:\n",
        "Create the new features as requested in the instructions.\n",
        "\n"
      ]
    },
    {
      "cell_type": "code",
      "execution_count": 9,
      "metadata": {
        "colab": {
          "base_uri": "https://localhost:8080/"
        },
        "id": "xa-t3WT1iKxe",
        "outputId": "8f69c161-ecc1-4c3c-99e5-966e714e42a1"
      },
      "outputs": [
        {
          "name": "stdout",
          "output_type": "stream",
          "text": [
            "['id_x', 'release_date_x', 'tn_movie', 'production_budget', 'domestic_gross_x', 'worldwide_gross', 'production_budget_num', 'bom_title', 'studio', 'domestic_gross_y', 'foreign_gross', 'year', 'genre_ids', 'id_y', 'original_language', 'tmdb_original_title', 'popularity', 'release_date_y', 'tmdb_title', 'vote_average', 'vote_count']\n"
          ]
        }
      ],
      "source": [
        "print(df_merged.columns.tolist())"
      ]
    },
    {
      "cell_type": "markdown",
      "metadata": {
        "id": "14BUDtdLiNUp"
      },
      "source": [
        "**Reasoning**:\n",
        "The previous command showed the available columns in `df_merged`.  The release date column seems to be named `release_date_x` or `release_date_y`. I will use both to attempt feature engineering.\n",
        "\n"
      ]
    },
    {
      "cell_type": "code",
      "execution_count": 10,
      "metadata": {
        "colab": {
          "base_uri": "https://localhost:8080/",
          "height": 464
        },
        "id": "bE9bIBWIiNtM",
        "outputId": "b7327c45-7ea3-4650-8154-fe3d5c671440"
      },
      "outputs": [
        {
          "name": "stdout",
          "output_type": "stream",
          "text": [
            "Warning: 'genre' or 'genres' columns not found. Skipping genre interaction features.\n"
          ]
        },
        {
          "data": {
            "application/vnd.microsoft.datawrangler.viewer.v0+json": {
              "columns": [
                {
                  "name": "index",
                  "rawType": "int64",
                  "type": "integer"
                },
                {
                  "name": "id_x",
                  "rawType": "int64",
                  "type": "integer"
                },
                {
                  "name": "release_date_x",
                  "rawType": "datetime64[ns]",
                  "type": "datetime"
                },
                {
                  "name": "tn_movie",
                  "rawType": "object",
                  "type": "string"
                },
                {
                  "name": "production_budget",
                  "rawType": "float64",
                  "type": "float"
                },
                {
                  "name": "domestic_gross_x",
                  "rawType": "float64",
                  "type": "float"
                },
                {
                  "name": "worldwide_gross",
                  "rawType": "float64",
                  "type": "float"
                },
                {
                  "name": "production_budget_num",
                  "rawType": "float64",
                  "type": "float"
                },
                {
                  "name": "bom_title",
                  "rawType": "object",
                  "type": "string"
                },
                {
                  "name": "studio",
                  "rawType": "object",
                  "type": "string"
                },
                {
                  "name": "domestic_gross_y",
                  "rawType": "float64",
                  "type": "float"
                },
                {
                  "name": "foreign_gross",
                  "rawType": "float64",
                  "type": "float"
                },
                {
                  "name": "year",
                  "rawType": "float64",
                  "type": "float"
                },
                {
                  "name": "genre_ids",
                  "rawType": "object",
                  "type": "string"
                },
                {
                  "name": "id_y",
                  "rawType": "float64",
                  "type": "float"
                },
                {
                  "name": "original_language",
                  "rawType": "object",
                  "type": "string"
                },
                {
                  "name": "tmdb_original_title",
                  "rawType": "object",
                  "type": "string"
                },
                {
                  "name": "popularity",
                  "rawType": "float64",
                  "type": "float"
                },
                {
                  "name": "release_date_y",
                  "rawType": "datetime64[ns]",
                  "type": "datetime"
                },
                {
                  "name": "tmdb_title",
                  "rawType": "object",
                  "type": "string"
                },
                {
                  "name": "vote_average",
                  "rawType": "float64",
                  "type": "float"
                },
                {
                  "name": "vote_count",
                  "rawType": "float64",
                  "type": "float"
                },
                {
                  "name": "release_date_x_year",
                  "rawType": "int64",
                  "type": "integer"
                },
                {
                  "name": "release_date_x_month",
                  "rawType": "int64",
                  "type": "integer"
                },
                {
                  "name": "release_date_y_year",
                  "rawType": "float64",
                  "type": "float"
                },
                {
                  "name": "release_date_y_month",
                  "rawType": "float64",
                  "type": "float"
                },
                {
                  "name": "aggregated_review_score",
                  "rawType": "float64",
                  "type": "float"
                }
              ],
              "ref": "1e664706-9050-4bb7-a3b6-509be15e0d70",
              "rows": [
                [
                  "0",
                  "1",
                  "2009-12-18 00:00:00",
                  "avatar",
                  "425000000.0",
                  "760507625.0",
                  "2776345279.0",
                  "425000000.0",
                  null,
                  null,
                  null,
                  null,
                  null,
                  "[28, 12, 14, 878]",
                  "19995.0",
                  "en",
                  "Avatar",
                  "26.526",
                  "2009-12-18 00:00:00",
                  "avatar",
                  "7.4",
                  "18676.0",
                  "2009",
                  "12",
                  "2009.0",
                  "12.0",
                  "7.4"
                ],
                [
                  "1",
                  "2",
                  "2011-05-20 00:00:00",
                  "pirates of the caribbean: on stranger tides",
                  "410600000.0",
                  "241063875.0",
                  "1045663875.0",
                  "410600000.0",
                  "pirates of the caribbean: on stranger tides",
                  "BV",
                  "241100000.0",
                  "804600000.0",
                  "2011.0",
                  "[12, 28, 14]",
                  "1865.0",
                  "en",
                  "Pirates of the Caribbean: On Stranger Tides",
                  "30.579",
                  "2011-05-20 00:00:00",
                  "pirates of the caribbean: on stranger tides",
                  "6.4",
                  "8571.0",
                  "2011",
                  "5",
                  "2011.0",
                  "5.0",
                  "6.4"
                ],
                [
                  "2",
                  "3",
                  "2019-06-07 00:00:00",
                  "dark phoenix",
                  "350000000.0",
                  "42762350.0",
                  "149762350.0",
                  "350000000.0",
                  null,
                  null,
                  null,
                  null,
                  null,
                  null,
                  null,
                  null,
                  null,
                  null,
                  null,
                  null,
                  null,
                  null,
                  "2019",
                  "6",
                  null,
                  null,
                  "6.164931627701802"
                ],
                [
                  "3",
                  "4",
                  "2015-05-01 00:00:00",
                  "avengers: age of ultron",
                  "330600000.0",
                  "459005868.0",
                  "1403013963.0",
                  "330600000.0",
                  "avengers: age of ultron",
                  "BV",
                  "459000000.0",
                  "946400000.0",
                  "2015.0",
                  "[28, 12, 878]",
                  "99861.0",
                  "en",
                  "Avengers: Age of Ultron",
                  "44.383",
                  "2015-05-01 00:00:00",
                  "avengers: age of ultron",
                  "7.3",
                  "13457.0",
                  "2015",
                  "5",
                  "2015.0",
                  "5.0",
                  "7.3"
                ],
                [
                  "4",
                  "5",
                  "2017-12-15 00:00:00",
                  "star wars ep. viii: the last jedi",
                  "317000000.0",
                  "620181382.0",
                  "1316721747.0",
                  "317000000.0",
                  null,
                  null,
                  null,
                  null,
                  null,
                  null,
                  null,
                  null,
                  null,
                  null,
                  null,
                  null,
                  null,
                  null,
                  "2017",
                  "12",
                  null,
                  null,
                  "6.164931627701802"
                ]
              ],
              "shape": {
                "columns": 26,
                "rows": 5
              }
            },
            "text/html": [
              "<div>\n",
              "<style scoped>\n",
              "    .dataframe tbody tr th:only-of-type {\n",
              "        vertical-align: middle;\n",
              "    }\n",
              "\n",
              "    .dataframe tbody tr th {\n",
              "        vertical-align: top;\n",
              "    }\n",
              "\n",
              "    .dataframe thead th {\n",
              "        text-align: right;\n",
              "    }\n",
              "</style>\n",
              "<table border=\"1\" class=\"dataframe\">\n",
              "  <thead>\n",
              "    <tr style=\"text-align: right;\">\n",
              "      <th></th>\n",
              "      <th>id_x</th>\n",
              "      <th>release_date_x</th>\n",
              "      <th>tn_movie</th>\n",
              "      <th>production_budget</th>\n",
              "      <th>domestic_gross_x</th>\n",
              "      <th>worldwide_gross</th>\n",
              "      <th>production_budget_num</th>\n",
              "      <th>bom_title</th>\n",
              "      <th>studio</th>\n",
              "      <th>domestic_gross_y</th>\n",
              "      <th>...</th>\n",
              "      <th>popularity</th>\n",
              "      <th>release_date_y</th>\n",
              "      <th>tmdb_title</th>\n",
              "      <th>vote_average</th>\n",
              "      <th>vote_count</th>\n",
              "      <th>release_date_x_year</th>\n",
              "      <th>release_date_x_month</th>\n",
              "      <th>release_date_y_year</th>\n",
              "      <th>release_date_y_month</th>\n",
              "      <th>aggregated_review_score</th>\n",
              "    </tr>\n",
              "  </thead>\n",
              "  <tbody>\n",
              "    <tr>\n",
              "      <th>0</th>\n",
              "      <td>1</td>\n",
              "      <td>2009-12-18</td>\n",
              "      <td>avatar</td>\n",
              "      <td>425000000.0</td>\n",
              "      <td>760507625.0</td>\n",
              "      <td>2.776345e+09</td>\n",
              "      <td>425000000.0</td>\n",
              "      <td>NaN</td>\n",
              "      <td>NaN</td>\n",
              "      <td>NaN</td>\n",
              "      <td>...</td>\n",
              "      <td>26.526</td>\n",
              "      <td>2009-12-18</td>\n",
              "      <td>avatar</td>\n",
              "      <td>7.4</td>\n",
              "      <td>18676.0</td>\n",
              "      <td>2009</td>\n",
              "      <td>12</td>\n",
              "      <td>2009.0</td>\n",
              "      <td>12.0</td>\n",
              "      <td>7.400000</td>\n",
              "    </tr>\n",
              "    <tr>\n",
              "      <th>1</th>\n",
              "      <td>2</td>\n",
              "      <td>2011-05-20</td>\n",
              "      <td>pirates of the caribbean: on stranger tides</td>\n",
              "      <td>410600000.0</td>\n",
              "      <td>241063875.0</td>\n",
              "      <td>1.045664e+09</td>\n",
              "      <td>410600000.0</td>\n",
              "      <td>pirates of the caribbean: on stranger tides</td>\n",
              "      <td>BV</td>\n",
              "      <td>241100000.0</td>\n",
              "      <td>...</td>\n",
              "      <td>30.579</td>\n",
              "      <td>2011-05-20</td>\n",
              "      <td>pirates of the caribbean: on stranger tides</td>\n",
              "      <td>6.4</td>\n",
              "      <td>8571.0</td>\n",
              "      <td>2011</td>\n",
              "      <td>5</td>\n",
              "      <td>2011.0</td>\n",
              "      <td>5.0</td>\n",
              "      <td>6.400000</td>\n",
              "    </tr>\n",
              "    <tr>\n",
              "      <th>2</th>\n",
              "      <td>3</td>\n",
              "      <td>2019-06-07</td>\n",
              "      <td>dark phoenix</td>\n",
              "      <td>350000000.0</td>\n",
              "      <td>42762350.0</td>\n",
              "      <td>1.497624e+08</td>\n",
              "      <td>350000000.0</td>\n",
              "      <td>NaN</td>\n",
              "      <td>NaN</td>\n",
              "      <td>NaN</td>\n",
              "      <td>...</td>\n",
              "      <td>NaN</td>\n",
              "      <td>NaT</td>\n",
              "      <td>NaN</td>\n",
              "      <td>NaN</td>\n",
              "      <td>NaN</td>\n",
              "      <td>2019</td>\n",
              "      <td>6</td>\n",
              "      <td>NaN</td>\n",
              "      <td>NaN</td>\n",
              "      <td>6.164932</td>\n",
              "    </tr>\n",
              "    <tr>\n",
              "      <th>3</th>\n",
              "      <td>4</td>\n",
              "      <td>2015-05-01</td>\n",
              "      <td>avengers: age of ultron</td>\n",
              "      <td>330600000.0</td>\n",
              "      <td>459005868.0</td>\n",
              "      <td>1.403014e+09</td>\n",
              "      <td>330600000.0</td>\n",
              "      <td>avengers: age of ultron</td>\n",
              "      <td>BV</td>\n",
              "      <td>459000000.0</td>\n",
              "      <td>...</td>\n",
              "      <td>44.383</td>\n",
              "      <td>2015-05-01</td>\n",
              "      <td>avengers: age of ultron</td>\n",
              "      <td>7.3</td>\n",
              "      <td>13457.0</td>\n",
              "      <td>2015</td>\n",
              "      <td>5</td>\n",
              "      <td>2015.0</td>\n",
              "      <td>5.0</td>\n",
              "      <td>7.300000</td>\n",
              "    </tr>\n",
              "    <tr>\n",
              "      <th>4</th>\n",
              "      <td>5</td>\n",
              "      <td>2017-12-15</td>\n",
              "      <td>star wars ep. viii: the last jedi</td>\n",
              "      <td>317000000.0</td>\n",
              "      <td>620181382.0</td>\n",
              "      <td>1.316722e+09</td>\n",
              "      <td>317000000.0</td>\n",
              "      <td>NaN</td>\n",
              "      <td>NaN</td>\n",
              "      <td>NaN</td>\n",
              "      <td>...</td>\n",
              "      <td>NaN</td>\n",
              "      <td>NaT</td>\n",
              "      <td>NaN</td>\n",
              "      <td>NaN</td>\n",
              "      <td>NaN</td>\n",
              "      <td>2017</td>\n",
              "      <td>12</td>\n",
              "      <td>NaN</td>\n",
              "      <td>NaN</td>\n",
              "      <td>6.164932</td>\n",
              "    </tr>\n",
              "  </tbody>\n",
              "</table>\n",
              "<p>5 rows × 26 columns</p>\n",
              "</div>"
            ],
            "text/plain": [
              "   id_x release_date_x                                     tn_movie  \\\n",
              "0     1     2009-12-18                                       avatar   \n",
              "1     2     2011-05-20  pirates of the caribbean: on stranger tides   \n",
              "2     3     2019-06-07                                 dark phoenix   \n",
              "3     4     2015-05-01                      avengers: age of ultron   \n",
              "4     5     2017-12-15            star wars ep. viii: the last jedi   \n",
              "\n",
              "   production_budget  domestic_gross_x  worldwide_gross  \\\n",
              "0        425000000.0       760507625.0     2.776345e+09   \n",
              "1        410600000.0       241063875.0     1.045664e+09   \n",
              "2        350000000.0        42762350.0     1.497624e+08   \n",
              "3        330600000.0       459005868.0     1.403014e+09   \n",
              "4        317000000.0       620181382.0     1.316722e+09   \n",
              "\n",
              "   production_budget_num                                    bom_title studio  \\\n",
              "0            425000000.0                                          NaN    NaN   \n",
              "1            410600000.0  pirates of the caribbean: on stranger tides     BV   \n",
              "2            350000000.0                                          NaN    NaN   \n",
              "3            330600000.0                      avengers: age of ultron     BV   \n",
              "4            317000000.0                                          NaN    NaN   \n",
              "\n",
              "   domestic_gross_y  ...  popularity  release_date_y  \\\n",
              "0               NaN  ...      26.526      2009-12-18   \n",
              "1       241100000.0  ...      30.579      2011-05-20   \n",
              "2               NaN  ...         NaN             NaT   \n",
              "3       459000000.0  ...      44.383      2015-05-01   \n",
              "4               NaN  ...         NaN             NaT   \n",
              "\n",
              "                                    tmdb_title  vote_average vote_count  \\\n",
              "0                                       avatar           7.4    18676.0   \n",
              "1  pirates of the caribbean: on stranger tides           6.4     8571.0   \n",
              "2                                          NaN           NaN        NaN   \n",
              "3                      avengers: age of ultron           7.3    13457.0   \n",
              "4                                          NaN           NaN        NaN   \n",
              "\n",
              "  release_date_x_year  release_date_x_month release_date_y_year  \\\n",
              "0                2009                    12              2009.0   \n",
              "1                2011                     5              2011.0   \n",
              "2                2019                     6                 NaN   \n",
              "3                2015                     5              2015.0   \n",
              "4                2017                    12                 NaN   \n",
              "\n",
              "  release_date_y_month  aggregated_review_score  \n",
              "0                 12.0                 7.400000  \n",
              "1                  5.0                 6.400000  \n",
              "2                  NaN                 6.164932  \n",
              "3                  5.0                 7.300000  \n",
              "4                  NaN                 6.164932  \n",
              "\n",
              "[5 rows x 26 columns]"
            ]
          },
          "metadata": {},
          "output_type": "display_data"
        }
      ],
      "source": [
        "# 1. Profit Margin Calculation (already done in the previous attempt)\n",
        "\n",
        "# 2. Date Features (using both release_date columns)\n",
        "for col in ['release_date_x', 'release_date_y']:\n",
        "    if col in df_merged.columns:\n",
        "        df_merged[col] = pd.to_datetime(df_merged[col], errors='coerce')\n",
        "        df_merged[f'{col}_year'] = df_merged[col].dt.year\n",
        "        df_merged[f'{col}_month'] = df_merged[col].dt.month\n",
        "    else:\n",
        "        print(f\"Warning: Column '{col}' not found. Skipping date feature extraction for this column.\")\n",
        "\n",
        "# 3. Genre Interaction (adapt if 'genre' column name is different)\n",
        "if 'genre' in df_merged.columns:\n",
        "    genres = df_merged['genre'].str.get_dummies(sep=', ')\n",
        "    df_merged = pd.concat([df_merged, genres], axis=1)\n",
        "    for genre in genres.columns:\n",
        "        df_merged[f'budget_{genre}'] = df_merged['production_budget'] * df_merged[genre]\n",
        "elif 'genres' in df_merged.columns:\n",
        "    genres = df_merged['genres'].str.get_dummies(sep=', ')\n",
        "    df_merged = pd.concat([df_merged, genres], axis=1)\n",
        "    for genre in genres.columns:\n",
        "        df_merged[f'budget_{genre}'] = df_merged['production_budget'] * df_merged[genre]\n",
        "else:\n",
        "    print(\"Warning: 'genre' or 'genres' columns not found. Skipping genre interaction features.\")\n",
        "\n",
        "\n",
        "# 4. Review Score Aggregation (adapt if review score column names are different)\n",
        "# Check for specific review score columns, average if they exist, and handle missing values.\n",
        "if 'imdb_score' in df_merged.columns and 'rotten_tomatoes_score' in df_merged.columns:\n",
        "    df_merged['aggregated_review_score'] = (df_merged['imdb_score'] + df_merged['rotten_tomatoes_score']) / 2\n",
        "    df_merged['aggregated_review_score'] = df_merged['aggregated_review_score'].fillna(df_merged['aggregated_review_score'].mean())\n",
        "elif 'vote_average' in df_merged.columns:  # Using TMDB's vote_average as an alternative\n",
        "    df_merged['aggregated_review_score'] = df_merged['vote_average']\n",
        "    df_merged['aggregated_review_score'] = df_merged['aggregated_review_score'].fillna(df_merged['aggregated_review_score'].mean())\n",
        "else:\n",
        "    print(\"Warning: No suitable review score columns found. Skipping review score aggregation.\")\n",
        "\n",
        "\n",
        "display(df_merged.head())"
      ]
    },
    {
      "cell_type": "markdown",
      "metadata": {
        "id": "a93UWpVMiS9H"
      },
      "source": [
        "## Step 6: Data analysis\n",
        "\n",
        "### Subtask:\n",
        "Analyze the prepared dataset to answer the three business questions.\n"
      ]
    },
    {
      "cell_type": "markdown",
      "metadata": {
        "id": "YhCq74nxiTtj"
      },
      "source": [
        "**Reasoning**:\n",
        "Calculate the average profit margin for each genre, identify the most and least profitable genres, and prepare for a bar chart visualization.\n",
        "\n"
      ]
    },
    {
      "cell_type": "code",
      "execution_count": 11,
      "metadata": {
        "colab": {
          "base_uri": "https://localhost:8080/"
        },
        "id": "0-SlzRTWiUDN",
        "outputId": "8ff7c543-6f76-4791-d857-a4bd6153aa5e"
      },
      "outputs": [
        {
          "name": "stdout",
          "output_type": "stream",
          "text": [
            "Warning: 'genre' or 'genres' column not found in df_merged. Skipping genre profitability analysis.\n"
          ]
        }
      ],
      "source": [
        "import matplotlib.pyplot as plt\n",
        "\n",
        "# Calculate profit margin (already done in feature engineering)\n",
        "\n",
        "# Group by genre and calculate the average profit margin\n",
        "if 'genre' in df_merged.columns:\n",
        "    genre_profitability = df_merged.groupby('genre')['profit_margin'].mean().sort_values(ascending=False)\n",
        "elif 'genres' in df_merged.columns:\n",
        "    genre_profitability = df_merged.groupby('genres')['profit_margin'].mean().sort_values(ascending=False)\n",
        "else:\n",
        "    print(\"Warning: 'genre' or 'genres' column not found in df_merged. Skipping genre profitability analysis.\")\n",
        "    genre_profitability = None\n",
        "\n",
        "# Identify most and least profitable genres\n",
        "if genre_profitability is not None:\n",
        "    most_profitable_genre = genre_profitability.index[0]\n",
        "    least_profitable_genre = genre_profitability.index[-1]\n",
        "    print(f\"Most Profitable Genre: {most_profitable_genre}\")\n",
        "    print(f\"Least Profitable Genre: {least_profitable_genre}\")\n",
        "\n",
        "    # Prepare for bar chart visualization\n",
        "    plt.figure(figsize=(12, 6))\n",
        "    genre_profitability.plot(kind='bar', color='skyblue')\n",
        "    plt.title('Average Profit Margin by Genre')\n",
        "    plt.xlabel('Genre')\n",
        "    plt.ylabel('Average Profit Margin')\n",
        "    plt.xticks(rotation=45, ha='right')\n",
        "    plt.tight_layout()\n",
        "    plt.show()"
      ]
    },
    {
      "cell_type": "markdown",
      "metadata": {
        "id": "BvwM000viV-m"
      },
      "source": [
        "**Reasoning**:\n",
        "Calculate the Pearson correlation coefficient between movie budget and worldwide gross revenue, and visualize their relationship with a scatter plot.\n",
        "\n"
      ]
    },
    {
      "cell_type": "code",
      "execution_count": 12,
      "metadata": {
        "colab": {
          "base_uri": "https://localhost:8080/",
          "height": 582
        },
        "id": "rfKhMRHMiWP_",
        "outputId": "28d0dfa2-9312-42d6-e60d-40b4fdc86fdb"
      },
      "outputs": [
        {
          "name": "stdout",
          "output_type": "stream",
          "text": [
            "Pearson correlation coefficient between budget and revenue: 0.7493172843045932\n"
          ]
        },
        {
          "data": {
            "image/png": "[encoded data removed]",
            "text/plain": [
              "<Figure size 576x432 with 1 Axes>"
            ]
          },
          "metadata": {
            "needs_background": "light"
          },
          "output_type": "display_data"
        }
      ],
      "source": [
        "import matplotlib.pyplot as plt\n",
        "\n",
        "# Calculate the Pearson correlation coefficient\n",
        "correlation = df_merged['production_budget'].corr(df_merged['worldwide_gross'])\n",
        "print(f\"Pearson correlation coefficient between budget and revenue: {correlation}\")\n",
        "\n",
        "# Visualize the relationship with a scatter plot\n",
        "plt.figure(figsize=(8, 6))\n",
        "plt.scatter(df_merged['production_budget'], df_merged['worldwide_gross'], color='green', alpha=0.5)\n",
        "plt.title('Budget vs. Worldwide Gross Revenue')\n",
        "plt.xlabel('Production Budget')\n",
        "plt.ylabel('Worldwide Gross Revenue')\n",
        "plt.grid(True)\n",
        "plt.show()"
      ]
    },
    {
      "cell_type": "markdown",
      "metadata": {
        "id": "G9_4dzEeiY8V"
      },
      "source": [
        "**Reasoning**:\n",
        "Analyze the relationship between the aggregated review scores and worldwide gross revenue by calculating the Pearson correlation coefficient and visualizing the relationship with a scatter plot.\n",
        "\n"
      ]
    },
    {
      "cell_type": "code",
      "execution_count": 13,
      "metadata": {
        "colab": {
          "base_uri": "https://localhost:8080/",
          "height": 582
        },
        "id": "4a-nk4C8iZa8",
        "outputId": "5e812a67-6a6e-4f15-f327-eca76b6d4364"
      },
      "outputs": [
        {
          "name": "stdout",
          "output_type": "stream",
          "text": [
            "Pearson correlation coefficient between aggregated review score and revenue: 0.13855088068436927\n"
          ]
        },
        {
          "data": {
            "image/png": "[encoded data removed]",
            "text/plain": [
              "<Figure size 576x432 with 1 Axes>"
            ]
          },
          "metadata": {
            "needs_background": "light"
          },
          "output_type": "display_data"
        }
      ],
      "source": [
        "import matplotlib.pyplot as plt\n",
        "\n",
        "# Calculate the Pearson correlation coefficient\n",
        "correlation = df_merged['aggregated_review_score'].corr(df_merged['worldwide_gross'])\n",
        "print(f\"Pearson correlation coefficient between aggregated review score and revenue: {correlation}\")\n",
        "\n",
        "# Visualize the relationship with a scatter plot\n",
        "plt.figure(figsize=(8, 6))\n",
        "plt.scatter(df_merged['aggregated_review_score'], df_merged['worldwide_gross'], color='purple', alpha=0.6)\n",
        "plt.title('Aggregated Review Score vs. Worldwide Gross Revenue')\n",
        "plt.xlabel('Aggregated Review Score')\n",
        "plt.ylabel('Worldwide Gross Revenue')\n",
        "plt.grid(True)\n",
        "\n",
        "# Add a regression line (optional)\n",
        "# You can add a regression line to enhance visualization\n",
        "# Here's an example using numpy and scipy.stats:\n",
        "# import numpy as np\n",
        "# from scipy import stats\n",
        "# slope, intercept, r_value, p_value, std_err = stats.linregress(df_merged['aggregated_review_score'], df_merged['worldwide_gross'])\n",
        "# plt.plot(df_merged['aggregated_review_score'], intercept + slope * df_merged['aggregated_review_score'], 'r', label='Regression Line')\n",
        "\n",
        "plt.show()"
      ]
    },
    {
      "cell_type": "markdown",
      "metadata": {},
      "source": [
        "**Reasoning:** Assess the performance of different movie studios by analyzing their average total gross revenue. This will help identify which studios consistently deliver commercially successful films, guiding potential partnership, benchmarking, or acquisition strategies for the new movie studio.\n",
        "\n",
        "\n"
      ]
    },
    {
      "cell_type": "code",
      "execution_count": 24,
      "metadata": {},
      "outputs": [
        {
          "data": {
            "image/png": "[encoded data removed]",
            "text/plain": [
              "<Figure size 720x432 with 1 Axes>"
            ]
          },
          "metadata": {
            "needs_background": "light"
          },
          "output_type": "display_data"
        }
      ],
      "source": [
        "# Clean and convert gross columns to numeric\n",
        "df_bom['domestic_gross'] = pd.to_numeric(df_bom['domestic_gross'], errors='coerce')\n",
        "df_bom['foreign_gross'] = pd.to_numeric(df_bom['foreign_gross'].astype(str).str.replace(',', ''), errors='coerce')\n",
        "df_bom['total_gross'] = df_bom['domestic_gross'] + df_bom['foreign_gross']\n",
        "\n",
        "# Group by studio and calculate average total gross\n",
        "studio_performance = df_bom.groupby('studio')['total_gross'].mean().sort_values(ascending=False).head(10)\n",
        "\n",
        "# Plotting\n",
        "plt.figure(figsize=(10, 6))\n",
        "sns.barplot(x=studio_performance.values, y=studio_performance.index, palette=\"viridis\")\n",
        "plt.title(\"Top 10 Studios by Average Total Gross\")\n",
        "plt.xlabel(\"Average Total Gross ($)\")\n",
        "plt.ylabel(\"Studio\")\n",
        "plt.tight_layout()\n",
        "plt.show()\n"
      ]
    },
    {
      "cell_type": "markdown",
      "metadata": {
        "id": "EdaNOdWyieug"
      },
      "source": [
        "## Step 7: Data visualization\n",
        "\n",
        "### Subtask:\n",
        "Create visualizations to present the findings from the data analysis.\n"
      ]
    },
    {
      "cell_type": "markdown",
      "metadata": {
        "id": "yRNNCrCzifcb"
      },
      "source": [
        "**Reasoning**:\n",
        "Create a bar chart to visualize the average profit margin for each genre if the necessary genre column exists in the dataframe.\n",
        "\n"
      ]
    },
    {
      "cell_type": "code",
      "execution_count": 25,
      "metadata": {
        "colab": {
          "base_uri": "https://localhost:8080/",
          "height": 518
        },
        "id": "dO2EKVf1ifxW",
        "outputId": "8e35dd7a-fb56-43ec-e38d-e5a1e5f2e9bc"
      },
      "outputs": [
        {
          "ename": "KeyError",
          "evalue": "'Column not found: profit_margin'",
          "output_type": "error",
          "traceback": [
            "\u001b[1;31m---------------------------------------------------------------------------\u001b[0m",
            "\u001b[1;31mKeyError\u001b[0m                                  Traceback (most recent call last)",
            "\u001b[1;32m<ipython-input-25-38f409707d8b>\u001b[0m in \u001b[0;36m<module>\u001b[1;34m\u001b[0m\n\u001b[0;32m     19\u001b[0m          \u001b[0mdf_merged_cleaned_genre\u001b[0m\u001b[1;33m[\u001b[0m\u001b[0mgenre_col\u001b[0m\u001b[1;33m]\u001b[0m \u001b[1;33m=\u001b[0m \u001b[0mdf_merged_cleaned_genre\u001b[0m\u001b[1;33m[\u001b[0m\u001b[0mgenre_col\u001b[0m\u001b[1;33m]\u001b[0m\u001b[1;33m.\u001b[0m\u001b[0mastype\u001b[0m\u001b[1;33m(\u001b[0m\u001b[0mstr\u001b[0m\u001b[1;33m)\u001b[0m\u001b[1;33m\u001b[0m\u001b[1;33m\u001b[0m\u001b[0m\n\u001b[0;32m     20\u001b[0m \u001b[1;33m\u001b[0m\u001b[0m\n\u001b[1;32m---> 21\u001b[1;33m     \u001b[0mgenre_profitability\u001b[0m \u001b[1;33m=\u001b[0m \u001b[0mdf_merged_cleaned_genre\u001b[0m\u001b[1;33m.\u001b[0m\u001b[0mgroupby\u001b[0m\u001b[1;33m(\u001b[0m\u001b[0mgenre_col\u001b[0m\u001b[1;33m)\u001b[0m\u001b[1;33m[\u001b[0m\u001b[1;34m'profit_margin'\u001b[0m\u001b[1;33m]\u001b[0m\u001b[1;33m.\u001b[0m\u001b[0mmean\u001b[0m\u001b[1;33m(\u001b[0m\u001b[1;33m)\u001b[0m\u001b[1;33m.\u001b[0m\u001b[0msort_values\u001b[0m\u001b[1;33m(\u001b[0m\u001b[0mascending\u001b[0m\u001b[1;33m=\u001b[0m\u001b[1;32mFalse\u001b[0m\u001b[1;33m)\u001b[0m\u001b[1;33m\u001b[0m\u001b[1;33m\u001b[0m\u001b[0m\n\u001b[0m\u001b[0;32m     22\u001b[0m \u001b[1;33m\u001b[0m\u001b[0m\n\u001b[0;32m     23\u001b[0m     \u001b[0mplt\u001b[0m\u001b[1;33m.\u001b[0m\u001b[0mfigure\u001b[0m\u001b[1;33m(\u001b[0m\u001b[0mfigsize\u001b[0m\u001b[1;33m=\u001b[0m\u001b[1;33m(\u001b[0m\u001b[1;36m12\u001b[0m\u001b[1;33m,\u001b[0m \u001b[1;36m6\u001b[0m\u001b[1;33m)\u001b[0m\u001b[1;33m)\u001b[0m\u001b[1;33m\u001b[0m\u001b[1;33m\u001b[0m\u001b[0m\n",
            "\u001b[1;32mc:\\Users\\Debbie\\AppData\\Local\\anaconda3\\envs\\learn-env\\lib\\site-packages\\pandas\\core\\groupby\\generic.py\u001b[0m in \u001b[0;36m__getitem__\u001b[1;34m(self, key)\u001b[0m\n\u001b[0;32m   1336\u001b[0m                 \u001b[0mstacklevel\u001b[0m\u001b[1;33m=\u001b[0m\u001b[0mfind_stack_level\u001b[0m\u001b[1;33m(\u001b[0m\u001b[1;33m)\u001b[0m\u001b[1;33m,\u001b[0m\u001b[1;33m\u001b[0m\u001b[1;33m\u001b[0m\u001b[0m\n\u001b[0;32m   1337\u001b[0m             )\n\u001b[1;32m-> 1338\u001b[1;33m         \u001b[1;32mreturn\u001b[0m \u001b[0msuper\u001b[0m\u001b[1;33m(\u001b[0m\u001b[1;33m)\u001b[0m\u001b[1;33m.\u001b[0m\u001b[0m__getitem__\u001b[0m\u001b[1;33m(\u001b[0m\u001b[0mkey\u001b[0m\u001b[1;33m)\u001b[0m\u001b[1;33m\u001b[0m\u001b[1;33m\u001b[0m\u001b[0m\n\u001b[0m\u001b[0;32m   1339\u001b[0m \u001b[1;33m\u001b[0m\u001b[0m\n\u001b[0;32m   1340\u001b[0m     \u001b[1;32mdef\u001b[0m \u001b[0m_gotitem\u001b[0m\u001b[1;33m(\u001b[0m\u001b[0mself\u001b[0m\u001b[1;33m,\u001b[0m \u001b[0mkey\u001b[0m\u001b[1;33m,\u001b[0m \u001b[0mndim\u001b[0m\u001b[1;33m:\u001b[0m \u001b[0mint\u001b[0m\u001b[1;33m,\u001b[0m \u001b[0msubset\u001b[0m\u001b[1;33m=\u001b[0m\u001b[1;32mNone\u001b[0m\u001b[1;33m)\u001b[0m\u001b[1;33m:\u001b[0m\u001b[1;33m\u001b[0m\u001b[1;33m\u001b[0m\u001b[0m\n",
            "\u001b[1;32mc:\\Users\\Debbie\\AppData\\Local\\anaconda3\\envs\\learn-env\\lib\\site-packages\\pandas\\core\\base.py\u001b[0m in \u001b[0;36m__getitem__\u001b[1;34m(self, key)\u001b[0m\n\u001b[0;32m    248\u001b[0m         \u001b[1;32melse\u001b[0m\u001b[1;33m:\u001b[0m\u001b[1;33m\u001b[0m\u001b[1;33m\u001b[0m\u001b[0m\n\u001b[0;32m    249\u001b[0m             \u001b[1;32mif\u001b[0m \u001b[0mkey\u001b[0m \u001b[1;32mnot\u001b[0m \u001b[1;32min\u001b[0m \u001b[0mself\u001b[0m\u001b[1;33m.\u001b[0m\u001b[0mobj\u001b[0m\u001b[1;33m:\u001b[0m\u001b[1;33m\u001b[0m\u001b[1;33m\u001b[0m\u001b[0m\n\u001b[1;32m--> 250\u001b[1;33m                 \u001b[1;32mraise\u001b[0m \u001b[0mKeyError\u001b[0m\u001b[1;33m(\u001b[0m\u001b[1;34mf\"Column not found: {key}\"\u001b[0m\u001b[1;33m)\u001b[0m\u001b[1;33m\u001b[0m\u001b[1;33m\u001b[0m\u001b[0m\n\u001b[0m\u001b[0;32m    251\u001b[0m             \u001b[0msubset\u001b[0m \u001b[1;33m=\u001b[0m \u001b[0mself\u001b[0m\u001b[1;33m.\u001b[0m\u001b[0mobj\u001b[0m\u001b[1;33m[\u001b[0m\u001b[0mkey\u001b[0m\u001b[1;33m]\u001b[0m\u001b[1;33m\u001b[0m\u001b[1;33m\u001b[0m\u001b[0m\n\u001b[0;32m    252\u001b[0m             \u001b[0mndim\u001b[0m \u001b[1;33m=\u001b[0m \u001b[0msubset\u001b[0m\u001b[1;33m.\u001b[0m\u001b[0mndim\u001b[0m\u001b[1;33m\u001b[0m\u001b[1;33m\u001b[0m\u001b[0m\n",
            "\u001b[1;31mKeyError\u001b[0m: 'Column not found: profit_margin'"
          ]
        }
      ],
      "source": [
        "import matplotlib.pyplot as plt\n",
        "import seaborn as sns\n",
        "\n",
        "# 1. Genre Profitability: Create a bar chart visualizing the average profit margin for each genre.\n",
        "# Check if 'genre' or 'genres' column is available in the merged dataframe.\n",
        "genre_col = None\n",
        "if 'genre' in df_merged.columns:\n",
        "    genre_col = 'genre'\n",
        "elif 'genres' in df_merged.columns:\n",
        "    genre_col = 'genres'\n",
        "elif 'genre_ids' in df_merged.columns: # Use genre_ids as a fallback if others are not available\n",
        "    genre_col = 'genre_ids'\n",
        "\n",
        "\n",
        "if genre_col is not None:\n",
        "    # Handle potential missing values and convert genre_ids to strings if necessary\n",
        "    df_merged_cleaned_genre = df_merged.dropna(subset=[genre_col]).copy()\n",
        "    if genre_col == 'genre_ids':\n",
        "         df_merged_cleaned_genre[genre_col] = df_merged_cleaned_genre[genre_col].astype(str)\n",
        "\n",
        "    genre_profitability = df_merged_cleaned_genre.groupby(genre_col)['profit_margin'].mean().sort_values(ascending=False)\n",
        "\n",
        "    plt.figure(figsize=(12, 6))\n",
        "    sns.barplot(x=genre_profitability.index, y=genre_profitability.values, palette='viridis')\n",
        "    plt.title('Average Profit Margin by Genre')\n",
        "    plt.xlabel('Genre')\n",
        "    plt.ylabel('Average Profit Margin')\n",
        "    plt.xticks(rotation=45, ha='right')\n",
        "    plt.tight_layout()\n",
        "    plt.show()\n",
        "else:\n",
        "    print(\"An appropriate genre column ('genre', 'genres', or 'genre_ids') was not found. Cannot create genre profitability visualization.\")\n"
      ]
    },
    {
      "cell_type": "markdown",
      "metadata": {
        "id": "1cOa7X1AilDL"
      },
      "source": [
        "**Reasoning**:\n",
        "Create a scatter plot to visualize the relationship between production budget and worldwide gross revenue.\n",
        "\n"
      ]
    },
    {
      "cell_type": "code",
      "execution_count": 28,
      "metadata": {},
      "outputs": [
        {
          "data": {
            "image/png": "[encoded data removed]",
            "text/plain": [
              "<Figure size 720x432 with 1 Axes>"
            ]
          },
          "metadata": {},
          "output_type": "display_data"
        }
      ],
      "source": [
        "import matplotlib.pyplot as plt\n",
        "import seaborn as sns\n",
        "\n",
        "# Set style for better visuals\n",
        "sns.set(style=\"whitegrid\")\n",
        "\n",
        "# Create scatter plot\n",
        "plt.figure(figsize=(10, 6))\n",
        "sns.scatterplot(\n",
        "    data=df_merged,\n",
        "    x='production_budget',\n",
        "    y='worldwide_gross',\n",
        "    color='mediumseagreen',\n",
        "    alpha=0.6,\n",
        "    edgecolor='black'\n",
        ")\n",
        "\n",
        "# Add trend line\n",
        "sns.regplot(\n",
        "    data=df_merged,\n",
        "    x='production_budget',\n",
        "    y='worldwide_gross',\n",
        "    scatter=False,\n",
        "    color='darkgreen',\n",
        "    line_kws={'linestyle': '--'}\n",
        ")\n",
        "\n",
        "# Formatting\n",
        "plt.title('Production Budget vs. Worldwide Gross Revenue', fontsize=16, fontweight='bold')\n",
        "plt.xlabel('Production Budget ($)', fontsize=12)\n",
        "plt.ylabel('Worldwide Gross Revenue ($)', fontsize=12)\n",
        "plt.xticks(fontsize=10)\n",
        "plt.yticks(fontsize=10)\n",
        "plt.grid(True, linestyle='--', alpha=0.7)\n",
        "plt.tight_layout()\n",
        "plt.show()\n"
      ]
    },
    {
      "cell_type": "markdown",
      "metadata": {
        "id": "GxspPW8yinTZ"
      },
      "source": [
        "**Reasoning**:\n",
        "Create a scatter plot to visualize the relationship between the aggregated review score and worldwide gross revenue.\n",
        "\n"
      ]
    },
    {
      "cell_type": "code",
      "execution_count": null,
      "metadata": {
        "colab": {
          "base_uri": "https://localhost:8080/",
          "height": 564
        },
        "id": "0ndAhf8GinlS",
        "outputId": "86b578f1-b322-4c6d-9445-a1784450b1c7"
      },
      "outputs": [
        {
          "data": {
            "image/png": "[encoded data removed]",
            "text/plain": [
              "<Figure size 800x600 with 1 Axes>"
            ]
          },
          "metadata": {},
          "output_type": "display_data"
        }
      ],
      "source": [
        "\n",
        "# Set a professional visual style\n",
        "sns.set(style=\"whitegrid\")\n",
        "\n",
        "# Create scatter plot\n",
        "plt.figure(figsize=(10, 6))\n",
        "sns.scatterplot(\n",
        "    data=df_merged,\n",
        "    x='aggregated_review_score',\n",
        "    y='worldwide_gross',\n",
        "    color='mediumorchid',\n",
        "    alpha=0.6,\n",
        "    edgecolor='black'\n",
        ")\n",
        "\n",
        "# Add trendline for interpretability\n",
        "sns.regplot(\n",
        "    data=df_merged,\n",
        "    x='aggregated_review_score',\n",
        "    y='worldwide_gross',\n",
        "    scatter=False,\n",
        "    color='darkviolet',\n",
        "   line_kws={'linestyle': '--', 'linewidth': 2}\n",
        ")\n",
        "\n",
        "# Title and labels\n",
        "plt.title('Impact of Review Scores on Worldwide Gross Revenue', fontsize=16, fontweight='bold')\n",
        "plt.xlabel('Aggregated Review Score (0–100)', fontsize=12)\n",
        "plt.ylabel('Worldwide Gross Revenue ($)', fontsize=12)\n",
        "plt.xticks(fontsize=10)\n",
        "plt.yticks(fontsize=10)\n",
        "\n",
        "# Grid and layout\n",
        "plt.grid(True, linestyle='--', alpha=0.7)\n",
        "plt.tight_layout()\n",
        "plt.show()"
      ]
    },
    {
      "cell_type": "markdown",
      "metadata": {},
      "source": [
        "## 📌 Summary\n",
        "\n",
        "###  Key Business Questions Answered\n",
        "\n",
        "* **What are the most and least profitable movie genres?**  \n",
        "  Unfortunately, this analysis could not be completed due to missing or inconsistent genre information across datasets. The final merged dataframe did not contain a usable genre column, which limits our ability to evaluate the performance of specific film genres.\n",
        "\n",
        "* **What is the relationship between movie budget and revenue?**  \n",
        "  Our analysis revealed a strong positive correlation (~0.75) between a movie’s production budget and its worldwide gross revenue. This suggests that, in general, larger financial investments are associated with higher box office returns—though this does not guarantee profitability.\n",
        "\n",
        "* **How do review scores affect movie revenue?**  \n",
        "  We identified a weak but positive correlation (~0.14) between aggregated review scores and worldwide revenue. This indicates that while critical reception may play a role in a film’s financial success, it is not a primary driver compared to budget.\n",
        "\n",
        "* **Which studios consistently deliver high-grossing films?**  \n",
        "  By analyzing the average total gross revenue by studio, we identified a small number of studios that consistently outperform others. One studio HC, stood out with a significantly higher average gross, making it an ideal model for benchmarking or partnership consideration.\n",
        "\n",
        "\n",
        "\n",
        "###  Data Analysis – Key Findings\n",
        "\n",
        "* **Production Budget is a Major Driver of Revenue:**  \n",
        "  Higher production budgets strongly correlate with increased worldwide gross, suggesting that investing in talent, production quality, and marketing can pay off commercially.\n",
        "\n",
        "* **Critical Reception Has Limited Influence on Revenue:**  \n",
        "  Review scores (aggregated from IMDb, Rotten Tomatoes, and TMDb) show only a mild positive relationship with gross revenue, meaning strong reviews alone don't drive commercial success—but may play a supportive role.\n",
        "\n",
        "* **Studio Performance Is Uneven:**  \n",
        "  The top-performing studio outpaces its competitors by a large margin in average revenue. A steep drop-off follows, with other studios forming a second tier. This stratification reveals clear industry leaders that should guide partnership or acquisition strategies.\n",
        "\n",
        "* **Genre Analysis Was Incomplete:**  \n",
        "  The lack of reliable genre data limited our ability to analyze profitability by genre. This remains a key blind spot for strategic content planning.\n",
        "\n",
        "\n",
        "\n",
        "### 🔮 Strategic Insights & Next Steps\n",
        "\n",
        "* **Target High-Performing Studios for Collaboration or Benchmarking:**  \n",
        "  The leading studio identified in the analysis could serve as a model for strategy, including production scale, release timing, and genre focus. Mid-tier studios may offer co-production or distribution opportunities for market entry.\n",
        "\n",
        "* **Incorporate Genre Data Strategically:**  \n",
        "  Understanding which types of films consistently succeed is vital. We recommend reprocessing existing data or enriching it with external APIs (e.g., TMDb or IMDb) to ensure accurate genre information for future analysis.\n",
        "\n",
        "* **Leverage Predictive Modeling:**  \n",
        "  Move beyond correlation analysis toward predictive tools(e.g., regression or machine learning) to estimate ROI, manage budget allocations, and guide investment decisions for future projects.\n",
        "\n",
        "* **Balance Risk with Budget Strategy:**  \n",
        "  Given the strong budget-revenue link, the studio may prioritize fewer, higher-budget productions with strong box office potential, while also backing medium-budget films with promising indicators (e.g., cast, IP, early buzz).\n",
        "\n",
        "* **Monitor Reviews for Post-Release Optimization:**  \n",
        "  While reviews are not a primary driver of revenue, they can impact sustained performance. Consider leveraging review sentiment to fine-tune marketing campaigns and determine platform expansion strategies.\n",
        "  \n",
        "  \n",
        "\n",
        "---\n",
        "\n",
        "This refined summary provides the new studio with a data-informed strategic foundation, highlighting key revenue drivers, potential industry partners, and clear paths for deeper analysis and growth.\n"
      ]
    }
  ],
  "metadata": {
    "colab": {
      "provenance": []
    },
    "kernelspec": {
      "display_name": "learn-env",
      "language": "python",
      "name": "python3"
    },
    "language_info": {
      "codemirror_mode": {
        "name": "ipython",
        "version": 3
      },
      "file_extension": ".py",
      "mimetype": "text/x-python",
      "name": "python",
      "nbconvert_exporter": "python",
      "pygments_lexer": "ipython3",
      "version": "3.8.5"
    }
  },
  "nbformat": 4,
  "nbformat_minor": 0
}
